{
 "cells": [
  {
   "cell_type": "markdown",
   "id": "954021d0",
   "metadata": {
    "papermill": {
     "duration": 0.010211,
     "end_time": "2025-07-14T11:41:41.141898",
     "exception": false,
     "start_time": "2025-07-14T11:41:41.131687",
     "status": "completed"
    },
    "tags": []
   },
   "source": [
    "# Data Loading"
   ]
  },
  {
   "cell_type": "code",
   "execution_count": 1,
   "id": "51baae41",
   "metadata": {
    "_cell_guid": "b1076dfc-b9ad-4769-8c92-a6c4dae69d19",
    "_uuid": "8f2839f25d086af736a60e9eeb907d3b93b6e0e5",
    "execution": {
     "iopub.execute_input": "2025-07-14T11:41:41.160059Z",
     "iopub.status.busy": "2025-07-14T11:41:41.159720Z",
     "iopub.status.idle": "2025-07-14T11:41:43.086456Z",
     "shell.execute_reply": "2025-07-14T11:41:43.085700Z"
    },
    "papermill": {
     "duration": 1.937392,
     "end_time": "2025-07-14T11:41:43.088189",
     "exception": false,
     "start_time": "2025-07-14T11:41:41.150797",
     "status": "completed"
    },
    "tags": []
   },
   "outputs": [],
   "source": [
    "import os\n",
    "import pandas as pd"
   ]
  },
  {
   "cell_type": "code",
   "execution_count": 2,
   "id": "ddd0cf82",
   "metadata": {
    "execution": {
     "iopub.execute_input": "2025-07-14T11:41:43.106671Z",
     "iopub.status.busy": "2025-07-14T11:41:43.106224Z",
     "iopub.status.idle": "2025-07-14T11:41:43.140840Z",
     "shell.execute_reply": "2025-07-14T11:41:43.139861Z"
    },
    "papermill": {
     "duration": 0.046187,
     "end_time": "2025-07-14T11:41:43.142627",
     "exception": false,
     "start_time": "2025-07-14T11:41:43.096440",
     "status": "completed"
    },
    "tags": []
   },
   "outputs": [],
   "source": [
    "DF = pd.read_csv('/kaggle/input/hr-analytics-prediction/HR-Employee-Attrition.csv')"
   ]
  },
  {
   "cell_type": "code",
   "execution_count": 3,
   "id": "69990154",
   "metadata": {
    "execution": {
     "iopub.execute_input": "2025-07-14T11:41:43.160200Z",
     "iopub.status.busy": "2025-07-14T11:41:43.159869Z",
     "iopub.status.idle": "2025-07-14T11:41:43.182594Z",
     "shell.execute_reply": "2025-07-14T11:41:43.181783Z"
    },
    "papermill": {
     "duration": 0.033125,
     "end_time": "2025-07-14T11:41:43.184137",
     "exception": false,
     "start_time": "2025-07-14T11:41:43.151012",
     "status": "completed"
    },
    "tags": []
   },
   "outputs": [],
   "source": [
    "columns_to_drop = DF.columns[DF.nunique()==1]\n",
    "DF_cleaned = DF.drop(columns=columns_to_drop)"
   ]
  },
  {
   "cell_type": "markdown",
   "id": "53394609",
   "metadata": {
    "papermill": {
     "duration": 0.007635,
     "end_time": "2025-07-14T11:41:43.200322",
     "exception": false,
     "start_time": "2025-07-14T11:41:43.192687",
     "status": "completed"
    },
    "tags": []
   },
   "source": [
    "# Data Cleaning and Arrangement"
   ]
  },
  {
   "cell_type": "code",
   "execution_count": 4,
   "id": "626c1bfc",
   "metadata": {
    "execution": {
     "iopub.execute_input": "2025-07-14T11:41:43.217311Z",
     "iopub.status.busy": "2025-07-14T11:41:43.217025Z",
     "iopub.status.idle": "2025-07-14T11:41:43.226435Z",
     "shell.execute_reply": "2025-07-14T11:41:43.225479Z"
    },
    "papermill": {
     "duration": 0.019614,
     "end_time": "2025-07-14T11:41:43.227787",
     "exception": false,
     "start_time": "2025-07-14T11:41:43.208173",
     "status": "completed"
    },
    "tags": []
   },
   "outputs": [
    {
     "data": {
      "text/plain": [
       "Age                         0\n",
       "Attrition                   0\n",
       "BusinessTravel              0\n",
       "DailyRate                   0\n",
       "Department                  0\n",
       "DistanceFromHome            0\n",
       "Education                   0\n",
       "EducationField              0\n",
       "EmployeeNumber              0\n",
       "EnvironmentSatisfaction     0\n",
       "Gender                      0\n",
       "HourlyRate                  0\n",
       "JobInvolvement              0\n",
       "JobLevel                    0\n",
       "JobRole                     0\n",
       "JobSatisfaction             0\n",
       "MaritalStatus               0\n",
       "MonthlyIncome               0\n",
       "MonthlyRate                 0\n",
       "NumCompaniesWorked          0\n",
       "OverTime                    0\n",
       "PercentSalaryHike           0\n",
       "PerformanceRating           0\n",
       "RelationshipSatisfaction    0\n",
       "StockOptionLevel            0\n",
       "TotalWorkingYears           0\n",
       "TrainingTimesLastYear       0\n",
       "WorkLifeBalance             0\n",
       "YearsAtCompany              0\n",
       "YearsInCurrentRole          0\n",
       "YearsSinceLastPromotion     0\n",
       "YearsWithCurrManager        0\n",
       "dtype: int64"
      ]
     },
     "execution_count": 4,
     "metadata": {},
     "output_type": "execute_result"
    }
   ],
   "source": [
    "DF_cleaned.isna().sum()"
   ]
  },
  {
   "cell_type": "code",
   "execution_count": 5,
   "id": "5a51810f",
   "metadata": {
    "execution": {
     "iopub.execute_input": "2025-07-14T11:41:43.245957Z",
     "iopub.status.busy": "2025-07-14T11:41:43.245555Z",
     "iopub.status.idle": "2025-07-14T11:41:43.250068Z",
     "shell.execute_reply": "2025-07-14T11:41:43.249186Z"
    },
    "papermill": {
     "duration": 0.015658,
     "end_time": "2025-07-14T11:41:43.251708",
     "exception": false,
     "start_time": "2025-07-14T11:41:43.236050",
     "status": "completed"
    },
    "tags": []
   },
   "outputs": [],
   "source": [
    "def ManualOrdinalEncoding(dataframe, column, mapping):\n",
    "    encoded = dataframe[column].map(mapping)\n",
    "    dataframe[column] = encoded"
   ]
  },
  {
   "cell_type": "code",
   "execution_count": 6,
   "id": "5960927e",
   "metadata": {
    "execution": {
     "iopub.execute_input": "2025-07-14T11:41:43.269871Z",
     "iopub.status.busy": "2025-07-14T11:41:43.269229Z",
     "iopub.status.idle": "2025-07-14T11:41:43.274719Z",
     "shell.execute_reply": "2025-07-14T11:41:43.273926Z"
    },
    "papermill": {
     "duration": 0.015936,
     "end_time": "2025-07-14T11:41:43.276126",
     "exception": false,
     "start_time": "2025-07-14T11:41:43.260190",
     "status": "completed"
    },
    "tags": []
   },
   "outputs": [],
   "source": [
    "AttritionMap = {\"No\": 0, \"Yes\": 1}\n",
    "\n",
    "ManualOrdinalEncoding(DF_cleaned, \"Attrition\", AttritionMap)"
   ]
  },
  {
   "cell_type": "markdown",
   "id": "42312bc1",
   "metadata": {
    "papermill": {
     "duration": 0.007932,
     "end_time": "2025-07-14T11:41:43.292454",
     "exception": false,
     "start_time": "2025-07-14T11:41:43.284522",
     "status": "completed"
    },
    "tags": []
   },
   "source": [
    "## Ordinal Encoding"
   ]
  },
  {
   "cell_type": "code",
   "execution_count": 7,
   "id": "9b033fb9",
   "metadata": {
    "execution": {
     "iopub.execute_input": "2025-07-14T11:41:43.310175Z",
     "iopub.status.busy": "2025-07-14T11:41:43.309824Z",
     "iopub.status.idle": "2025-07-14T11:41:43.314178Z",
     "shell.execute_reply": "2025-07-14T11:41:43.313389Z"
    },
    "papermill": {
     "duration": 0.015008,
     "end_time": "2025-07-14T11:41:43.315510",
     "exception": false,
     "start_time": "2025-07-14T11:41:43.300502",
     "status": "completed"
    },
    "tags": []
   },
   "outputs": [],
   "source": [
    "Attrition_True = (DF_cleaned.Attrition == 1)"
   ]
  },
  {
   "cell_type": "markdown",
   "id": "ad72a3ec",
   "metadata": {
    "papermill": {
     "duration": 0.007813,
     "end_time": "2025-07-14T11:41:43.331605",
     "exception": false,
     "start_time": "2025-07-14T11:41:43.323792",
     "status": "completed"
    },
    "tags": []
   },
   "source": [
    "### Business Travel"
   ]
  },
  {
   "cell_type": "code",
   "execution_count": 8,
   "id": "ab5f12de",
   "metadata": {
    "execution": {
     "iopub.execute_input": "2025-07-14T11:41:43.348860Z",
     "iopub.status.busy": "2025-07-14T11:41:43.348583Z",
     "iopub.status.idle": "2025-07-14T11:41:43.357833Z",
     "shell.execute_reply": "2025-07-14T11:41:43.357116Z"
    },
    "papermill": {
     "duration": 0.01973,
     "end_time": "2025-07-14T11:41:43.359360",
     "exception": false,
     "start_time": "2025-07-14T11:41:43.339630",
     "status": "completed"
    },
    "tags": []
   },
   "outputs": [],
   "source": [
    "Non_Travel_Count = (DF_cleaned.BusinessTravel == \"Non-Travel\")\n",
    "Travel_Rarely_Count = (DF_cleaned.BusinessTravel == \"Travel_Rarely\")\n",
    "Travel_Frequently_Count = (DF_cleaned.BusinessTravel == \"Travel_Frequently\")\n",
    "\n",
    "Non_Travel_Attrition_Count = DF_cleaned[Non_Travel_Count&Attrition_True].shape[0]\n",
    "Travel_Rarely_Attrition_Count = DF_cleaned[Travel_Rarely_Count&Attrition_True].shape[0]\n",
    "Travel_Frequently_Attrition_Count = DF_cleaned[Travel_Frequently_Count&Attrition_True].shape[0]"
   ]
  },
  {
   "cell_type": "code",
   "execution_count": 9,
   "id": "ad4d46a2",
   "metadata": {
    "execution": {
     "iopub.execute_input": "2025-07-14T11:41:43.377330Z",
     "iopub.status.busy": "2025-07-14T11:41:43.377058Z",
     "iopub.status.idle": "2025-07-14T11:41:43.382873Z",
     "shell.execute_reply": "2025-07-14T11:41:43.381863Z"
    },
    "papermill": {
     "duration": 0.016796,
     "end_time": "2025-07-14T11:41:43.384298",
     "exception": false,
     "start_time": "2025-07-14T11:41:43.367502",
     "status": "completed"
    },
    "tags": []
   },
   "outputs": [
    {
     "name": "stdout",
     "output_type": "stream",
     "text": [
      "150 1043 277\n",
      "12 156 69\n"
     ]
    }
   ],
   "source": [
    "print(Non_Travel_Count.sum(), Travel_Rarely_Count.sum(), Travel_Frequently_Count.sum())\n",
    "print(Non_Travel_Attrition_Count, Travel_Rarely_Attrition_Count, Travel_Frequently_Attrition_Count)"
   ]
  },
  {
   "cell_type": "code",
   "execution_count": 10,
   "id": "0cc2efbb",
   "metadata": {
    "execution": {
     "iopub.execute_input": "2025-07-14T11:41:43.403510Z",
     "iopub.status.busy": "2025-07-14T11:41:43.402682Z",
     "iopub.status.idle": "2025-07-14T11:41:43.407908Z",
     "shell.execute_reply": "2025-07-14T11:41:43.406925Z"
    },
    "papermill": {
     "duration": 0.016889,
     "end_time": "2025-07-14T11:41:43.409376",
     "exception": false,
     "start_time": "2025-07-14T11:41:43.392487",
     "status": "completed"
    },
    "tags": []
   },
   "outputs": [
    {
     "name": "stdout",
     "output_type": "stream",
     "text": [
      "0.14956855225311602 0.2490974729241877\n"
     ]
    }
   ],
   "source": [
    "Travel_Rarely_Frequency = Travel_Rarely_Attrition_Count/Travel_Rarely_Count.sum()\n",
    "Travel_Frequently_Frequency = Travel_Frequently_Attrition_Count/Travel_Frequently_Count.sum()\n",
    "\n",
    "print(Travel_Rarely_Frequency, Travel_Frequently_Frequency)"
   ]
  },
  {
   "cell_type": "code",
   "execution_count": 11,
   "id": "cd5ce982",
   "metadata": {
    "execution": {
     "iopub.execute_input": "2025-07-14T11:41:43.427768Z",
     "iopub.status.busy": "2025-07-14T11:41:43.427485Z",
     "iopub.status.idle": "2025-07-14T11:41:43.432848Z",
     "shell.execute_reply": "2025-07-14T11:41:43.432121Z"
    },
    "papermill": {
     "duration": 0.01603,
     "end_time": "2025-07-14T11:41:43.434322",
     "exception": false,
     "start_time": "2025-07-14T11:41:43.418292",
     "status": "completed"
    },
    "tags": []
   },
   "outputs": [],
   "source": [
    "BusinessTravelMap = {\"Non-Travel\": 0, \"Travel_Rarely\": 1, \"Travel_Frequently\": 2}\n",
    "\n",
    "ManualOrdinalEncoding(DF_cleaned, \"BusinessTravel\", BusinessTravelMap)"
   ]
  },
  {
   "cell_type": "markdown",
   "id": "b9cbd625",
   "metadata": {
    "papermill": {
     "duration": 0.008101,
     "end_time": "2025-07-14T11:41:43.451193",
     "exception": false,
     "start_time": "2025-07-14T11:41:43.443092",
     "status": "completed"
    },
    "tags": []
   },
   "source": [
    "### OverTime"
   ]
  },
  {
   "cell_type": "code",
   "execution_count": 12,
   "id": "caa7389a",
   "metadata": {
    "execution": {
     "iopub.execute_input": "2025-07-14T11:41:43.533694Z",
     "iopub.status.busy": "2025-07-14T11:41:43.532836Z",
     "iopub.status.idle": "2025-07-14T11:41:43.539183Z",
     "shell.execute_reply": "2025-07-14T11:41:43.538447Z"
    },
    "papermill": {
     "duration": 0.081671,
     "end_time": "2025-07-14T11:41:43.541064",
     "exception": false,
     "start_time": "2025-07-14T11:41:43.459393",
     "status": "completed"
    },
    "tags": []
   },
   "outputs": [
    {
     "data": {
      "text/plain": [
       "array(['Yes', 'No'], dtype=object)"
      ]
     },
     "execution_count": 12,
     "metadata": {},
     "output_type": "execute_result"
    }
   ],
   "source": [
    "DF_cleaned.OverTime.unique()"
   ]
  },
  {
   "cell_type": "code",
   "execution_count": 13,
   "id": "547c6f5b",
   "metadata": {
    "execution": {
     "iopub.execute_input": "2025-07-14T11:41:43.559902Z",
     "iopub.status.busy": "2025-07-14T11:41:43.559010Z",
     "iopub.status.idle": "2025-07-14T11:41:43.566526Z",
     "shell.execute_reply": "2025-07-14T11:41:43.565793Z"
    },
    "papermill": {
     "duration": 0.018361,
     "end_time": "2025-07-14T11:41:43.568099",
     "exception": false,
     "start_time": "2025-07-14T11:41:43.549738",
     "status": "completed"
    },
    "tags": []
   },
   "outputs": [],
   "source": [
    "Over_Time_False_Count = (DF_cleaned.OverTime == \"No\")\n",
    "Over_Time_True_Count = (DF_cleaned.OverTime == \"Yes\")\n",
    "\n",
    "Over_Time_False_Attrition_Count = DF_cleaned[Over_Time_False_Count&Attrition_True].shape[0]\n",
    "Over_Time_True_Attrition_Count = DF_cleaned[Over_Time_True_Count&Attrition_True].shape[0]"
   ]
  },
  {
   "cell_type": "code",
   "execution_count": 14,
   "id": "1d78fe57",
   "metadata": {
    "execution": {
     "iopub.execute_input": "2025-07-14T11:41:43.586349Z",
     "iopub.status.busy": "2025-07-14T11:41:43.585735Z",
     "iopub.status.idle": "2025-07-14T11:41:43.591114Z",
     "shell.execute_reply": "2025-07-14T11:41:43.590061Z"
    },
    "papermill": {
     "duration": 0.016068,
     "end_time": "2025-07-14T11:41:43.592536",
     "exception": false,
     "start_time": "2025-07-14T11:41:43.576468",
     "status": "completed"
    },
    "tags": []
   },
   "outputs": [
    {
     "name": "stdout",
     "output_type": "stream",
     "text": [
      "0.10436432637571158 0.30528846153846156\n"
     ]
    }
   ],
   "source": [
    "Over_Time_False_Frequency = Over_Time_False_Attrition_Count/Over_Time_False_Count.sum()\n",
    "Over_Time_True_Frequency = Over_Time_True_Attrition_Count/Over_Time_True_Count.sum()\n",
    "\n",
    "print(Over_Time_False_Frequency, Over_Time_True_Frequency)"
   ]
  },
  {
   "cell_type": "code",
   "execution_count": 15,
   "id": "f1dca179",
   "metadata": {
    "execution": {
     "iopub.execute_input": "2025-07-14T11:41:43.612083Z",
     "iopub.status.busy": "2025-07-14T11:41:43.611386Z",
     "iopub.status.idle": "2025-07-14T11:41:43.617019Z",
     "shell.execute_reply": "2025-07-14T11:41:43.616131Z"
    },
    "papermill": {
     "duration": 0.017347,
     "end_time": "2025-07-14T11:41:43.618715",
     "exception": false,
     "start_time": "2025-07-14T11:41:43.601368",
     "status": "completed"
    },
    "tags": []
   },
   "outputs": [],
   "source": [
    "OverTimeMap = {\"No\": 0, \"Yes\": 1}\n",
    "\n",
    "ManualOrdinalEncoding(DF_cleaned, \"OverTime\", OverTimeMap)"
   ]
  },
  {
   "cell_type": "markdown",
   "id": "53e053c7",
   "metadata": {
    "papermill": {
     "duration": 0.008478,
     "end_time": "2025-07-14T11:41:43.636134",
     "exception": false,
     "start_time": "2025-07-14T11:41:43.627656",
     "status": "completed"
    },
    "tags": []
   },
   "source": [
    "### MaritalStatus"
   ]
  },
  {
   "cell_type": "code",
   "execution_count": 16,
   "id": "31de10e1",
   "metadata": {
    "execution": {
     "iopub.execute_input": "2025-07-14T11:41:43.655344Z",
     "iopub.status.busy": "2025-07-14T11:41:43.654506Z",
     "iopub.status.idle": "2025-07-14T11:41:43.660734Z",
     "shell.execute_reply": "2025-07-14T11:41:43.659750Z"
    },
    "papermill": {
     "duration": 0.017171,
     "end_time": "2025-07-14T11:41:43.662240",
     "exception": false,
     "start_time": "2025-07-14T11:41:43.645069",
     "status": "completed"
    },
    "tags": []
   },
   "outputs": [
    {
     "data": {
      "text/plain": [
       "array(['Single', 'Married', 'Divorced'], dtype=object)"
      ]
     },
     "execution_count": 16,
     "metadata": {},
     "output_type": "execute_result"
    }
   ],
   "source": [
    "DF_cleaned.MaritalStatus.unique()"
   ]
  },
  {
   "cell_type": "code",
   "execution_count": 17,
   "id": "1b8fb1cc",
   "metadata": {
    "execution": {
     "iopub.execute_input": "2025-07-14T11:41:43.681177Z",
     "iopub.status.busy": "2025-07-14T11:41:43.680512Z",
     "iopub.status.idle": "2025-07-14T11:41:43.688767Z",
     "shell.execute_reply": "2025-07-14T11:41:43.687957Z"
    },
    "papermill": {
     "duration": 0.018963,
     "end_time": "2025-07-14T11:41:43.690174",
     "exception": false,
     "start_time": "2025-07-14T11:41:43.671211",
     "status": "completed"
    },
    "tags": []
   },
   "outputs": [],
   "source": [
    "Marital_Status_Single_Count = (DF_cleaned.MaritalStatus == \"Single\")\n",
    "Marital_Status_Married_Count = (DF_cleaned.MaritalStatus == \"Married\")\n",
    "Marital_Status_Divorced_Count = (DF_cleaned.MaritalStatus == \"Divorced\")\n",
    "\n",
    "Marital_Status_Single_Attrition_Count = DF_cleaned[Marital_Status_Single_Count&Attrition_True].shape[0]\n",
    "Marital_Status_Married_Attrition_Count = DF_cleaned[Marital_Status_Married_Count&Attrition_True].shape[0]\n",
    "Marital_Status_Divorced_Attrition_Count = DF_cleaned[Marital_Status_Divorced_Count&Attrition_True].shape[0]"
   ]
  },
  {
   "cell_type": "code",
   "execution_count": 18,
   "id": "6c14280c",
   "metadata": {
    "execution": {
     "iopub.execute_input": "2025-07-14T11:41:43.708746Z",
     "iopub.status.busy": "2025-07-14T11:41:43.708439Z",
     "iopub.status.idle": "2025-07-14T11:41:43.712967Z",
     "shell.execute_reply": "2025-07-14T11:41:43.712247Z"
    },
    "papermill": {
     "duration": 0.015549,
     "end_time": "2025-07-14T11:41:43.714293",
     "exception": false,
     "start_time": "2025-07-14T11:41:43.698744",
     "status": "completed"
    },
    "tags": []
   },
   "outputs": [],
   "source": [
    "Marital_Status_Single_Frequency = Marital_Status_Single_Attrition_Count/Marital_Status_Single_Count.sum()\n",
    "Marital_Status_Married_Frequency = Marital_Status_Married_Attrition_Count/Marital_Status_Married_Count.sum()\n",
    "Marital_Status_Divorced_Frequency = Marital_Status_Divorced_Attrition_Count/Marital_Status_Divorced_Count.sum()"
   ]
  },
  {
   "cell_type": "code",
   "execution_count": 19,
   "id": "1682a28a",
   "metadata": {
    "execution": {
     "iopub.execute_input": "2025-07-14T11:41:43.732389Z",
     "iopub.status.busy": "2025-07-14T11:41:43.732128Z",
     "iopub.status.idle": "2025-07-14T11:41:43.736846Z",
     "shell.execute_reply": "2025-07-14T11:41:43.735798Z"
    },
    "papermill": {
     "duration": 0.015381,
     "end_time": "2025-07-14T11:41:43.738245",
     "exception": false,
     "start_time": "2025-07-14T11:41:43.722864",
     "status": "completed"
    },
    "tags": []
   },
   "outputs": [
    {
     "name": "stdout",
     "output_type": "stream",
     "text": [
      "0.2553191489361702 0.12481426448736999 0.10091743119266056\n"
     ]
    }
   ],
   "source": [
    "print(Marital_Status_Single_Frequency, Marital_Status_Married_Frequency, Marital_Status_Divorced_Frequency)"
   ]
  },
  {
   "cell_type": "code",
   "execution_count": 20,
   "id": "9c023e56",
   "metadata": {
    "execution": {
     "iopub.execute_input": "2025-07-14T11:41:43.757416Z",
     "iopub.status.busy": "2025-07-14T11:41:43.756662Z",
     "iopub.status.idle": "2025-07-14T11:41:43.762060Z",
     "shell.execute_reply": "2025-07-14T11:41:43.761310Z"
    },
    "papermill": {
     "duration": 0.016568,
     "end_time": "2025-07-14T11:41:43.763366",
     "exception": false,
     "start_time": "2025-07-14T11:41:43.746798",
     "status": "completed"
    },
    "tags": []
   },
   "outputs": [],
   "source": [
    "MaritalStatusMap = {\"Single\": 2, \"Married\": 1, \"Divorced\": 0}\n",
    "\n",
    "ManualOrdinalEncoding(DF_cleaned, \"MaritalStatus\", MaritalStatusMap)"
   ]
  },
  {
   "cell_type": "markdown",
   "id": "e99b72e4",
   "metadata": {
    "papermill": {
     "duration": 0.008112,
     "end_time": "2025-07-14T11:41:43.780118",
     "exception": false,
     "start_time": "2025-07-14T11:41:43.772006",
     "status": "completed"
    },
    "tags": []
   },
   "source": [
    "## Label Encoding"
   ]
  },
  {
   "cell_type": "code",
   "execution_count": 21,
   "id": "e6e42a0a",
   "metadata": {
    "execution": {
     "iopub.execute_input": "2025-07-14T11:41:43.798734Z",
     "iopub.status.busy": "2025-07-14T11:41:43.798448Z",
     "iopub.status.idle": "2025-07-14T11:41:45.159961Z",
     "shell.execute_reply": "2025-07-14T11:41:45.159211Z"
    },
    "papermill": {
     "duration": 1.373112,
     "end_time": "2025-07-14T11:41:45.161569",
     "exception": false,
     "start_time": "2025-07-14T11:41:43.788457",
     "status": "completed"
    },
    "tags": []
   },
   "outputs": [],
   "source": [
    "from sklearn.preprocessing import LabelEncoder"
   ]
  },
  {
   "cell_type": "code",
   "execution_count": 22,
   "id": "eeb95496",
   "metadata": {
    "execution": {
     "iopub.execute_input": "2025-07-14T11:41:45.182380Z",
     "iopub.status.busy": "2025-07-14T11:41:45.181938Z",
     "iopub.status.idle": "2025-07-14T11:41:45.186500Z",
     "shell.execute_reply": "2025-07-14T11:41:45.185711Z"
    },
    "papermill": {
     "duration": 0.016411,
     "end_time": "2025-07-14T11:41:45.187993",
     "exception": false,
     "start_time": "2025-07-14T11:41:45.171582",
     "status": "completed"
    },
    "tags": []
   },
   "outputs": [],
   "source": [
    "LE = LabelEncoder()"
   ]
  },
  {
   "cell_type": "code",
   "execution_count": 23,
   "id": "669dace2",
   "metadata": {
    "execution": {
     "iopub.execute_input": "2025-07-14T11:41:45.206786Z",
     "iopub.status.busy": "2025-07-14T11:41:45.206085Z",
     "iopub.status.idle": "2025-07-14T11:41:45.213253Z",
     "shell.execute_reply": "2025-07-14T11:41:45.212429Z"
    },
    "papermill": {
     "duration": 0.018048,
     "end_time": "2025-07-14T11:41:45.214685",
     "exception": false,
     "start_time": "2025-07-14T11:41:45.196637",
     "status": "completed"
    },
    "tags": []
   },
   "outputs": [],
   "source": [
    "num_col = DF_cleaned.select_dtypes(exclude='object').columns\n",
    "cat_col = DF_cleaned.select_dtypes(include='object').columns"
   ]
  },
  {
   "cell_type": "code",
   "execution_count": 24,
   "id": "662c6559",
   "metadata": {
    "execution": {
     "iopub.execute_input": "2025-07-14T11:41:45.233002Z",
     "iopub.status.busy": "2025-07-14T11:41:45.232673Z",
     "iopub.status.idle": "2025-07-14T11:41:45.240863Z",
     "shell.execute_reply": "2025-07-14T11:41:45.239934Z"
    },
    "papermill": {
     "duration": 0.018929,
     "end_time": "2025-07-14T11:41:45.242296",
     "exception": false,
     "start_time": "2025-07-14T11:41:45.223367",
     "status": "completed"
    },
    "tags": []
   },
   "outputs": [],
   "source": [
    "for col in cat_col:\n",
    "    DF_cleaned[col] = LE.fit_transform(DF_cleaned[col])"
   ]
  },
  {
   "cell_type": "markdown",
   "id": "f2ca07c0",
   "metadata": {
    "papermill": {
     "duration": 0.008328,
     "end_time": "2025-07-14T11:41:45.259317",
     "exception": false,
     "start_time": "2025-07-14T11:41:45.250989",
     "status": "completed"
    },
    "tags": []
   },
   "source": [
    "# Exploratory Data Anlaysis"
   ]
  },
  {
   "cell_type": "code",
   "execution_count": 25,
   "id": "fab6cd8f",
   "metadata": {
    "execution": {
     "iopub.execute_input": "2025-07-14T11:41:45.277875Z",
     "iopub.status.busy": "2025-07-14T11:41:45.277172Z",
     "iopub.status.idle": "2025-07-14T11:41:45.872701Z",
     "shell.execute_reply": "2025-07-14T11:41:45.871849Z"
    },
    "papermill": {
     "duration": 0.606695,
     "end_time": "2025-07-14T11:41:45.874404",
     "exception": false,
     "start_time": "2025-07-14T11:41:45.267709",
     "status": "completed"
    },
    "tags": []
   },
   "outputs": [],
   "source": [
    "import warnings\n",
    "import seaborn as sns\n",
    "import matplotlib.pyplot as plt"
   ]
  },
  {
   "cell_type": "code",
   "execution_count": 26,
   "id": "6229a58c",
   "metadata": {
    "execution": {
     "iopub.execute_input": "2025-07-14T11:41:45.894450Z",
     "iopub.status.busy": "2025-07-14T11:41:45.893419Z",
     "iopub.status.idle": "2025-07-14T11:41:45.898056Z",
     "shell.execute_reply": "2025-07-14T11:41:45.897223Z"
    },
    "papermill": {
     "duration": 0.016373,
     "end_time": "2025-07-14T11:41:45.899564",
     "exception": false,
     "start_time": "2025-07-14T11:41:45.883191",
     "status": "completed"
    },
    "tags": []
   },
   "outputs": [],
   "source": [
    "warnings.simplefilter(action=\"ignore\", category=FutureWarning)"
   ]
  },
  {
   "cell_type": "markdown",
   "id": "debd836b",
   "metadata": {
    "papermill": {
     "duration": 0.008094,
     "end_time": "2025-07-14T11:41:45.916335",
     "exception": false,
     "start_time": "2025-07-14T11:41:45.908241",
     "status": "completed"
    },
    "tags": []
   },
   "source": [
    "## Attrition Status"
   ]
  },
  {
   "cell_type": "code",
   "execution_count": 27,
   "id": "af82504b",
   "metadata": {
    "execution": {
     "iopub.execute_input": "2025-07-14T11:41:45.934295Z",
     "iopub.status.busy": "2025-07-14T11:41:45.933993Z",
     "iopub.status.idle": "2025-07-14T11:41:46.179044Z",
     "shell.execute_reply": "2025-07-14T11:41:46.178029Z"
    },
    "papermill": {
     "duration": 0.255854,
     "end_time": "2025-07-14T11:41:46.180582",
     "exception": false,
     "start_time": "2025-07-14T11:41:45.924728",
     "status": "completed"
    },
    "tags": []
   },
   "outputs": [
    {
     "data": {
      "image/png": "[encoded data removed]",
      "text/plain": [
       "<Figure size 500x400 with 1 Axes>"
      ]
     },
     "metadata": {},
     "output_type": "display_data"
    }
   ],
   "source": [
    "plt.figure(figsize=(5,4))\n",
    "custom_colour_scheme = {0: \"green\", 1: \"red\"}\n",
    "\n",
    "ax = sns.countplot(x=\"Attrition\", data=DF_cleaned, palette=custom_colour_scheme, width=0.25)\n",
    "plt.xticks(ticks=[0, 1], labels=[\"No Attrition\", \"Attrition\"])\n",
    "\n",
    "plt.title(\"Attrition Status Count\")\n",
    "plt.xlabel(\"Attrition Status\")\n",
    "plt.ylabel(\"Count\")\n",
    "\n",
    "for p in ax.patches:\n",
    "    height = p.get_height()\n",
    "    ax.annotate(\n",
    "        f'{int(height)}',\n",
    "        xy=(p.get_x() + p.get_width()/2, height),\n",
    "        ha=\"center\",\n",
    "        va=\"top\",\n",
    "        xytext=(0, -5),\n",
    "        textcoords=\"offset points\",\n",
    "        fontsize=8,\n",
    "        color=\"white\"\n",
    "                )\n",
    "\n",
    "plt.show()"
   ]
  },
  {
   "cell_type": "markdown",
   "id": "d5c0d2dd",
   "metadata": {
    "papermill": {
     "duration": 0.009485,
     "end_time": "2025-07-14T11:41:46.199241",
     "exception": false,
     "start_time": "2025-07-14T11:41:46.189756",
     "status": "completed"
    },
    "tags": []
   },
   "source": [
    "The data is imbalanced, therefore an upsampling must be conducted."
   ]
  },
  {
   "cell_type": "markdown",
   "id": "9e7fa639",
   "metadata": {
    "papermill": {
     "duration": 0.008482,
     "end_time": "2025-07-14T11:41:46.216861",
     "exception": false,
     "start_time": "2025-07-14T11:41:46.208379",
     "status": "completed"
    },
    "tags": []
   },
   "source": [
    "### Age-wise Attrition"
   ]
  },
  {
   "cell_type": "code",
   "execution_count": 28,
   "id": "a327ffb0",
   "metadata": {
    "execution": {
     "iopub.execute_input": "2025-07-14T11:41:46.235495Z",
     "iopub.status.busy": "2025-07-14T11:41:46.235193Z",
     "iopub.status.idle": "2025-07-14T11:41:46.511132Z",
     "shell.execute_reply": "2025-07-14T11:41:46.509972Z"
    },
    "papermill": {
     "duration": 0.287044,
     "end_time": "2025-07-14T11:41:46.512605",
     "exception": false,
     "start_time": "2025-07-14T11:41:46.225561",
     "status": "completed"
    },
    "tags": []
   },
   "outputs": [
    {
     "data": {
      "image/png": "[encoded data removed]",
      "text/plain": [
       "<Figure size 500x400 with 1 Axes>"
      ]
     },
     "metadata": {},
     "output_type": "display_data"
    }
   ],
   "source": [
    "plt.figure(figsize=(5,4))\n",
    "\n",
    "sns.histplot(\n",
    "    data=DF_cleaned,\n",
    "    x=\"Age\",\n",
    "    bins=21,\n",
    "    kde=False,\n",
    "    stat='density',\n",
    "    color='skyblue',\n",
    "    alpha=0.6,\n",
    "    label=\"Overall Employee Age Distribution\"\n",
    "            )\n",
    "\n",
    "sns.kdeplot(\n",
    "    data=DF_cleaned[DF_cleaned.Attrition==1],\n",
    "    x=\"Age\",\n",
    "    color=\"red\",\n",
    "    linewidth=2,\n",
    "    label=\"Age Distribution of Attrited Employees\"\n",
    "            )\n",
    "\n",
    "plt.xlim(DF_cleaned.Age.min()-2.5, DF_cleaned.Age.max()+2.5)\n",
    "\n",
    "plt.title(\"Age Distribution and Attrition Age Profile\")\n",
    "\n",
    "plt.tight_layout()\n",
    "plt.show()"
   ]
  },
  {
   "cell_type": "markdown",
   "id": "544f1606",
   "metadata": {
    "papermill": {
     "duration": 0.00915,
     "end_time": "2025-07-14T11:41:46.531342",
     "exception": false,
     "start_time": "2025-07-14T11:41:46.522192",
     "status": "completed"
    },
    "tags": []
   },
   "source": [
    "Age frequency data is right skewed, with a greater right skewness in attrition against the respective age bin."
   ]
  },
  {
   "cell_type": "markdown",
   "id": "9663c06f",
   "metadata": {
    "papermill": {
     "duration": 0.009075,
     "end_time": "2025-07-14T11:41:46.549779",
     "exception": false,
     "start_time": "2025-07-14T11:41:46.540704",
     "status": "completed"
    },
    "tags": []
   },
   "source": [
    "## Data Split"
   ]
  },
  {
   "cell_type": "code",
   "execution_count": 29,
   "id": "d3fe8aed",
   "metadata": {
    "execution": {
     "iopub.execute_input": "2025-07-14T11:41:46.569760Z",
     "iopub.status.busy": "2025-07-14T11:41:46.569474Z",
     "iopub.status.idle": "2025-07-14T11:41:46.686829Z",
     "shell.execute_reply": "2025-07-14T11:41:46.685953Z"
    },
    "papermill": {
     "duration": 0.129305,
     "end_time": "2025-07-14T11:41:46.688446",
     "exception": false,
     "start_time": "2025-07-14T11:41:46.559141",
     "status": "completed"
    },
    "tags": []
   },
   "outputs": [],
   "source": [
    "from sklearn.model_selection import train_test_split"
   ]
  },
  {
   "cell_type": "code",
   "execution_count": 30,
   "id": "5ae69961",
   "metadata": {
    "execution": {
     "iopub.execute_input": "2025-07-14T11:41:46.708682Z",
     "iopub.status.busy": "2025-07-14T11:41:46.708395Z",
     "iopub.status.idle": "2025-07-14T11:41:46.715530Z",
     "shell.execute_reply": "2025-07-14T11:41:46.714784Z"
    },
    "papermill": {
     "duration": 0.018909,
     "end_time": "2025-07-14T11:41:46.716974",
     "exception": false,
     "start_time": "2025-07-14T11:41:46.698065",
     "status": "completed"
    },
    "tags": []
   },
   "outputs": [],
   "source": [
    "DF_train, DF_test = train_test_split(DF_cleaned, test_size=0.25, train_size=None, random_state=None, shuffle=True, stratify=None)"
   ]
  },
  {
   "cell_type": "markdown",
   "id": "e82c172a",
   "metadata": {
    "papermill": {
     "duration": 0.009135,
     "end_time": "2025-07-14T11:41:46.735699",
     "exception": false,
     "start_time": "2025-07-14T11:41:46.726564",
     "status": "completed"
    },
    "tags": []
   },
   "source": [
    "## Upsample"
   ]
  },
  {
   "cell_type": "code",
   "execution_count": 31,
   "id": "02976430",
   "metadata": {
    "execution": {
     "iopub.execute_input": "2025-07-14T11:41:46.756049Z",
     "iopub.status.busy": "2025-07-14T11:41:46.755307Z",
     "iopub.status.idle": "2025-07-14T11:41:46.759544Z",
     "shell.execute_reply": "2025-07-14T11:41:46.758692Z"
    },
    "papermill": {
     "duration": 0.01615,
     "end_time": "2025-07-14T11:41:46.761121",
     "exception": false,
     "start_time": "2025-07-14T11:41:46.744971",
     "status": "completed"
    },
    "tags": []
   },
   "outputs": [],
   "source": [
    "from sklearn.utils import resample"
   ]
  },
  {
   "cell_type": "code",
   "execution_count": 32,
   "id": "67a7ba41",
   "metadata": {
    "execution": {
     "iopub.execute_input": "2025-07-14T11:41:46.781223Z",
     "iopub.status.busy": "2025-07-14T11:41:46.780877Z",
     "iopub.status.idle": "2025-07-14T11:41:46.788364Z",
     "shell.execute_reply": "2025-07-14T11:41:46.787400Z"
    },
    "papermill": {
     "duration": 0.019593,
     "end_time": "2025-07-14T11:41:46.790179",
     "exception": false,
     "start_time": "2025-07-14T11:41:46.770586",
     "status": "completed"
    },
    "tags": []
   },
   "outputs": [],
   "source": [
    "DF_train_minority = DF_train[DF_train['Attrition']==1]\n",
    "DF_train_majority = DF_train[DF_train['Attrition']==0]"
   ]
  },
  {
   "cell_type": "code",
   "execution_count": 33,
   "id": "88cfe82a",
   "metadata": {
    "execution": {
     "iopub.execute_input": "2025-07-14T11:41:46.811527Z",
     "iopub.status.busy": "2025-07-14T11:41:46.811218Z",
     "iopub.status.idle": "2025-07-14T11:41:46.818525Z",
     "shell.execute_reply": "2025-07-14T11:41:46.817683Z"
    },
    "papermill": {
     "duration": 0.019958,
     "end_time": "2025-07-14T11:41:46.819948",
     "exception": false,
     "start_time": "2025-07-14T11:41:46.799990",
     "status": "completed"
    },
    "tags": []
   },
   "outputs": [],
   "source": [
    "resampled_DF_train_minority = resample(DF_train_minority, replace=True, n_samples=len(DF_train_majority), random_state=42)"
   ]
  },
  {
   "cell_type": "code",
   "execution_count": 34,
   "id": "094878e1",
   "metadata": {
    "execution": {
     "iopub.execute_input": "2025-07-14T11:41:46.840511Z",
     "iopub.status.busy": "2025-07-14T11:41:46.840227Z",
     "iopub.status.idle": "2025-07-14T11:41:46.844534Z",
     "shell.execute_reply": "2025-07-14T11:41:46.843664Z"
    },
    "papermill": {
     "duration": 0.016586,
     "end_time": "2025-07-14T11:41:46.845960",
     "exception": false,
     "start_time": "2025-07-14T11:41:46.829374",
     "status": "completed"
    },
    "tags": []
   },
   "outputs": [],
   "source": [
    "from sklearn.utils import shuffle"
   ]
  },
  {
   "cell_type": "code",
   "execution_count": 35,
   "id": "3947b4e8",
   "metadata": {
    "execution": {
     "iopub.execute_input": "2025-07-14T11:41:46.866154Z",
     "iopub.status.busy": "2025-07-14T11:41:46.865798Z",
     "iopub.status.idle": "2025-07-14T11:41:46.873343Z",
     "shell.execute_reply": "2025-07-14T11:41:46.872439Z"
    },
    "papermill": {
     "duration": 0.019657,
     "end_time": "2025-07-14T11:41:46.875109",
     "exception": false,
     "start_time": "2025-07-14T11:41:46.855452",
     "status": "completed"
    },
    "tags": []
   },
   "outputs": [],
   "source": [
    "resampled_DF_train = pd.concat([resampled_DF_train_minority, DF_train_majority])\n",
    "resampled_DF_train = resampled_DF_train.sample(frac=1, random_state=42)"
   ]
  },
  {
   "cell_type": "code",
   "execution_count": 36,
   "id": "6708a4b6",
   "metadata": {
    "execution": {
     "iopub.execute_input": "2025-07-14T11:41:46.895505Z",
     "iopub.status.busy": "2025-07-14T11:41:46.895222Z",
     "iopub.status.idle": "2025-07-14T11:41:46.902940Z",
     "shell.execute_reply": "2025-07-14T11:41:46.902129Z"
    },
    "papermill": {
     "duration": 0.019779,
     "end_time": "2025-07-14T11:41:46.904441",
     "exception": false,
     "start_time": "2025-07-14T11:41:46.884662",
     "status": "completed"
    },
    "tags": []
   },
   "outputs": [],
   "source": [
    "X_train, y_train = resampled_DF_train.drop(\"Attrition\", axis=1, inplace=False), resampled_DF_train[\"Attrition\"]\n",
    "X_test, y_test = DF_test.drop(\"Attrition\", axis=1, inplace=False), DF_test[\"Attrition\"]"
   ]
  },
  {
   "cell_type": "markdown",
   "id": "fe7482f6",
   "metadata": {
    "papermill": {
     "duration": 0.009126,
     "end_time": "2025-07-14T11:41:46.923154",
     "exception": false,
     "start_time": "2025-07-14T11:41:46.914028",
     "status": "completed"
    },
    "tags": []
   },
   "source": [
    "# Model Training"
   ]
  },
  {
   "cell_type": "code",
   "execution_count": 37,
   "id": "3ddc564f",
   "metadata": {
    "execution": {
     "iopub.execute_input": "2025-07-14T11:41:46.943656Z",
     "iopub.status.busy": "2025-07-14T11:41:46.943377Z",
     "iopub.status.idle": "2025-07-14T11:41:47.624956Z",
     "shell.execute_reply": "2025-07-14T11:41:47.623942Z"
    },
    "papermill": {
     "duration": 0.693822,
     "end_time": "2025-07-14T11:41:47.626674",
     "exception": false,
     "start_time": "2025-07-14T11:41:46.932852",
     "status": "completed"
    },
    "tags": []
   },
   "outputs": [],
   "source": [
    "import optuna\n",
    "import numpy as np\n",
    "import pandas as pd\n",
    "from sklearn.model_selection import StratifiedKFold\n",
    "from sklearn.ensemble import RandomForestClassifier\n",
    "from sklearn.metrics import roc_auc_score, accuracy_score\n",
    "from sklearn.preprocessing import StandardScaler"
   ]
  },
  {
   "cell_type": "code",
   "execution_count": 38,
   "id": "0c68c461",
   "metadata": {
    "execution": {
     "iopub.execute_input": "2025-07-14T11:41:47.647447Z",
     "iopub.status.busy": "2025-07-14T11:41:47.647153Z",
     "iopub.status.idle": "2025-07-14T11:41:47.688618Z",
     "shell.execute_reply": "2025-07-14T11:41:47.687728Z"
    },
    "papermill": {
     "duration": 0.053907,
     "end_time": "2025-07-14T11:41:47.690324",
     "exception": false,
     "start_time": "2025-07-14T11:41:47.636417",
     "status": "completed"
    },
    "tags": []
   },
   "outputs": [],
   "source": [
    "scaler = StandardScaler()\n",
    "X_train_scaled = scaler.fit_transform(X_train)\n",
    "X_test_scaled = scaler.transform(X_test)"
   ]
  },
  {
   "cell_type": "code",
   "execution_count": 39,
   "id": "382ad1dd",
   "metadata": {
    "execution": {
     "iopub.execute_input": "2025-07-14T11:41:47.710452Z",
     "iopub.status.busy": "2025-07-14T11:41:47.710150Z",
     "iopub.status.idle": "2025-07-14T11:41:47.716823Z",
     "shell.execute_reply": "2025-07-14T11:41:47.715967Z"
    },
    "papermill": {
     "duration": 0.018578,
     "end_time": "2025-07-14T11:41:47.718440",
     "exception": false,
     "start_time": "2025-07-14T11:41:47.699862",
     "status": "completed"
    },
    "tags": []
   },
   "outputs": [],
   "source": [
    "def objective(trial):\n",
    "    \"\"\"\n",
    "    Objective function for Optuna to optimize.\n",
    "    It suggests hyperparameters, trains a RandomForestClassifier, \n",
    "    and returns the ROC AUC score on the test set.\n",
    "    \"\"\"\n",
    "    n_estimators = trial.suggest_int('n_estimators', 50, 500)\n",
    "    max_depth = trial.suggest_int('max_depth', 3, 20)\n",
    "    min_samples_leaf = trial.suggest_int('min_samples_leaf', 1, 10)\n",
    "    min_samples_split = trial.suggest_int('min_samples_split', 2, 20)\n",
    "    criterion = trial.suggest_categorical('criterion', ['gini', 'entropy'])\n",
    "\n",
    "    classifier = RandomForestClassifier(\n",
    "        n_estimators=n_estimators,\n",
    "        max_depth=max_depth,\n",
    "        min_samples_leaf=min_samples_leaf,\n",
    "        min_samples_split=min_samples_split,\n",
    "        criterion=criterion,\n",
    "        random_state=42,\n",
    "        n_jobs=-1\n",
    "    )\n",
    "\n",
    "    classifier.fit(X_train_scaled, y_train)\n",
    "\n",
    "    y_pred_proba = classifier.predict_proba(X_test_scaled)[:, 1]\n",
    "    \n",
    "    roc_auc = roc_auc_score(y_test, y_pred_proba)\n",
    "    \n",
    "    return roc_auc"
   ]
  },
  {
   "cell_type": "code",
   "execution_count": 40,
   "id": "6b1655e2",
   "metadata": {
    "execution": {
     "iopub.execute_input": "2025-07-14T11:41:47.738609Z",
     "iopub.status.busy": "2025-07-14T11:41:47.738339Z",
     "iopub.status.idle": "2025-07-14T11:42:40.497399Z",
     "shell.execute_reply": "2025-07-14T11:42:40.496356Z"
    },
    "papermill": {
     "duration": 52.770873,
     "end_time": "2025-07-14T11:42:40.498846",
     "exception": false,
     "start_time": "2025-07-14T11:41:47.727973",
     "status": "completed"
    },
    "tags": []
   },
   "outputs": [
    {
     "name": "stderr",
     "output_type": "stream",
     "text": [
      "[I 2025-07-14 11:41:47,740] A new study created in memory with name: no-name-b09cb55f-af66-4468-bb95-c7f8faf5df54\n"
     ]
    },
    {
     "name": "stdout",
     "output_type": "stream",
     "text": [
      "\n",
      "Starting hyperparameter optimization...\n"
     ]
    },
    {
     "name": "stderr",
     "output_type": "stream",
     "text": [
      "[I 2025-07-14 11:41:48,715] Trial 0 finished with value: 0.8266100495399858 and parameters: {'n_estimators': 314, 'max_depth': 4, 'min_samples_leaf': 4, 'min_samples_split': 5, 'criterion': 'entropy'}. Best is trial 0 with value: 0.8266100495399858.\n",
      "[I 2025-07-14 11:41:50,047] Trial 1 finished with value: 0.8321538098608161 and parameters: {'n_estimators': 393, 'max_depth': 11, 'min_samples_leaf': 6, 'min_samples_split': 8, 'criterion': 'gini'}. Best is trial 1 with value: 0.8321538098608161.\n",
      "[I 2025-07-14 11:41:51,478] Trial 2 finished with value: 0.8342769521113471 and parameters: {'n_estimators': 413, 'max_depth': 11, 'min_samples_leaf': 6, 'min_samples_split': 5, 'criterion': 'entropy'}. Best is trial 2 with value: 0.8342769521113471.\n",
      "[I 2025-07-14 11:41:52,473] Trial 3 finished with value: 0.8328025477707006 and parameters: {'n_estimators': 281, 'max_depth': 12, 'min_samples_leaf': 10, 'min_samples_split': 12, 'criterion': 'entropy'}. Best is trial 2 with value: 0.8342769521113471.\n",
      "[I 2025-07-14 11:41:53,605] Trial 4 finished with value: 0.8423566878980893 and parameters: {'n_estimators': 340, 'max_depth': 8, 'min_samples_leaf': 4, 'min_samples_split': 11, 'criterion': 'entropy'}. Best is trial 4 with value: 0.8423566878980893.\n",
      "[I 2025-07-14 11:41:53,941] Trial 5 finished with value: 0.8238971455531964 and parameters: {'n_estimators': 103, 'max_depth': 6, 'min_samples_leaf': 7, 'min_samples_split': 20, 'criterion': 'gini'}. Best is trial 4 with value: 0.8423566878980893.\n",
      "[I 2025-07-14 11:41:54,921] Trial 6 finished with value: 0.8329205001179524 and parameters: {'n_estimators': 294, 'max_depth': 20, 'min_samples_leaf': 9, 'min_samples_split': 17, 'criterion': 'entropy'}. Best is trial 4 with value: 0.8423566878980893.\n",
      "[I 2025-07-14 11:41:55,890] Trial 7 finished with value: 0.8379924510497759 and parameters: {'n_estimators': 277, 'max_depth': 19, 'min_samples_leaf': 2, 'min_samples_split': 16, 'criterion': 'entropy'}. Best is trial 4 with value: 0.8423566878980893.\n",
      "[I 2025-07-14 11:41:56,996] Trial 8 finished with value: 0.8369898560981364 and parameters: {'n_estimators': 325, 'max_depth': 18, 'min_samples_leaf': 10, 'min_samples_split': 17, 'criterion': 'entropy'}. Best is trial 4 with value: 0.8423566878980893.\n",
      "[I 2025-07-14 11:41:57,382] Trial 9 finished with value: 0.8225406935598017 and parameters: {'n_estimators': 101, 'max_depth': 15, 'min_samples_leaf': 2, 'min_samples_split': 2, 'criterion': 'entropy'}. Best is trial 4 with value: 0.8423566878980893.\n",
      "[I 2025-07-14 11:41:59,040] Trial 10 finished with value: 0.8312691672564284 and parameters: {'n_estimators': 493, 'max_depth': 8, 'min_samples_leaf': 4, 'min_samples_split': 12, 'criterion': 'gini'}. Best is trial 4 with value: 0.8423566878980893.\n",
      "[I 2025-07-14 11:41:59,742] Trial 11 finished with value: 0.8389950460014155 and parameters: {'n_estimators': 192, 'max_depth': 15, 'min_samples_leaf': 1, 'min_samples_split': 14, 'criterion': 'entropy'}. Best is trial 4 with value: 0.8423566878980893.\n",
      "[I 2025-07-14 11:42:00,439] Trial 12 finished with value: 0.8336282142014625 and parameters: {'n_estimators': 189, 'max_depth': 15, 'min_samples_leaf': 1, 'min_samples_split': 10, 'criterion': 'entropy'}. Best is trial 4 with value: 0.8423566878980893.\n",
      "[I 2025-07-14 11:42:01,127] Trial 13 finished with value: 0.8349846661948573 and parameters: {'n_estimators': 193, 'max_depth': 8, 'min_samples_leaf': 4, 'min_samples_split': 14, 'criterion': 'entropy'}. Best is trial 4 with value: 0.8423566878980893.\n",
      "[I 2025-07-14 11:42:01,958] Trial 14 finished with value: 0.827789573012503 and parameters: {'n_estimators': 226, 'max_depth': 15, 'min_samples_leaf': 1, 'min_samples_split': 9, 'criterion': 'gini'}. Best is trial 4 with value: 0.8423566878980893.\n",
      "[I 2025-07-14 11:42:03,107] Trial 15 finished with value: 0.8129275772587875 and parameters: {'n_estimators': 376, 'max_depth': 3, 'min_samples_leaf': 3, 'min_samples_split': 15, 'criterion': 'entropy'}. Best is trial 4 with value: 0.8423566878980893.\n",
      "[I 2025-07-14 11:42:03,636] Trial 16 finished with value: 0.8312101910828025 and parameters: {'n_estimators': 149, 'max_depth': 9, 'min_samples_leaf': 8, 'min_samples_split': 20, 'criterion': 'entropy'}. Best is trial 4 with value: 0.8423566878980893.\n",
      "[I 2025-07-14 11:42:03,922] Trial 17 finished with value: 0.8279075253597546 and parameters: {'n_estimators': 66, 'max_depth': 13, 'min_samples_leaf': 5, 'min_samples_split': 7, 'criterion': 'entropy'}. Best is trial 4 with value: 0.8423566878980893.\n",
      "[I 2025-07-14 11:42:04,661] Trial 18 finished with value: 0.8323307383816938 and parameters: {'n_estimators': 228, 'max_depth': 5, 'min_samples_leaf': 3, 'min_samples_split': 13, 'criterion': 'gini'}. Best is trial 4 with value: 0.8423566878980893.\n",
      "[I 2025-07-14 11:42:06,357] Trial 19 finished with value: 0.8340410474168436 and parameters: {'n_estimators': 478, 'max_depth': 17, 'min_samples_leaf': 2, 'min_samples_split': 11, 'criterion': 'entropy'}. Best is trial 4 with value: 0.8423566878980893.\n",
      "[I 2025-07-14 11:42:07,560] Trial 20 finished with value: 0.8316230242981835 and parameters: {'n_estimators': 349, 'max_depth': 9, 'min_samples_leaf': 5, 'min_samples_split': 18, 'criterion': 'entropy'}. Best is trial 4 with value: 0.8423566878980893.\n",
      "[I 2025-07-14 11:42:08,412] Trial 21 finished with value: 0.837166784619014 and parameters: {'n_estimators': 235, 'max_depth': 19, 'min_samples_leaf': 2, 'min_samples_split': 16, 'criterion': 'entropy'}. Best is trial 4 with value: 0.8423566878980893.\n",
      "[I 2025-07-14 11:42:09,379] Trial 22 finished with value: 0.8407643312101911 and parameters: {'n_estimators': 268, 'max_depth': 17, 'min_samples_leaf': 1, 'min_samples_split': 14, 'criterion': 'entropy'}. Best is trial 4 with value: 0.8423566878980893.\n",
      "[I 2025-07-14 11:42:10,947] Trial 23 finished with value: 0.8384642604387827 and parameters: {'n_estimators': 433, 'max_depth': 16, 'min_samples_leaf': 1, 'min_samples_split': 14, 'criterion': 'entropy'}. Best is trial 4 with value: 0.8423566878980893.\n",
      "[I 2025-07-14 11:42:11,605] Trial 24 finished with value: 0.8294409058740269 and parameters: {'n_estimators': 156, 'max_depth': 13, 'min_samples_leaf': 3, 'min_samples_split': 11, 'criterion': 'entropy'}. Best is trial 4 with value: 0.8423566878980893.\n",
      "[I 2025-07-14 11:42:12,590] Trial 25 finished with value: 0.8341000235904694 and parameters: {'n_estimators': 254, 'max_depth': 17, 'min_samples_leaf': 1, 'min_samples_split': 13, 'criterion': 'entropy'}. Best is trial 4 with value: 0.8423566878980893.\n",
      "[I 2025-07-14 11:42:13,795] Trial 26 finished with value: 0.8397617362585515 and parameters: {'n_estimators': 345, 'max_depth': 14, 'min_samples_leaf': 3, 'min_samples_split': 10, 'criterion': 'gini'}. Best is trial 4 with value: 0.8423566878980893.\n",
      "[I 2025-07-14 11:42:15,020] Trial 27 finished with value: 0.832625619249823 and parameters: {'n_estimators': 356, 'max_depth': 13, 'min_samples_leaf': 3, 'min_samples_split': 7, 'criterion': 'gini'}. Best is trial 4 with value: 0.8423566878980893.\n",
      "[I 2025-07-14 11:42:16,469] Trial 28 finished with value: 0.8279665015333805 and parameters: {'n_estimators': 454, 'max_depth': 6, 'min_samples_leaf': 4, 'min_samples_split': 9, 'criterion': 'gini'}. Best is trial 4 with value: 0.8423566878980893.\n",
      "[I 2025-07-14 11:42:17,584] Trial 29 finished with value: 0.840764331210191 and parameters: {'n_estimators': 320, 'max_depth': 10, 'min_samples_leaf': 5, 'min_samples_split': 5, 'criterion': 'gini'}. Best is trial 4 with value: 0.8423566878980893.\n",
      "[I 2025-07-14 11:42:18,662] Trial 30 finished with value: 0.8300306676102854 and parameters: {'n_estimators': 315, 'max_depth': 10, 'min_samples_leaf': 7, 'min_samples_split': 3, 'criterion': 'gini'}. Best is trial 4 with value: 0.8423566878980893.\n",
      "[I 2025-07-14 11:42:19,783] Trial 31 finished with value: 0.8339820712432178 and parameters: {'n_estimators': 334, 'max_depth': 7, 'min_samples_leaf': 5, 'min_samples_split': 5, 'criterion': 'gini'}. Best is trial 4 with value: 0.8423566878980893.\n",
      "[I 2025-07-14 11:42:21,096] Trial 32 finished with value: 0.8339820712432178 and parameters: {'n_estimators': 377, 'max_depth': 10, 'min_samples_leaf': 4, 'min_samples_split': 7, 'criterion': 'gini'}. Best is trial 4 with value: 0.8423566878980893.\n",
      "[I 2025-07-14 11:42:22,176] Trial 33 finished with value: 0.8356923802783677 and parameters: {'n_estimators': 302, 'max_depth': 12, 'min_samples_leaf': 5, 'min_samples_split': 9, 'criterion': 'gini'}. Best is trial 4 with value: 0.8423566878980893.\n",
      "[I 2025-07-14 11:42:23,594] Trial 34 finished with value: 0.8299716914366597 and parameters: {'n_estimators': 415, 'max_depth': 14, 'min_samples_leaf': 6, 'min_samples_split': 4, 'criterion': 'gini'}. Best is trial 4 with value: 0.8423566878980893.\n",
      "[I 2025-07-14 11:42:24,472] Trial 35 finished with value: 0.8286742156168907 and parameters: {'n_estimators': 254, 'max_depth': 11, 'min_samples_leaf': 6, 'min_samples_split': 6, 'criterion': 'gini'}. Best is trial 4 with value: 0.8423566878980893.\n",
      "[I 2025-07-14 11:42:25,844] Trial 36 finished with value: 0.8375206416607691 and parameters: {'n_estimators': 397, 'max_depth': 10, 'min_samples_leaf': 3, 'min_samples_split': 10, 'criterion': 'gini'}. Best is trial 4 with value: 0.8423566878980893.\n",
      "[I 2025-07-14 11:42:27,033] Trial 37 finished with value: 0.8372257607926398 and parameters: {'n_estimators': 361, 'max_depth': 7, 'min_samples_leaf': 7, 'min_samples_split': 12, 'criterion': 'gini'}. Best is trial 4 with value: 0.8423566878980893.\n",
      "[I 2025-07-14 11:42:28,048] Trial 38 finished with value: 0.829028072658646 and parameters: {'n_estimators': 293, 'max_depth': 11, 'min_samples_leaf': 4, 'min_samples_split': 8, 'criterion': 'gini'}. Best is trial 4 with value: 0.8423566878980893.\n",
      "[I 2025-07-14 11:42:29,006] Trial 39 finished with value: 0.8322127860344422 and parameters: {'n_estimators': 266, 'max_depth': 17, 'min_samples_leaf': 2, 'min_samples_split': 2, 'criterion': 'gini'}. Best is trial 4 with value: 0.8423566878980893.\n",
      "[I 2025-07-14 11:42:30,178] Trial 40 finished with value: 0.8410592120783204 and parameters: {'n_estimators': 332, 'max_depth': 12, 'min_samples_leaf': 5, 'min_samples_split': 5, 'criterion': 'entropy'}. Best is trial 4 with value: 0.8423566878980893.\n",
      "[I 2025-07-14 11:42:31,375] Trial 41 finished with value: 0.8408822835574428 and parameters: {'n_estimators': 334, 'max_depth': 12, 'min_samples_leaf': 5, 'min_samples_split': 4, 'criterion': 'entropy'}. Best is trial 4 with value: 0.8423566878980893.\n",
      "[I 2025-07-14 11:42:32,522] Trial 42 finished with value: 0.8358693087992451 and parameters: {'n_estimators': 320, 'max_depth': 12, 'min_samples_leaf': 6, 'min_samples_split': 4, 'criterion': 'entropy'}. Best is trial 4 with value: 0.8423566878980893.\n",
      "[I 2025-07-14 11:42:33,524] Trial 43 finished with value: 0.8349256900212315 and parameters: {'n_estimators': 286, 'max_depth': 9, 'min_samples_leaf': 5, 'min_samples_split': 5, 'criterion': 'entropy'}. Best is trial 4 with value: 0.8423566878980893.\n",
      "[I 2025-07-14 11:42:34,649] Trial 44 finished with value: 0.8302665723047888 and parameters: {'n_estimators': 317, 'max_depth': 20, 'min_samples_leaf': 7, 'min_samples_split': 3, 'criterion': 'entropy'}. Best is trial 4 with value: 0.8423566878980893.\n",
      "[I 2025-07-14 11:42:35,933] Trial 45 finished with value: 0.8323897145553197 and parameters: {'n_estimators': 377, 'max_depth': 8, 'min_samples_leaf': 6, 'min_samples_split': 6, 'criterion': 'entropy'}. Best is trial 4 with value: 0.8423566878980893.\n",
      "[I 2025-07-14 11:42:37,103] Trial 46 finished with value: 0.8389360698277896 and parameters: {'n_estimators': 333, 'max_depth': 11, 'min_samples_leaf': 8, 'min_samples_split': 4, 'criterion': 'entropy'}. Best is trial 4 with value: 0.8423566878980893.\n",
      "[I 2025-07-14 11:42:38,010] Trial 47 finished with value: 0.8282024062278839 and parameters: {'n_estimators': 272, 'max_depth': 5, 'min_samples_leaf': 4, 'min_samples_split': 6, 'criterion': 'entropy'}. Best is trial 4 with value: 0.8423566878980893.\n",
      "[I 2025-07-14 11:42:39,381] Trial 48 finished with value: 0.8312101910828027 and parameters: {'n_estimators': 405, 'max_depth': 7, 'min_samples_leaf': 5, 'min_samples_split': 3, 'criterion': 'entropy'}. Best is trial 4 with value: 0.8423566878980893.\n",
      "[I 2025-07-14 11:42:40,488] Trial 49 finished with value: 0.836753951403633 and parameters: {'n_estimators': 306, 'max_depth': 14, 'min_samples_leaf': 6, 'min_samples_split': 8, 'criterion': 'entropy'}. Best is trial 4 with value: 0.8423566878980893.\n"
     ]
    },
    {
     "name": "stdout",
     "output_type": "stream",
     "text": [
      "\n",
      "Optimization finished.\n",
      "Number of finished trials: 50\n",
      "\n",
      "Best trial:\n",
      "  Value (ROC AUC): 0.8424\n",
      "  Best hyperparameters:\n",
      "    n_estimators: 340\n",
      "    max_depth: 8\n",
      "    min_samples_leaf: 4\n",
      "    min_samples_split: 11\n",
      "    criterion: entropy\n"
     ]
    }
   ],
   "source": [
    "study = optuna.create_study(direction='maximize')\n",
    "\n",
    "print(\"\\nStarting hyperparameter optimization...\")\n",
    "study.optimize(objective, n_trials=50)\n",
    "\n",
    "print(\"\\nOptimization finished.\")\n",
    "print(f\"Number of finished trials: {len(study.trials)}\")\n",
    "\n",
    "print(\"\\nBest trial:\")\n",
    "trial = study.best_trial\n",
    "\n",
    "print(f\"  Value (ROC AUC): {trial.value:.4f}\")\n",
    "print(\"  Best hyperparameters:\")\n",
    "for key, value in trial.params.items():\n",
    "    print(f\"    {key}: {value}\")"
   ]
  },
  {
   "cell_type": "code",
   "execution_count": 41,
   "id": "2db556ce",
   "metadata": {
    "execution": {
     "iopub.execute_input": "2025-07-14T11:42:40.524479Z",
     "iopub.status.busy": "2025-07-14T11:42:40.524146Z",
     "iopub.status.idle": "2025-07-14T11:42:41.581841Z",
     "shell.execute_reply": "2025-07-14T11:42:41.580925Z"
    },
    "papermill": {
     "duration": 1.072477,
     "end_time": "2025-07-14T11:42:41.583636",
     "exception": false,
     "start_time": "2025-07-14T11:42:40.511159",
     "status": "completed"
    },
    "tags": []
   },
   "outputs": [
    {
     "name": "stdout",
     "output_type": "stream",
     "text": [
      "Training final model with best hyperparameters...\n"
     ]
    },
    {
     "data": {
      "text/html": [
       "<style>#sk-container-id-1 {color: black;background-color: white;}#sk-container-id-1 pre{padding: 0;}#sk-container-id-1 div.sk-toggleable {background-color: white;}#sk-container-id-1 label.sk-toggleable__label {cursor: pointer;display: block;width: 100%;margin-bottom: 0;padding: 0.3em;box-sizing: border-box;text-align: center;}#sk-container-id-1 label.sk-toggleable__label-arrow:before {content: \"▸\";float: left;margin-right: 0.25em;color: #696969;}#sk-container-id-1 label.sk-toggleable__label-arrow:hover:before {color: black;}#sk-container-id-1 div.sk-estimator:hover label.sk-toggleable__label-arrow:before {color: black;}#sk-container-id-1 div.sk-toggleable__content {max-height: 0;max-width: 0;overflow: hidden;text-align: left;background-color: #f0f8ff;}#sk-container-id-1 div.sk-toggleable__content pre {margin: 0.2em;color: black;border-radius: 0.25em;background-color: #f0f8ff;}#sk-container-id-1 input.sk-toggleable__control:checked~div.sk-toggleable__content {max-height: 200px;max-width: 100%;overflow: auto;}#sk-container-id-1 input.sk-toggleable__control:checked~label.sk-toggleable__label-arrow:before {content: \"▾\";}#sk-container-id-1 div.sk-estimator input.sk-toggleable__control:checked~label.sk-toggleable__label {background-color: #d4ebff;}#sk-container-id-1 div.sk-label input.sk-toggleable__control:checked~label.sk-toggleable__label {background-color: #d4ebff;}#sk-container-id-1 input.sk-hidden--visually {border: 0;clip: rect(1px 1px 1px 1px);clip: rect(1px, 1px, 1px, 1px);height: 1px;margin: -1px;overflow: hidden;padding: 0;position: absolute;width: 1px;}#sk-container-id-1 div.sk-estimator {font-family: monospace;background-color: #f0f8ff;border: 1px dotted black;border-radius: 0.25em;box-sizing: border-box;margin-bottom: 0.5em;}#sk-container-id-1 div.sk-estimator:hover {background-color: #d4ebff;}#sk-container-id-1 div.sk-parallel-item::after {content: \"\";width: 100%;border-bottom: 1px solid gray;flex-grow: 1;}#sk-container-id-1 div.sk-label:hover label.sk-toggleable__label {background-color: #d4ebff;}#sk-container-id-1 div.sk-serial::before {content: \"\";position: absolute;border-left: 1px solid gray;box-sizing: border-box;top: 0;bottom: 0;left: 50%;z-index: 0;}#sk-container-id-1 div.sk-serial {display: flex;flex-direction: column;align-items: center;background-color: white;padding-right: 0.2em;padding-left: 0.2em;position: relative;}#sk-container-id-1 div.sk-item {position: relative;z-index: 1;}#sk-container-id-1 div.sk-parallel {display: flex;align-items: stretch;justify-content: center;background-color: white;position: relative;}#sk-container-id-1 div.sk-item::before, #sk-container-id-1 div.sk-parallel-item::before {content: \"\";position: absolute;border-left: 1px solid gray;box-sizing: border-box;top: 0;bottom: 0;left: 50%;z-index: -1;}#sk-container-id-1 div.sk-parallel-item {display: flex;flex-direction: column;z-index: 1;position: relative;background-color: white;}#sk-container-id-1 div.sk-parallel-item:first-child::after {align-self: flex-end;width: 50%;}#sk-container-id-1 div.sk-parallel-item:last-child::after {align-self: flex-start;width: 50%;}#sk-container-id-1 div.sk-parallel-item:only-child::after {width: 0;}#sk-container-id-1 div.sk-dashed-wrapped {border: 1px dashed gray;margin: 0 0.4em 0.5em 0.4em;box-sizing: border-box;padding-bottom: 0.4em;background-color: white;}#sk-container-id-1 div.sk-label label {font-family: monospace;font-weight: bold;display: inline-block;line-height: 1.2em;}#sk-container-id-1 div.sk-label-container {text-align: center;}#sk-container-id-1 div.sk-container {/* jupyter's `normalize.less` sets `[hidden] { display: none; }` but bootstrap.min.css set `[hidden] { display: none !important; }` so we also need the `!important` here to be able to override the default hidden behavior on the sphinx rendered scikit-learn.org. See: https://github.com/scikit-learn/scikit-learn/issues/21755 */display: inline-block !important;position: relative;}#sk-container-id-1 div.sk-text-repr-fallback {display: none;}</style><div id=\"sk-container-id-1\" class=\"sk-top-container\"><div class=\"sk-text-repr-fallback\"><pre>RandomForestClassifier(criterion=&#x27;entropy&#x27;, max_depth=8, min_samples_leaf=4,\n",
       "                       min_samples_split=11, n_estimators=340, n_jobs=-1,\n",
       "                       random_state=42)</pre><b>In a Jupyter environment, please rerun this cell to show the HTML representation or trust the notebook. <br />On GitHub, the HTML representation is unable to render, please try loading this page with nbviewer.org.</b></div><div class=\"sk-container\" hidden><div class=\"sk-item\"><div class=\"sk-estimator sk-toggleable\"><input class=\"sk-toggleable__control sk-hidden--visually\" id=\"sk-estimator-id-1\" type=\"checkbox\" checked><label for=\"sk-estimator-id-1\" class=\"sk-toggleable__label sk-toggleable__label-arrow\">RandomForestClassifier</label><div class=\"sk-toggleable__content\"><pre>RandomForestClassifier(criterion=&#x27;entropy&#x27;, max_depth=8, min_samples_leaf=4,\n",
       "                       min_samples_split=11, n_estimators=340, n_jobs=-1,\n",
       "                       random_state=42)</pre></div></div></div></div></div>"
      ],
      "text/plain": [
       "RandomForestClassifier(criterion='entropy', max_depth=8, min_samples_leaf=4,\n",
       "                       min_samples_split=11, n_estimators=340, n_jobs=-1,\n",
       "                       random_state=42)"
      ]
     },
     "execution_count": 41,
     "metadata": {},
     "output_type": "execute_result"
    }
   ],
   "source": [
    "print(\"Training final model with best hyperparameters...\")\n",
    "best_params = study.best_params\n",
    "final_classifier = RandomForestClassifier(random_state=42, n_jobs=-1, **best_params)\n",
    "\n",
    "final_classifier.fit(X_train_scaled, y_train)"
   ]
  },
  {
   "cell_type": "code",
   "execution_count": 42,
   "id": "383d4f11",
   "metadata": {
    "execution": {
     "iopub.execute_input": "2025-07-14T11:42:41.614583Z",
     "iopub.status.busy": "2025-07-14T11:42:41.614287Z",
     "iopub.status.idle": "2025-07-14T11:42:41.863524Z",
     "shell.execute_reply": "2025-07-14T11:42:41.862496Z"
    },
    "papermill": {
     "duration": 0.264056,
     "end_time": "2025-07-14T11:42:41.864920",
     "exception": false,
     "start_time": "2025-07-14T11:42:41.600864",
     "status": "completed"
    },
    "tags": []
   },
   "outputs": [
    {
     "name": "stdout",
     "output_type": "stream",
     "text": [
      "Final Model ROC AUC on test set: 0.8424\n",
      "Final Model Accuracy on test set: 0.8560\n"
     ]
    }
   ],
   "source": [
    "y_pred_proba_final = final_classifier.predict_proba(X_test_scaled)[:, 1]\n",
    "y_pred_final = final_classifier.predict(X_test_scaled)\n",
    "\n",
    "final_roc_auc = roc_auc_score(y_test, y_pred_proba_final)\n",
    "final_accuracy = accuracy_score(y_test, y_pred_final)\n",
    "\n",
    "print(f\"Final Model ROC AUC on test set: {final_roc_auc:.4f}\")\n",
    "print(f\"Final Model Accuracy on test set: {final_accuracy:.4f}\")"
   ]
  },
  {
   "cell_type": "code",
   "execution_count": 43,
   "id": "3b3893c6",
   "metadata": {
    "execution": {
     "iopub.execute_input": "2025-07-14T11:42:41.891029Z",
     "iopub.status.busy": "2025-07-14T11:42:41.890671Z",
     "iopub.status.idle": "2025-07-14T11:42:41.906352Z",
     "shell.execute_reply": "2025-07-14T11:42:41.905379Z"
    },
    "papermill": {
     "duration": 0.030359,
     "end_time": "2025-07-14T11:42:41.907761",
     "exception": false,
     "start_time": "2025-07-14T11:42:41.877402",
     "status": "completed"
    },
    "tags": []
   },
   "outputs": [
    {
     "name": "stdout",
     "output_type": "stream",
     "text": [
      "\n",
      "Classification Report:\n",
      "              precision    recall  f1-score   support\n",
      "\n",
      "           0       0.92      0.91      0.92       314\n",
      "           1       0.51      0.52      0.51        54\n",
      "\n",
      "    accuracy                           0.86       368\n",
      "   macro avg       0.71      0.72      0.71       368\n",
      "weighted avg       0.86      0.86      0.86       368\n",
      "\n",
      "\n",
      "Confusion Matrix:\n",
      "[[287  27]\n",
      " [ 26  28]]\n"
     ]
    }
   ],
   "source": [
    "from sklearn.metrics import classification_report, confusion_matrix\n",
    "print(\"\\nClassification Report:\")\n",
    "print(classification_report(y_test, y_pred_final))\n",
    "print(\"\\nConfusion Matrix:\")\n",
    "print(confusion_matrix(y_test, y_pred_final))"
   ]
  },
  {
   "cell_type": "markdown",
   "id": "3d7c2eb6",
   "metadata": {
    "papermill": {
     "duration": 0.01309,
     "end_time": "2025-07-14T11:42:41.933305",
     "exception": false,
     "start_time": "2025-07-14T11:42:41.920215",
     "status": "completed"
    },
    "tags": []
   },
   "source": [
    "On the basis of above evaluation metrics we can conclude that the model is fit enough to be used for predicting on unseen data."
   ]
  }
 ],
 "metadata": {
  "kaggle": {
   "accelerator": "none",
   "dataSources": [
    {
     "datasetId": 2480666,
     "sourceId": 4207867,
     "sourceType": "datasetVersion"
    }
   ],
   "dockerImageVersionId": 31040,
   "isGpuEnabled": false,
   "isInternetEnabled": false,
   "language": "python",
   "sourceType": "notebook"
  },
  "kernelspec": {
   "display_name": "Python 3",
   "language": "python",
   "name": "python3"
  },
  "language_info": {
   "codemirror_mode": {
    "name": "ipython",
    "version": 3
   },
   "file_extension": ".py",
   "mimetype": "text/x-python",
   "name": "python",
   "nbconvert_exporter": "python",
   "pygments_lexer": "ipython3",
   "version": "3.11.11"
  },
  "papermill": {
   "default_parameters": {},
   "duration": 66.900437,
   "end_time": "2025-07-14T11:42:42.666103",
   "environment_variables": {},
   "exception": null,
   "input_path": "__notebook__.ipynb",
   "output_path": "__notebook__.ipynb",
   "parameters": {},
   "start_time": "2025-07-14T11:41:35.765666",
   "version": "2.6.0"
  }
 },
 "nbformat": 4,
 "nbformat_minor": 5
}
