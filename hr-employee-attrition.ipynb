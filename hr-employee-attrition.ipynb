{
 "cells": [
  {
   "cell_type": "markdown",
   "id": "7e8ee781",
   "metadata": {
    "papermill": {
     "duration": 0.011756,
     "end_time": "2025-07-23T15:59:52.378093",
     "exception": false,
     "start_time": "2025-07-23T15:59:52.366337",
     "status": "completed"
    },
    "tags": []
   },
   "source": [
    "# Data Loading"
   ]
  },
  {
   "cell_type": "code",
   "execution_count": 1,
   "id": "ff77bb92",
   "metadata": {
    "_cell_guid": "b1076dfc-b9ad-4769-8c92-a6c4dae69d19",
    "_uuid": "8f2839f25d086af736a60e9eeb907d3b93b6e0e5",
    "execution": {
     "iopub.execute_input": "2025-07-23T15:59:52.401305Z",
     "iopub.status.busy": "2025-07-23T15:59:52.400994Z",
     "iopub.status.idle": "2025-07-23T15:59:54.414112Z",
     "shell.execute_reply": "2025-07-23T15:59:54.413072Z"
    },
    "papermill": {
     "duration": 2.027343,
     "end_time": "2025-07-23T15:59:54.415998",
     "exception": false,
     "start_time": "2025-07-23T15:59:52.388655",
     "status": "completed"
    },
    "tags": []
   },
   "outputs": [],
   "source": [
    "import os\n",
    "import pandas as pd"
   ]
  },
  {
   "cell_type": "code",
   "execution_count": 2,
   "id": "d06b57da",
   "metadata": {
    "execution": {
     "iopub.execute_input": "2025-07-23T15:59:54.439009Z",
     "iopub.status.busy": "2025-07-23T15:59:54.438481Z",
     "iopub.status.idle": "2025-07-23T15:59:54.488213Z",
     "shell.execute_reply": "2025-07-23T15:59:54.487058Z"
    },
    "papermill": {
     "duration": 0.063666,
     "end_time": "2025-07-23T15:59:54.490315",
     "exception": false,
     "start_time": "2025-07-23T15:59:54.426649",
     "status": "completed"
    },
    "tags": []
   },
   "outputs": [],
   "source": [
    "DF = pd.read_csv('/kaggle/input/hr-analytics-prediction/HR-Employee-Attrition.csv')"
   ]
  },
  {
   "cell_type": "code",
   "execution_count": 3,
   "id": "9774706d",
   "metadata": {
    "execution": {
     "iopub.execute_input": "2025-07-23T15:59:54.512636Z",
     "iopub.status.busy": "2025-07-23T15:59:54.512301Z",
     "iopub.status.idle": "2025-07-23T15:59:54.538605Z",
     "shell.execute_reply": "2025-07-23T15:59:54.537617Z"
    },
    "papermill": {
     "duration": 0.039484,
     "end_time": "2025-07-23T15:59:54.540556",
     "exception": false,
     "start_time": "2025-07-23T15:59:54.501072",
     "status": "completed"
    },
    "tags": []
   },
   "outputs": [],
   "source": [
    "columns_to_drop = DF.columns[DF.nunique()==1]\n",
    "DF_cleaned = DF.drop(columns=columns_to_drop)"
   ]
  },
  {
   "cell_type": "markdown",
   "id": "0b3752a5",
   "metadata": {
    "papermill": {
     "duration": 0.009853,
     "end_time": "2025-07-23T15:59:54.560725",
     "exception": false,
     "start_time": "2025-07-23T15:59:54.550872",
     "status": "completed"
    },
    "tags": []
   },
   "source": [
    "# Data Cleaning"
   ]
  },
  {
   "cell_type": "code",
   "execution_count": 4,
   "id": "59392d0a",
   "metadata": {
    "execution": {
     "iopub.execute_input": "2025-07-23T15:59:54.584364Z",
     "iopub.status.busy": "2025-07-23T15:59:54.584054Z",
     "iopub.status.idle": "2025-07-23T15:59:54.593991Z",
     "shell.execute_reply": "2025-07-23T15:59:54.592950Z"
    },
    "papermill": {
     "duration": 0.023474,
     "end_time": "2025-07-23T15:59:54.595523",
     "exception": false,
     "start_time": "2025-07-23T15:59:54.572049",
     "status": "completed"
    },
    "tags": []
   },
   "outputs": [
    {
     "data": {
      "text/plain": [
       "Age                         0\n",
       "Attrition                   0\n",
       "BusinessTravel              0\n",
       "DailyRate                   0\n",
       "Department                  0\n",
       "DistanceFromHome            0\n",
       "Education                   0\n",
       "EducationField              0\n",
       "EmployeeNumber              0\n",
       "EnvironmentSatisfaction     0\n",
       "Gender                      0\n",
       "HourlyRate                  0\n",
       "JobInvolvement              0\n",
       "JobLevel                    0\n",
       "JobRole                     0\n",
       "JobSatisfaction             0\n",
       "MaritalStatus               0\n",
       "MonthlyIncome               0\n",
       "MonthlyRate                 0\n",
       "NumCompaniesWorked          0\n",
       "OverTime                    0\n",
       "PercentSalaryHike           0\n",
       "PerformanceRating           0\n",
       "RelationshipSatisfaction    0\n",
       "StockOptionLevel            0\n",
       "TotalWorkingYears           0\n",
       "TrainingTimesLastYear       0\n",
       "WorkLifeBalance             0\n",
       "YearsAtCompany              0\n",
       "YearsInCurrentRole          0\n",
       "YearsSinceLastPromotion     0\n",
       "YearsWithCurrManager        0\n",
       "dtype: int64"
      ]
     },
     "execution_count": 4,
     "metadata": {},
     "output_type": "execute_result"
    }
   ],
   "source": [
    "DF_cleaned.isna().sum()"
   ]
  },
  {
   "cell_type": "markdown",
   "id": "586f0a0c",
   "metadata": {
    "papermill": {
     "duration": 0.010714,
     "end_time": "2025-07-23T15:59:54.616887",
     "exception": false,
     "start_time": "2025-07-23T15:59:54.606173",
     "status": "completed"
    },
    "tags": []
   },
   "source": [
    "# Exploratory Data Analysis"
   ]
  },
  {
   "cell_type": "code",
   "execution_count": 5,
   "id": "4b092f57",
   "metadata": {
    "execution": {
     "iopub.execute_input": "2025-07-23T15:59:54.643474Z",
     "iopub.status.busy": "2025-07-23T15:59:54.642808Z",
     "iopub.status.idle": "2025-07-23T15:59:56.697141Z",
     "shell.execute_reply": "2025-07-23T15:59:56.696250Z"
    },
    "papermill": {
     "duration": 2.071307,
     "end_time": "2025-07-23T15:59:56.698800",
     "exception": false,
     "start_time": "2025-07-23T15:59:54.627493",
     "status": "completed"
    },
    "tags": []
   },
   "outputs": [],
   "source": [
    "import warnings\n",
    "import seaborn as sns\n",
    "import matplotlib.pyplot as plt"
   ]
  },
  {
   "cell_type": "code",
   "execution_count": 6,
   "id": "0906beb8",
   "metadata": {
    "execution": {
     "iopub.execute_input": "2025-07-23T15:59:56.722124Z",
     "iopub.status.busy": "2025-07-23T15:59:56.721636Z",
     "iopub.status.idle": "2025-07-23T15:59:56.726137Z",
     "shell.execute_reply": "2025-07-23T15:59:56.725332Z"
    },
    "papermill": {
     "duration": 0.017773,
     "end_time": "2025-07-23T15:59:56.727587",
     "exception": false,
     "start_time": "2025-07-23T15:59:56.709814",
     "status": "completed"
    },
    "tags": []
   },
   "outputs": [],
   "source": [
    "warnings.simplefilter(action=\"ignore\", category=FutureWarning)"
   ]
  },
  {
   "cell_type": "markdown",
   "id": "488c96f9",
   "metadata": {
    "papermill": {
     "duration": 0.01039,
     "end_time": "2025-07-23T15:59:56.748926",
     "exception": false,
     "start_time": "2025-07-23T15:59:56.738536",
     "status": "completed"
    },
    "tags": []
   },
   "source": [
    "## Attrition Status"
   ]
  },
  {
   "cell_type": "markdown",
   "id": "6d834bf4",
   "metadata": {
    "papermill": {
     "duration": 0.010089,
     "end_time": "2025-07-23T15:59:56.769769",
     "exception": false,
     "start_time": "2025-07-23T15:59:56.759680",
     "status": "completed"
    },
    "tags": []
   },
   "source": [
    "### Data distribution in terms of attrition"
   ]
  },
  {
   "cell_type": "code",
   "execution_count": 7,
   "id": "520d6b4d",
   "metadata": {
    "execution": {
     "iopub.execute_input": "2025-07-23T15:59:56.793339Z",
     "iopub.status.busy": "2025-07-23T15:59:56.792467Z",
     "iopub.status.idle": "2025-07-23T15:59:57.065059Z",
     "shell.execute_reply": "2025-07-23T15:59:57.063930Z"
    },
    "papermill": {
     "duration": 0.286799,
     "end_time": "2025-07-23T15:59:57.067348",
     "exception": false,
     "start_time": "2025-07-23T15:59:56.780549",
     "status": "completed"
    },
    "tags": []
   },
   "outputs": [
    {
     "data": {
      "image/png": "[encoded data removed]",
      "text/plain": [
       "<Figure size 500x400 with 1 Axes>"
      ]
     },
     "metadata": {},
     "output_type": "display_data"
    }
   ],
   "source": [
    "plt.figure(figsize=(5,4))\n",
    "custom_colour_scheme = {\"No\": \"green\", \"Yes\": \"red\"}\n",
    "\n",
    "ax = sns.countplot(x=\"Attrition\", data=DF_cleaned, palette=custom_colour_scheme, width=0.25)\n",
    "\n",
    "plt.title(\"Attrition Status Count\")\n",
    "plt.xlabel(\"Attrition Status\")\n",
    "plt.ylabel(\"Count\")\n",
    "\n",
    "for p in ax.patches:\n",
    "    height = p.get_height()\n",
    "    ax.annotate(\n",
    "        f'{int(height)}',\n",
    "        xy=(p.get_x() + p.get_width()/2, height),\n",
    "        ha=\"center\",\n",
    "        va=\"top\",\n",
    "        xytext=(0, -5),\n",
    "        textcoords=\"offset points\",\n",
    "        fontsize=8,\n",
    "        color=\"white\"\n",
    "                )\n",
    "\n",
    "plt.show()"
   ]
  },
  {
   "cell_type": "markdown",
   "id": "9ffc9cb8",
   "metadata": {
    "papermill": {
     "duration": 0.010289,
     "end_time": "2025-07-23T15:59:57.088643",
     "exception": false,
     "start_time": "2025-07-23T15:59:57.078354",
     "status": "completed"
    },
    "tags": []
   },
   "source": [
    "**Observation:** The data provided is skewed in nature, therefore, a resampling technique (preferrably upsampling) will be required sp that the class imbalance is neutralized."
   ]
  },
  {
   "cell_type": "markdown",
   "id": "f7acdbb4",
   "metadata": {
    "papermill": {
     "duration": 0.010271,
     "end_time": "2025-07-23T15:59:57.109622",
     "exception": false,
     "start_time": "2025-07-23T15:59:57.099351",
     "status": "completed"
    },
    "tags": []
   },
   "source": [
    "### Spread of age and trend of attrition"
   ]
  },
  {
   "cell_type": "code",
   "execution_count": 8,
   "id": "63c9b776",
   "metadata": {
    "execution": {
     "iopub.execute_input": "2025-07-23T15:59:57.133060Z",
     "iopub.status.busy": "2025-07-23T15:59:57.132710Z",
     "iopub.status.idle": "2025-07-23T15:59:57.507011Z",
     "shell.execute_reply": "2025-07-23T15:59:57.506180Z"
    },
    "papermill": {
     "duration": 0.387565,
     "end_time": "2025-07-23T15:59:57.508455",
     "exception": false,
     "start_time": "2025-07-23T15:59:57.120890",
     "status": "completed"
    },
    "tags": []
   },
   "outputs": [
    {
     "data": {
      "image/png": "[encoded data removed]",
      "text/plain": [
       "<Figure size 500x400 with 1 Axes>"
      ]
     },
     "metadata": {},
     "output_type": "display_data"
    }
   ],
   "source": [
    "plt.figure(figsize=(5,4))\n",
    "\n",
    "sns.histplot(\n",
    "    data=DF_cleaned,\n",
    "    x=\"Age\",\n",
    "    binwidth=3,\n",
    "    kde=False,\n",
    "    stat='density',\n",
    "    color='skyblue',\n",
    "    alpha=0.6,\n",
    "    label=\"Overall Employee Age Distribution\"\n",
    "            )\n",
    "\n",
    "sns.kdeplot(\n",
    "    data=DF_cleaned[DF_cleaned.Attrition==\"Yes\"],\n",
    "    x=\"Age\",\n",
    "    color=\"red\",\n",
    "    linewidth=2,\n",
    "    label=\"Age Distribution of Attrited Employees\"\n",
    "            )\n",
    "\n",
    "plt.xlim(DF_cleaned.Age.min()-2.5, DF_cleaned.Age.max()+2.5)\n",
    "\n",
    "plt.title(\"Age Distribution and Attrition Age Profile\")\n",
    "\n",
    "plt.tight_layout()\n",
    "plt.show()"
   ]
  },
  {
   "cell_type": "markdown",
   "id": "e34c0576",
   "metadata": {
    "papermill": {
     "duration": 0.011299,
     "end_time": "2025-07-23T15:59:57.596867",
     "exception": false,
     "start_time": "2025-07-23T15:59:57.585568",
     "status": "completed"
    },
    "tags": []
   },
   "source": [
    "**Observation**: The highest employee count is between age 30 and 40, however, the attrition has a right skewness with highest rate around age 30."
   ]
  },
  {
   "cell_type": "markdown",
   "id": "b2bf59f7",
   "metadata": {
    "papermill": {
     "duration": 0.012014,
     "end_time": "2025-07-23T15:59:57.620108",
     "exception": false,
     "start_time": "2025-07-23T15:59:57.608094",
     "status": "completed"
    },
    "tags": []
   },
   "source": [
    "### Distance to home spread"
   ]
  },
  {
   "cell_type": "code",
   "execution_count": 9,
   "id": "f535ea43",
   "metadata": {
    "execution": {
     "iopub.execute_input": "2025-07-23T15:59:57.646429Z",
     "iopub.status.busy": "2025-07-23T15:59:57.645984Z",
     "iopub.status.idle": "2025-07-23T15:59:57.832974Z",
     "shell.execute_reply": "2025-07-23T15:59:57.831676Z"
    },
    "papermill": {
     "duration": 0.202535,
     "end_time": "2025-07-23T15:59:57.834543",
     "exception": false,
     "start_time": "2025-07-23T15:59:57.632008",
     "status": "completed"
    },
    "tags": []
   },
   "outputs": [
    {
     "data": {
      "image/png": "[encoded data removed]",
      "text/plain": [
       "<Figure size 500x400 with 1 Axes>"
      ]
     },
     "metadata": {},
     "output_type": "display_data"
    }
   ],
   "source": [
    "plt.figure(figsize=(5, 4))\n",
    "\n",
    "sns.boxplot(\n",
    "    x=DF_cleaned['Attrition'],\n",
    "    y=DF_cleaned['DistanceFromHome'],\n",
    "    color='skyblue',\n",
    "    width=0.3\n",
    "            )\n",
    "\n",
    "plt.title('Distance From Home Distribution with Attrition Points')\n",
    "plt.ylabel('Distance From Home')\n",
    "plt.legend()\n",
    "plt.grid(axis='y', linestyle='--', alpha=0.7)\n",
    "plt.tight_layout()\n",
    "plt.show()"
   ]
  },
  {
   "cell_type": "markdown",
   "id": "566182cd",
   "metadata": {
    "papermill": {
     "duration": 0.011444,
     "end_time": "2025-07-23T15:59:57.858415",
     "exception": false,
     "start_time": "2025-07-23T15:59:57.846971",
     "status": "completed"
    },
    "tags": []
   },
   "source": [
    "**Obervation:** Distance from home to workplace demonstrates a measurable impact on attrition probability, indicating geographical accessibility affects employee retention."
   ]
  },
  {
   "cell_type": "markdown",
   "id": "fd5aba2d",
   "metadata": {
    "papermill": {
     "duration": 0.011398,
     "end_time": "2025-07-23T15:59:57.881431",
     "exception": false,
     "start_time": "2025-07-23T15:59:57.870033",
     "status": "completed"
    },
    "tags": []
   },
   "source": [
    "### Department and educational field distribution for attrited employees"
   ]
  },
  {
   "cell_type": "code",
   "execution_count": 10,
   "id": "2e88a60f",
   "metadata": {
    "execution": {
     "iopub.execute_input": "2025-07-23T15:59:57.906553Z",
     "iopub.status.busy": "2025-07-23T15:59:57.905573Z",
     "iopub.status.idle": "2025-07-23T15:59:57.915219Z",
     "shell.execute_reply": "2025-07-23T15:59:57.914422Z"
    },
    "papermill": {
     "duration": 0.023615,
     "end_time": "2025-07-23T15:59:57.916640",
     "exception": false,
     "start_time": "2025-07-23T15:59:57.893025",
     "status": "completed"
    },
    "tags": []
   },
   "outputs": [],
   "source": [
    "DF_attrited = DF_cleaned[DF_cleaned[\"Attrition\"] == \"Yes\"]\n",
    "dept_attrition_counts = DF_attrited['Department'].value_counts()\n",
    "dept_total_counts = DF_cleaned['Department'].value_counts()\n",
    "departments = dept_total_counts.index\n",
    "total_counts = dept_total_counts.values\n",
    "attrition_counts = [dept_attrition_counts.get(dept, 0) for dept in departments]\n",
    "\n",
    "dept_short = {'Research & Development': 'R&D', 'Sales': 'Sales', 'Human Resources': 'HR'}\n",
    "short_names = [dept_short.get(dept, dept) for dept in departments]"
   ]
  },
  {
   "cell_type": "code",
   "execution_count": 11,
   "id": "0f877183",
   "metadata": {
    "execution": {
     "iopub.execute_input": "2025-07-23T15:59:57.941913Z",
     "iopub.status.busy": "2025-07-23T15:59:57.941558Z",
     "iopub.status.idle": "2025-07-23T15:59:58.134766Z",
     "shell.execute_reply": "2025-07-23T15:59:58.133807Z"
    },
    "papermill": {
     "duration": 0.207902,
     "end_time": "2025-07-23T15:59:58.136364",
     "exception": false,
     "start_time": "2025-07-23T15:59:57.928462",
     "status": "completed"
    },
    "tags": []
   },
   "outputs": [
    {
     "data": {
      "image/png": "[encoded data removed]",
      "text/plain": [
       "<Figure size 500x600 with 1 Axes>"
      ]
     },
     "metadata": {},
     "output_type": "display_data"
    }
   ],
   "source": [
    "plt.figure(figsize=(5, 6))\n",
    "x_pos = range(len(departments))\n",
    "bars1 = plt.bar(x_pos, total_counts, alpha=0.7, label='Total Employees', width=0.8)\n",
    "bars2 = plt.bar(x_pos, attrition_counts, alpha=0.9, label='Attrited Employees', width=0.5)\n",
    "\n",
    "for i, (total, attrited) in enumerate(zip(total_counts, attrition_counts)):\n",
    "    plt.text(i, total + max(total_counts)*0.01, str(total), ha='center', va='bottom')\n",
    "    if attrited > 0:\n",
    "        plt.text(i, attrited + max(total_counts)*0.01, str(attrited), ha='center', va='bottom')\n",
    "\n",
    "plt.xlabel('Department')\n",
    "plt.ylabel('Number of Employees')\n",
    "plt.title('Department-wise Attrition Analysis')\n",
    "plt.xticks(x_pos, short_names)\n",
    "plt.legend()\n",
    "plt.show()"
   ]
  },
  {
   "cell_type": "markdown",
   "id": "4985a396",
   "metadata": {
    "papermill": {
     "duration": 0.011995,
     "end_time": "2025-07-23T15:59:58.161437",
     "exception": false,
     "start_time": "2025-07-23T15:59:58.149442",
     "status": "completed"
    },
    "tags": []
   },
   "source": [
    "### Change in the rate of attrition with respect to the performance rating"
   ]
  },
  {
   "cell_type": "code",
   "execution_count": 12,
   "id": "7d7b000a",
   "metadata": {
    "execution": {
     "iopub.execute_input": "2025-07-23T15:59:58.186791Z",
     "iopub.status.busy": "2025-07-23T15:59:58.186485Z",
     "iopub.status.idle": "2025-07-23T15:59:58.196141Z",
     "shell.execute_reply": "2025-07-23T15:59:58.195274Z"
    },
    "papermill": {
     "duration": 0.024147,
     "end_time": "2025-07-23T15:59:58.197610",
     "exception": false,
     "start_time": "2025-07-23T15:59:58.173463",
     "status": "completed"
    },
    "tags": []
   },
   "outputs": [],
   "source": [
    "perf_attrition_counts = DF_attrited['PerformanceRating'].value_counts()\n",
    "perf_total_counts = DF_cleaned['PerformanceRating'].value_counts()\n",
    "performance_ratings = perf_total_counts.index\n",
    "total_counts = perf_total_counts.values\n",
    "attrition_counts = [perf_attrition_counts.get(rating, 0) for rating in performance_ratings]\n",
    "\n",
    "rating_labels = {1: 'Poor', 2: 'Below Avg', 3: 'Good', 4: 'Excellent'}\n",
    "short_names = [rating_labels.get(rating, str(rating)) for rating in performance_ratings]"
   ]
  },
  {
   "cell_type": "code",
   "execution_count": 13,
   "id": "54213714",
   "metadata": {
    "execution": {
     "iopub.execute_input": "2025-07-23T15:59:58.224372Z",
     "iopub.status.busy": "2025-07-23T15:59:58.224054Z",
     "iopub.status.idle": "2025-07-23T15:59:58.407685Z",
     "shell.execute_reply": "2025-07-23T15:59:58.406809Z"
    },
    "papermill": {
     "duration": 0.198368,
     "end_time": "2025-07-23T15:59:58.409030",
     "exception": false,
     "start_time": "2025-07-23T15:59:58.210662",
     "status": "completed"
    },
    "tags": []
   },
   "outputs": [
    {
     "data": {
      "image/png": "[encoded data removed]",
      "text/plain": [
       "<Figure size 500x500 with 1 Axes>"
      ]
     },
     "metadata": {},
     "output_type": "display_data"
    }
   ],
   "source": [
    "plt.figure(figsize=(5, 5))\n",
    "x_pos = range(len(performance_ratings))\n",
    "bars1 = plt.bar(x_pos, total_counts, alpha=0.7, label='Total Employees', width=0.8)\n",
    "bars2 = plt.bar(x_pos, attrition_counts, alpha=0.9, label='Attrited Employees', width=0.5)\n",
    "\n",
    "for i, (total, attrited) in enumerate(zip(total_counts, attrition_counts)):\n",
    "    plt.text(i, total + max(total_counts)*0.005, str(total), ha='center', va='bottom')\n",
    "    if attrited > 0:\n",
    "        plt.text(i, attrited + max(total_counts)*0.01, str(attrited), ha='center', va='bottom')\n",
    "\n",
    "plt.xlabel('Performance Rating')\n",
    "plt.ylabel('Number of Employees')\n",
    "plt.title('Performance Rating vs Attrition Analysis')\n",
    "plt.xticks(x_pos, short_names)\n",
    "plt.legend()\n",
    "plt.show()"
   ]
  },
  {
   "cell_type": "markdown",
   "id": "99bb835b",
   "metadata": {
    "papermill": {
     "duration": 0.012685,
     "end_time": "2025-07-23T15:59:58.434590",
     "exception": false,
     "start_time": "2025-07-23T15:59:58.421905",
     "status": "completed"
    },
    "tags": []
   },
   "source": [
    "**Observation:** Employees fall under either 3 or 4 rating, with 84.6% falling under 3 rating. However, the attrition rate for both the ratings is the same. Therefore, there is no direct correlation between both the parameters."
   ]
  },
  {
   "cell_type": "markdown",
   "id": "58d4c6ba",
   "metadata": {
    "papermill": {
     "duration": 0.01257,
     "end_time": "2025-07-23T15:59:58.459982",
     "exception": false,
     "start_time": "2025-07-23T15:59:58.447412",
     "status": "completed"
    },
    "tags": []
   },
   "source": [
    "### Attrition per department"
   ]
  },
  {
   "cell_type": "code",
   "execution_count": 14,
   "id": "ee31dbdc",
   "metadata": {
    "execution": {
     "iopub.execute_input": "2025-07-23T15:59:58.486509Z",
     "iopub.status.busy": "2025-07-23T15:59:58.486228Z",
     "iopub.status.idle": "2025-07-23T15:59:58.805340Z",
     "shell.execute_reply": "2025-07-23T15:59:58.804276Z"
    },
    "papermill": {
     "duration": 0.335276,
     "end_time": "2025-07-23T15:59:58.807783",
     "exception": false,
     "start_time": "2025-07-23T15:59:58.472507",
     "status": "completed"
    },
    "tags": []
   },
   "outputs": [
    {
     "data": {
      "image/png": "[encoded data removed]",
      "text/plain": [
       "<Figure size 1500x600 with 2 Axes>"
      ]
     },
     "metadata": {},
     "output_type": "display_data"
    }
   ],
   "source": [
    "edu_total_counts = DF_cleaned['EducationField'].value_counts()\n",
    "edu_attrition_counts = DF_attrited['EducationField'].value_counts()\n",
    "\n",
    "attrition_rates = (edu_attrition_counts / edu_total_counts) * 100\n",
    "attrition_rates = attrition_rates.fillna(0)\n",
    "attrition_rates = attrition_rates.sort_index()\n",
    "\n",
    "total_labels = [label.replace('Human Resources', 'HR') for label in edu_total_counts.index]\n",
    "attrition_labels = [label.replace('Human Resources', 'HR') for label in attrition_rates.index]\n",
    "\n",
    "fig, (ax1, ax2) = plt.subplots(1, 2, figsize=(15, 6))\n",
    "\n",
    "ax1.pie(edu_total_counts.values, labels=total_labels, autopct='%1.1f%%', startangle=90, pctdistance=0.9)\n",
    "ax1.set_title('Total Employees by Education Field')\n",
    "\n",
    "ax2.pie(attrition_rates.values, labels=attrition_labels, autopct='%1.1f%%', startangle=90, pctdistance=0.9)\n",
    "ax2.set_title('Attrition Rate by Education Field')\n",
    "\n",
    "plt.tight_layout()\n",
    "plt.show()"
   ]
  },
  {
   "cell_type": "markdown",
   "id": "824e9b83",
   "metadata": {
    "papermill": {
     "duration": 0.014323,
     "end_time": "2025-07-23T15:59:58.837493",
     "exception": false,
     "start_time": "2025-07-23T15:59:58.823170",
     "status": "completed"
    },
    "tags": []
   },
   "source": [
    "**Observation:** HRs and technical degree holders have the highest attrition with 44.1% as the aggregated percentage for both the departments."
   ]
  },
  {
   "cell_type": "markdown",
   "id": "49d37843",
   "metadata": {
    "papermill": {
     "duration": 0.014848,
     "end_time": "2025-07-23T15:59:58.870268",
     "exception": false,
     "start_time": "2025-07-23T15:59:58.855420",
     "status": "completed"
    },
    "tags": []
   },
   "source": [
    "# Data Preprocessing"
   ]
  },
  {
   "cell_type": "code",
   "execution_count": 15,
   "id": "ba7ed02e",
   "metadata": {
    "execution": {
     "iopub.execute_input": "2025-07-23T15:59:58.900293Z",
     "iopub.status.busy": "2025-07-23T15:59:58.900000Z",
     "iopub.status.idle": "2025-07-23T15:59:58.904671Z",
     "shell.execute_reply": "2025-07-23T15:59:58.903707Z"
    },
    "papermill": {
     "duration": 0.021932,
     "end_time": "2025-07-23T15:59:58.906339",
     "exception": false,
     "start_time": "2025-07-23T15:59:58.884407",
     "status": "completed"
    },
    "tags": []
   },
   "outputs": [],
   "source": [
    "def ManualOrdinalEncoding(dataframe, column, mapping):\n",
    "    encoded = dataframe[column].map(mapping)\n",
    "    dataframe[column] = encoded"
   ]
  },
  {
   "cell_type": "code",
   "execution_count": 16,
   "id": "b4890ac4",
   "metadata": {
    "execution": {
     "iopub.execute_input": "2025-07-23T15:59:58.939288Z",
     "iopub.status.busy": "2025-07-23T15:59:58.938978Z",
     "iopub.status.idle": "2025-07-23T15:59:58.945827Z",
     "shell.execute_reply": "2025-07-23T15:59:58.944733Z"
    },
    "papermill": {
     "duration": 0.024304,
     "end_time": "2025-07-23T15:59:58.947431",
     "exception": false,
     "start_time": "2025-07-23T15:59:58.923127",
     "status": "completed"
    },
    "tags": []
   },
   "outputs": [],
   "source": [
    "AttritionMap = {\"No\": 0, \"Yes\": 1}\n",
    "\n",
    "ManualOrdinalEncoding(DF_cleaned, \"Attrition\", AttritionMap)"
   ]
  },
  {
   "cell_type": "markdown",
   "id": "b75d045b",
   "metadata": {
    "papermill": {
     "duration": 0.014081,
     "end_time": "2025-07-23T15:59:58.976413",
     "exception": false,
     "start_time": "2025-07-23T15:59:58.962332",
     "status": "completed"
    },
    "tags": []
   },
   "source": [
    "## Ordinal Encoding"
   ]
  },
  {
   "cell_type": "code",
   "execution_count": 17,
   "id": "dd545ffe",
   "metadata": {
    "execution": {
     "iopub.execute_input": "2025-07-23T15:59:59.014522Z",
     "iopub.status.busy": "2025-07-23T15:59:59.014226Z",
     "iopub.status.idle": "2025-07-23T15:59:59.019264Z",
     "shell.execute_reply": "2025-07-23T15:59:59.018008Z"
    },
    "papermill": {
     "duration": 0.026772,
     "end_time": "2025-07-23T15:59:59.020786",
     "exception": false,
     "start_time": "2025-07-23T15:59:58.994014",
     "status": "completed"
    },
    "tags": []
   },
   "outputs": [],
   "source": [
    "Attrition_True = (DF_cleaned.Attrition == 1)"
   ]
  },
  {
   "cell_type": "markdown",
   "id": "6942cf25",
   "metadata": {
    "papermill": {
     "duration": 0.014512,
     "end_time": "2025-07-23T15:59:59.049968",
     "exception": false,
     "start_time": "2025-07-23T15:59:59.035456",
     "status": "completed"
    },
    "tags": []
   },
   "source": [
    "### Business Travel"
   ]
  },
  {
   "cell_type": "code",
   "execution_count": 18,
   "id": "dfa8e453",
   "metadata": {
    "execution": {
     "iopub.execute_input": "2025-07-23T15:59:59.080562Z",
     "iopub.status.busy": "2025-07-23T15:59:59.080167Z",
     "iopub.status.idle": "2025-07-23T15:59:59.090804Z",
     "shell.execute_reply": "2025-07-23T15:59:59.089906Z"
    },
    "papermill": {
     "duration": 0.027805,
     "end_time": "2025-07-23T15:59:59.092304",
     "exception": false,
     "start_time": "2025-07-23T15:59:59.064499",
     "status": "completed"
    },
    "tags": []
   },
   "outputs": [],
   "source": [
    "Non_Travel_Count = (DF_cleaned.BusinessTravel == \"Non-Travel\")\n",
    "Travel_Rarely_Count = (DF_cleaned.BusinessTravel == \"Travel_Rarely\")\n",
    "Travel_Frequently_Count = (DF_cleaned.BusinessTravel == \"Travel_Frequently\")\n",
    "\n",
    "Non_Travel_Attrition_Count = DF_cleaned[Non_Travel_Count&Attrition_True].shape[0]\n",
    "Travel_Rarely_Attrition_Count = DF_cleaned[Travel_Rarely_Count&Attrition_True].shape[0]\n",
    "Travel_Frequently_Attrition_Count = DF_cleaned[Travel_Frequently_Count&Attrition_True].shape[0]"
   ]
  },
  {
   "cell_type": "code",
   "execution_count": 19,
   "id": "d8ea291b",
   "metadata": {
    "execution": {
     "iopub.execute_input": "2025-07-23T15:59:59.124357Z",
     "iopub.status.busy": "2025-07-23T15:59:59.123972Z",
     "iopub.status.idle": "2025-07-23T15:59:59.132445Z",
     "shell.execute_reply": "2025-07-23T15:59:59.131254Z"
    },
    "papermill": {
     "duration": 0.027308,
     "end_time": "2025-07-23T15:59:59.134419",
     "exception": false,
     "start_time": "2025-07-23T15:59:59.107111",
     "status": "completed"
    },
    "tags": []
   },
   "outputs": [
    {
     "name": "stdout",
     "output_type": "stream",
     "text": [
      "150 1043 277\n",
      "12 156 69\n"
     ]
    }
   ],
   "source": [
    "print(Non_Travel_Count.sum(), Travel_Rarely_Count.sum(), Travel_Frequently_Count.sum())\n",
    "print(Non_Travel_Attrition_Count, Travel_Rarely_Attrition_Count, Travel_Frequently_Attrition_Count)"
   ]
  },
  {
   "cell_type": "code",
   "execution_count": 20,
   "id": "86a5e2e7",
   "metadata": {
    "execution": {
     "iopub.execute_input": "2025-07-23T15:59:59.172542Z",
     "iopub.status.busy": "2025-07-23T15:59:59.172139Z",
     "iopub.status.idle": "2025-07-23T15:59:59.178312Z",
     "shell.execute_reply": "2025-07-23T15:59:59.177394Z"
    },
    "papermill": {
     "duration": 0.024306,
     "end_time": "2025-07-23T15:59:59.179874",
     "exception": false,
     "start_time": "2025-07-23T15:59:59.155568",
     "status": "completed"
    },
    "tags": []
   },
   "outputs": [
    {
     "name": "stdout",
     "output_type": "stream",
     "text": [
      "0.14956855225311602 0.2490974729241877\n"
     ]
    }
   ],
   "source": [
    "Travel_Rarely_Frequency = Travel_Rarely_Attrition_Count/Travel_Rarely_Count.sum()\n",
    "Travel_Frequently_Frequency = Travel_Frequently_Attrition_Count/Travel_Frequently_Count.sum()\n",
    "\n",
    "print(Travel_Rarely_Frequency, Travel_Frequently_Frequency)"
   ]
  },
  {
   "cell_type": "code",
   "execution_count": 21,
   "id": "99099347",
   "metadata": {
    "execution": {
     "iopub.execute_input": "2025-07-23T15:59:59.217259Z",
     "iopub.status.busy": "2025-07-23T15:59:59.216788Z",
     "iopub.status.idle": "2025-07-23T15:59:59.223441Z",
     "shell.execute_reply": "2025-07-23T15:59:59.222441Z"
    },
    "papermill": {
     "duration": 0.029606,
     "end_time": "2025-07-23T15:59:59.225396",
     "exception": false,
     "start_time": "2025-07-23T15:59:59.195790",
     "status": "completed"
    },
    "tags": []
   },
   "outputs": [],
   "source": [
    "BusinessTravelMap = {\"Non-Travel\": 0, \"Travel_Rarely\": 1, \"Travel_Frequently\": 2}\n",
    "\n",
    "ManualOrdinalEncoding(DF_cleaned, \"BusinessTravel\", BusinessTravelMap)"
   ]
  },
  {
   "cell_type": "markdown",
   "id": "539439f2",
   "metadata": {
    "papermill": {
     "duration": 0.018394,
     "end_time": "2025-07-23T15:59:59.266575",
     "exception": false,
     "start_time": "2025-07-23T15:59:59.248181",
     "status": "completed"
    },
    "tags": []
   },
   "source": [
    "### OverTime"
   ]
  },
  {
   "cell_type": "code",
   "execution_count": 22,
   "id": "32116810",
   "metadata": {
    "execution": {
     "iopub.execute_input": "2025-07-23T15:59:59.303963Z",
     "iopub.status.busy": "2025-07-23T15:59:59.303540Z",
     "iopub.status.idle": "2025-07-23T15:59:59.310673Z",
     "shell.execute_reply": "2025-07-23T15:59:59.309728Z"
    },
    "papermill": {
     "duration": 0.025824,
     "end_time": "2025-07-23T15:59:59.312192",
     "exception": false,
     "start_time": "2025-07-23T15:59:59.286368",
     "status": "completed"
    },
    "tags": []
   },
   "outputs": [
    {
     "data": {
      "text/plain": [
       "array(['Yes', 'No'], dtype=object)"
      ]
     },
     "execution_count": 22,
     "metadata": {},
     "output_type": "execute_result"
    }
   ],
   "source": [
    "DF_cleaned.OverTime.unique()"
   ]
  },
  {
   "cell_type": "code",
   "execution_count": 23,
   "id": "4f668196",
   "metadata": {
    "execution": {
     "iopub.execute_input": "2025-07-23T15:59:59.343135Z",
     "iopub.status.busy": "2025-07-23T15:59:59.342809Z",
     "iopub.status.idle": "2025-07-23T15:59:59.350179Z",
     "shell.execute_reply": "2025-07-23T15:59:59.349404Z"
    },
    "papermill": {
     "duration": 0.024262,
     "end_time": "2025-07-23T15:59:59.351564",
     "exception": false,
     "start_time": "2025-07-23T15:59:59.327302",
     "status": "completed"
    },
    "tags": []
   },
   "outputs": [],
   "source": [
    "Over_Time_False_Count = (DF_cleaned.OverTime == \"No\")\n",
    "Over_Time_True_Count = (DF_cleaned.OverTime == \"Yes\")\n",
    "\n",
    "Over_Time_False_Attrition_Count = DF_cleaned[Over_Time_False_Count&Attrition_True].shape[0]\n",
    "Over_Time_True_Attrition_Count = DF_cleaned[Over_Time_True_Count&Attrition_True].shape[0]"
   ]
  },
  {
   "cell_type": "code",
   "execution_count": 24,
   "id": "a080ade2",
   "metadata": {
    "execution": {
     "iopub.execute_input": "2025-07-23T15:59:59.382748Z",
     "iopub.status.busy": "2025-07-23T15:59:59.381970Z",
     "iopub.status.idle": "2025-07-23T15:59:59.387948Z",
     "shell.execute_reply": "2025-07-23T15:59:59.387032Z"
    },
    "papermill": {
     "duration": 0.022991,
     "end_time": "2025-07-23T15:59:59.389434",
     "exception": false,
     "start_time": "2025-07-23T15:59:59.366443",
     "status": "completed"
    },
    "tags": []
   },
   "outputs": [
    {
     "name": "stdout",
     "output_type": "stream",
     "text": [
      "0.10436432637571158 0.30528846153846156\n"
     ]
    }
   ],
   "source": [
    "Over_Time_False_Frequency = Over_Time_False_Attrition_Count/Over_Time_False_Count.sum()\n",
    "Over_Time_True_Frequency = Over_Time_True_Attrition_Count/Over_Time_True_Count.sum()\n",
    "\n",
    "print(Over_Time_False_Frequency, Over_Time_True_Frequency)"
   ]
  },
  {
   "cell_type": "code",
   "execution_count": 25,
   "id": "b92118c2",
   "metadata": {
    "execution": {
     "iopub.execute_input": "2025-07-23T15:59:59.419798Z",
     "iopub.status.busy": "2025-07-23T15:59:59.419418Z",
     "iopub.status.idle": "2025-07-23T15:59:59.426154Z",
     "shell.execute_reply": "2025-07-23T15:59:59.425188Z"
    },
    "papermill": {
     "duration": 0.02385,
     "end_time": "2025-07-23T15:59:59.427656",
     "exception": false,
     "start_time": "2025-07-23T15:59:59.403806",
     "status": "completed"
    },
    "tags": []
   },
   "outputs": [],
   "source": [
    "OverTimeMap = {\"No\": 0, \"Yes\": 1}\n",
    "\n",
    "ManualOrdinalEncoding(DF_cleaned, \"OverTime\", OverTimeMap)"
   ]
  },
  {
   "cell_type": "markdown",
   "id": "0a2d31f5",
   "metadata": {
    "papermill": {
     "duration": 0.014467,
     "end_time": "2025-07-23T15:59:59.458924",
     "exception": false,
     "start_time": "2025-07-23T15:59:59.444457",
     "status": "completed"
    },
    "tags": []
   },
   "source": [
    "### MaritalStatus"
   ]
  },
  {
   "cell_type": "code",
   "execution_count": 26,
   "id": "31656668",
   "metadata": {
    "execution": {
     "iopub.execute_input": "2025-07-23T15:59:59.490884Z",
     "iopub.status.busy": "2025-07-23T15:59:59.490481Z",
     "iopub.status.idle": "2025-07-23T15:59:59.497249Z",
     "shell.execute_reply": "2025-07-23T15:59:59.496408Z"
    },
    "papermill": {
     "duration": 0.025252,
     "end_time": "2025-07-23T15:59:59.498943",
     "exception": false,
     "start_time": "2025-07-23T15:59:59.473691",
     "status": "completed"
    },
    "tags": []
   },
   "outputs": [
    {
     "data": {
      "text/plain": [
       "array(['Single', 'Married', 'Divorced'], dtype=object)"
      ]
     },
     "execution_count": 26,
     "metadata": {},
     "output_type": "execute_result"
    }
   ],
   "source": [
    "DF_cleaned.MaritalStatus.unique()"
   ]
  },
  {
   "cell_type": "code",
   "execution_count": 27,
   "id": "1b10db6a",
   "metadata": {
    "execution": {
     "iopub.execute_input": "2025-07-23T15:59:59.533760Z",
     "iopub.status.busy": "2025-07-23T15:59:59.532956Z",
     "iopub.status.idle": "2025-07-23T15:59:59.543398Z",
     "shell.execute_reply": "2025-07-23T15:59:59.542340Z"
    },
    "papermill": {
     "duration": 0.027694,
     "end_time": "2025-07-23T15:59:59.544998",
     "exception": false,
     "start_time": "2025-07-23T15:59:59.517304",
     "status": "completed"
    },
    "tags": []
   },
   "outputs": [],
   "source": [
    "Marital_Status_Single_Count = (DF_cleaned.MaritalStatus == \"Single\")\n",
    "Marital_Status_Married_Count = (DF_cleaned.MaritalStatus == \"Married\")\n",
    "Marital_Status_Divorced_Count = (DF_cleaned.MaritalStatus == \"Divorced\")\n",
    "\n",
    "Marital_Status_Single_Attrition_Count = DF_cleaned[Marital_Status_Single_Count&Attrition_True].shape[0]\n",
    "Marital_Status_Married_Attrition_Count = DF_cleaned[Marital_Status_Married_Count&Attrition_True].shape[0]\n",
    "Marital_Status_Divorced_Attrition_Count = DF_cleaned[Marital_Status_Divorced_Count&Attrition_True].shape[0]"
   ]
  },
  {
   "cell_type": "code",
   "execution_count": 28,
   "id": "1b8da047",
   "metadata": {
    "execution": {
     "iopub.execute_input": "2025-07-23T15:59:59.575948Z",
     "iopub.status.busy": "2025-07-23T15:59:59.575098Z",
     "iopub.status.idle": "2025-07-23T15:59:59.580959Z",
     "shell.execute_reply": "2025-07-23T15:59:59.579941Z"
    },
    "papermill": {
     "duration": 0.023316,
     "end_time": "2025-07-23T15:59:59.582808",
     "exception": false,
     "start_time": "2025-07-23T15:59:59.559492",
     "status": "completed"
    },
    "tags": []
   },
   "outputs": [],
   "source": [
    "Marital_Status_Single_Frequency = Marital_Status_Single_Attrition_Count/Marital_Status_Single_Count.sum()\n",
    "Marital_Status_Married_Frequency = Marital_Status_Married_Attrition_Count/Marital_Status_Married_Count.sum()\n",
    "Marital_Status_Divorced_Frequency = Marital_Status_Divorced_Attrition_Count/Marital_Status_Divorced_Count.sum()"
   ]
  },
  {
   "cell_type": "code",
   "execution_count": 29,
   "id": "84d249dc",
   "metadata": {
    "execution": {
     "iopub.execute_input": "2025-07-23T15:59:59.613485Z",
     "iopub.status.busy": "2025-07-23T15:59:59.613197Z",
     "iopub.status.idle": "2025-07-23T15:59:59.617835Z",
     "shell.execute_reply": "2025-07-23T15:59:59.616904Z"
    },
    "papermill": {
     "duration": 0.021726,
     "end_time": "2025-07-23T15:59:59.619349",
     "exception": false,
     "start_time": "2025-07-23T15:59:59.597623",
     "status": "completed"
    },
    "tags": []
   },
   "outputs": [
    {
     "name": "stdout",
     "output_type": "stream",
     "text": [
      "0.2553191489361702 0.12481426448736999 0.10091743119266056\n"
     ]
    }
   ],
   "source": [
    "print(Marital_Status_Single_Frequency, Marital_Status_Married_Frequency, Marital_Status_Divorced_Frequency)"
   ]
  },
  {
   "cell_type": "code",
   "execution_count": 30,
   "id": "686fa428",
   "metadata": {
    "execution": {
     "iopub.execute_input": "2025-07-23T15:59:59.650666Z",
     "iopub.status.busy": "2025-07-23T15:59:59.649920Z",
     "iopub.status.idle": "2025-07-23T15:59:59.656798Z",
     "shell.execute_reply": "2025-07-23T15:59:59.655878Z"
    },
    "papermill": {
     "duration": 0.024885,
     "end_time": "2025-07-23T15:59:59.658519",
     "exception": false,
     "start_time": "2025-07-23T15:59:59.633634",
     "status": "completed"
    },
    "tags": []
   },
   "outputs": [],
   "source": [
    "MaritalStatusMap = {\"Single\": 2, \"Married\": 1, \"Divorced\": 0}\n",
    "\n",
    "ManualOrdinalEncoding(DF_cleaned, \"MaritalStatus\", MaritalStatusMap)"
   ]
  },
  {
   "cell_type": "markdown",
   "id": "d4669c8b",
   "metadata": {
    "papermill": {
     "duration": 0.014899,
     "end_time": "2025-07-23T15:59:59.693473",
     "exception": false,
     "start_time": "2025-07-23T15:59:59.678574",
     "status": "completed"
    },
    "tags": []
   },
   "source": [
    "### Downloading the dataframe to CSV"
   ]
  },
  {
   "cell_type": "code",
   "execution_count": 31,
   "id": "9b894168",
   "metadata": {
    "execution": {
     "iopub.execute_input": "2025-07-23T15:59:59.726730Z",
     "iopub.status.busy": "2025-07-23T15:59:59.726045Z",
     "iopub.status.idle": "2025-07-23T15:59:59.732133Z",
     "shell.execute_reply": "2025-07-23T15:59:59.731313Z"
    },
    "papermill": {
     "duration": 0.023871,
     "end_time": "2025-07-23T15:59:59.733580",
     "exception": false,
     "start_time": "2025-07-23T15:59:59.709709",
     "status": "completed"
    },
    "tags": []
   },
   "outputs": [],
   "source": [
    "DF_num_col = DF_cleaned.select_dtypes(exclude=\"object\")\n",
    "\n",
    "#output_csv_file = \"numerical_data.csv\"\n",
    "#DF_cleaned.to_csv(output_csv_file, index=False)"
   ]
  },
  {
   "cell_type": "markdown",
   "id": "ac3c25b0",
   "metadata": {
    "papermill": {
     "duration": 0.015087,
     "end_time": "2025-07-23T15:59:59.763739",
     "exception": false,
     "start_time": "2025-07-23T15:59:59.748652",
     "status": "completed"
    },
    "tags": []
   },
   "source": [
    "### Pearson Correlaion"
   ]
  },
  {
   "cell_type": "code",
   "execution_count": 32,
   "id": "5be26631",
   "metadata": {
    "execution": {
     "iopub.execute_input": "2025-07-23T15:59:59.795278Z",
     "iopub.status.busy": "2025-07-23T15:59:59.794864Z",
     "iopub.status.idle": "2025-07-23T15:59:59.805609Z",
     "shell.execute_reply": "2025-07-23T15:59:59.804632Z"
    },
    "papermill": {
     "duration": 0.028526,
     "end_time": "2025-07-23T15:59:59.807556",
     "exception": false,
     "start_time": "2025-07-23T15:59:59.779030",
     "status": "completed"
    },
    "tags": []
   },
   "outputs": [],
   "source": [
    "pearson_corr = DF_num_col.corr()"
   ]
  },
  {
   "cell_type": "code",
   "execution_count": 33,
   "id": "5ff70b8f",
   "metadata": {
    "execution": {
     "iopub.execute_input": "2025-07-23T15:59:59.846593Z",
     "iopub.status.busy": "2025-07-23T15:59:59.846205Z",
     "iopub.status.idle": "2025-07-23T15:59:59.850799Z",
     "shell.execute_reply": "2025-07-23T15:59:59.849929Z"
    },
    "papermill": {
     "duration": 0.022494,
     "end_time": "2025-07-23T15:59:59.852974",
     "exception": false,
     "start_time": "2025-07-23T15:59:59.830480",
     "status": "completed"
    },
    "tags": []
   },
   "outputs": [],
   "source": [
    "#pearson_corr"
   ]
  },
  {
   "cell_type": "markdown",
   "id": "e53f5848",
   "metadata": {
    "papermill": {
     "duration": 0.015746,
     "end_time": "2025-07-23T15:59:59.891762",
     "exception": false,
     "start_time": "2025-07-23T15:59:59.876016",
     "status": "completed"
    },
    "tags": []
   },
   "source": [
    "From the above correlation table, we can reject: HourlyRate, DailyRate, MonthlyRate, PercentSalaryHike, PerformanceRating, EmployeeNumber and YearsSinceLastPromotion."
   ]
  },
  {
   "cell_type": "code",
   "execution_count": 34,
   "id": "3837244e",
   "metadata": {
    "execution": {
     "iopub.execute_input": "2025-07-23T15:59:59.924143Z",
     "iopub.status.busy": "2025-07-23T15:59:59.923334Z",
     "iopub.status.idle": "2025-07-23T15:59:59.930549Z",
     "shell.execute_reply": "2025-07-23T15:59:59.929634Z"
    },
    "papermill": {
     "duration": 0.024953,
     "end_time": "2025-07-23T15:59:59.932315",
     "exception": false,
     "start_time": "2025-07-23T15:59:59.907362",
     "status": "completed"
    },
    "tags": []
   },
   "outputs": [],
   "source": [
    "weakly_corr_col = [\"HourlyRate\", \"DailyRate\", \"MonthlyRate\", \"PercentSalaryHike\", \"PerformanceRating\", \"EmployeeNumber\", \"YearsSinceLastPromotion\"]\n",
    "\n",
    "DF_cleaned_backed = DF_cleaned.copy()\n",
    "DF_cleaned.drop(columns=weakly_corr_col, inplace=True)"
   ]
  },
  {
   "cell_type": "markdown",
   "id": "fa2799ab",
   "metadata": {
    "papermill": {
     "duration": 0.014739,
     "end_time": "2025-07-23T15:59:59.967060",
     "exception": false,
     "start_time": "2025-07-23T15:59:59.952321",
     "status": "completed"
    },
    "tags": []
   },
   "source": [
    "## Label Encoding"
   ]
  },
  {
   "cell_type": "code",
   "execution_count": 35,
   "id": "99f80fad",
   "metadata": {
    "execution": {
     "iopub.execute_input": "2025-07-23T15:59:59.998798Z",
     "iopub.status.busy": "2025-07-23T15:59:59.998148Z",
     "iopub.status.idle": "2025-07-23T16:00:00.223738Z",
     "shell.execute_reply": "2025-07-23T16:00:00.222728Z"
    },
    "papermill": {
     "duration": 0.243504,
     "end_time": "2025-07-23T16:00:00.225519",
     "exception": false,
     "start_time": "2025-07-23T15:59:59.982015",
     "status": "completed"
    },
    "tags": []
   },
   "outputs": [],
   "source": [
    "from sklearn.preprocessing import LabelEncoder"
   ]
  },
  {
   "cell_type": "code",
   "execution_count": 36,
   "id": "81838544",
   "metadata": {
    "execution": {
     "iopub.execute_input": "2025-07-23T16:00:00.258640Z",
     "iopub.status.busy": "2025-07-23T16:00:00.258252Z",
     "iopub.status.idle": "2025-07-23T16:00:00.263000Z",
     "shell.execute_reply": "2025-07-23T16:00:00.262094Z"
    },
    "papermill": {
     "duration": 0.023171,
     "end_time": "2025-07-23T16:00:00.264575",
     "exception": false,
     "start_time": "2025-07-23T16:00:00.241404",
     "status": "completed"
    },
    "tags": []
   },
   "outputs": [],
   "source": [
    "LE = LabelEncoder()"
   ]
  },
  {
   "cell_type": "code",
   "execution_count": 37,
   "id": "f03ef338",
   "metadata": {
    "execution": {
     "iopub.execute_input": "2025-07-23T16:00:00.297514Z",
     "iopub.status.busy": "2025-07-23T16:00:00.297128Z",
     "iopub.status.idle": "2025-07-23T16:00:00.304520Z",
     "shell.execute_reply": "2025-07-23T16:00:00.303576Z"
    },
    "papermill": {
     "duration": 0.025927,
     "end_time": "2025-07-23T16:00:00.306436",
     "exception": false,
     "start_time": "2025-07-23T16:00:00.280509",
     "status": "completed"
    },
    "tags": []
   },
   "outputs": [],
   "source": [
    "num_col = DF_cleaned.select_dtypes(exclude='object').columns\n",
    "cat_col = DF_cleaned.select_dtypes(include='object').columns"
   ]
  },
  {
   "cell_type": "code",
   "execution_count": 38,
   "id": "7dd0c2a2",
   "metadata": {
    "execution": {
     "iopub.execute_input": "2025-07-23T16:00:00.342337Z",
     "iopub.status.busy": "2025-07-23T16:00:00.342009Z",
     "iopub.status.idle": "2025-07-23T16:00:00.351368Z",
     "shell.execute_reply": "2025-07-23T16:00:00.350188Z"
    },
    "papermill": {
     "duration": 0.029564,
     "end_time": "2025-07-23T16:00:00.353061",
     "exception": false,
     "start_time": "2025-07-23T16:00:00.323497",
     "status": "completed"
    },
    "tags": []
   },
   "outputs": [],
   "source": [
    "for col in cat_col:\n",
    "    DF_cleaned[col] = LE.fit_transform(DF_cleaned[col])"
   ]
  },
  {
   "cell_type": "markdown",
   "id": "2b42cfb7",
   "metadata": {
    "papermill": {
     "duration": 0.014391,
     "end_time": "2025-07-23T16:00:00.383518",
     "exception": false,
     "start_time": "2025-07-23T16:00:00.369127",
     "status": "completed"
    },
    "tags": []
   },
   "source": [
    "## Data Split"
   ]
  },
  {
   "cell_type": "code",
   "execution_count": 39,
   "id": "41e0bb2c",
   "metadata": {
    "execution": {
     "iopub.execute_input": "2025-07-23T16:00:00.417254Z",
     "iopub.status.busy": "2025-07-23T16:00:00.416763Z",
     "iopub.status.idle": "2025-07-23T16:00:00.549175Z",
     "shell.execute_reply": "2025-07-23T16:00:00.548353Z"
    },
    "papermill": {
     "duration": 0.152627,
     "end_time": "2025-07-23T16:00:00.550779",
     "exception": false,
     "start_time": "2025-07-23T16:00:00.398152",
     "status": "completed"
    },
    "tags": []
   },
   "outputs": [],
   "source": [
    "from sklearn.model_selection import train_test_split"
   ]
  },
  {
   "cell_type": "code",
   "execution_count": 40,
   "id": "c5650b01",
   "metadata": {
    "execution": {
     "iopub.execute_input": "2025-07-23T16:00:00.581408Z",
     "iopub.status.busy": "2025-07-23T16:00:00.581087Z",
     "iopub.status.idle": "2025-07-23T16:00:00.587756Z",
     "shell.execute_reply": "2025-07-23T16:00:00.586801Z"
    },
    "papermill": {
     "duration": 0.024051,
     "end_time": "2025-07-23T16:00:00.589491",
     "exception": false,
     "start_time": "2025-07-23T16:00:00.565440",
     "status": "completed"
    },
    "tags": []
   },
   "outputs": [],
   "source": [
    "DF_train, DF_test = train_test_split(DF_cleaned, test_size=0.25, train_size=None, random_state=None, shuffle=True, stratify=None)"
   ]
  },
  {
   "cell_type": "markdown",
   "id": "458893fd",
   "metadata": {
    "papermill": {
     "duration": 0.014423,
     "end_time": "2025-07-23T16:00:00.619246",
     "exception": false,
     "start_time": "2025-07-23T16:00:00.604823",
     "status": "completed"
    },
    "tags": []
   },
   "source": [
    "## Upsample"
   ]
  },
  {
   "cell_type": "code",
   "execution_count": 41,
   "id": "d92913b2",
   "metadata": {
    "execution": {
     "iopub.execute_input": "2025-07-23T16:00:00.655543Z",
     "iopub.status.busy": "2025-07-23T16:00:00.655227Z",
     "iopub.status.idle": "2025-07-23T16:00:00.660111Z",
     "shell.execute_reply": "2025-07-23T16:00:00.659089Z"
    },
    "papermill": {
     "duration": 0.026778,
     "end_time": "2025-07-23T16:00:00.661561",
     "exception": false,
     "start_time": "2025-07-23T16:00:00.634783",
     "status": "completed"
    },
    "tags": []
   },
   "outputs": [],
   "source": [
    "from sklearn.utils import resample"
   ]
  },
  {
   "cell_type": "code",
   "execution_count": 42,
   "id": "198693e9",
   "metadata": {
    "execution": {
     "iopub.execute_input": "2025-07-23T16:00:00.692960Z",
     "iopub.status.busy": "2025-07-23T16:00:00.692610Z",
     "iopub.status.idle": "2025-07-23T16:00:00.701074Z",
     "shell.execute_reply": "2025-07-23T16:00:00.700113Z"
    },
    "papermill": {
     "duration": 0.026054,
     "end_time": "2025-07-23T16:00:00.702672",
     "exception": false,
     "start_time": "2025-07-23T16:00:00.676618",
     "status": "completed"
    },
    "tags": []
   },
   "outputs": [],
   "source": [
    "DF_train_minority = DF_train[DF_train['Attrition']==1]\n",
    "DF_train_majority = DF_train[DF_train['Attrition']==0]"
   ]
  },
  {
   "cell_type": "code",
   "execution_count": 43,
   "id": "debe523b",
   "metadata": {
    "execution": {
     "iopub.execute_input": "2025-07-23T16:00:00.736547Z",
     "iopub.status.busy": "2025-07-23T16:00:00.736228Z",
     "iopub.status.idle": "2025-07-23T16:00:00.742940Z",
     "shell.execute_reply": "2025-07-23T16:00:00.742064Z"
    },
    "papermill": {
     "duration": 0.024397,
     "end_time": "2025-07-23T16:00:00.744608",
     "exception": false,
     "start_time": "2025-07-23T16:00:00.720211",
     "status": "completed"
    },
    "tags": []
   },
   "outputs": [],
   "source": [
    "resampled_DF_train_minority = resample(DF_train_minority, replace=True, n_samples=len(DF_train_majority), random_state=42)"
   ]
  },
  {
   "cell_type": "code",
   "execution_count": 44,
   "id": "49232a59",
   "metadata": {
    "execution": {
     "iopub.execute_input": "2025-07-23T16:00:00.776182Z",
     "iopub.status.busy": "2025-07-23T16:00:00.775885Z",
     "iopub.status.idle": "2025-07-23T16:00:00.780118Z",
     "shell.execute_reply": "2025-07-23T16:00:00.779097Z"
    },
    "papermill": {
     "duration": 0.021634,
     "end_time": "2025-07-23T16:00:00.781835",
     "exception": false,
     "start_time": "2025-07-23T16:00:00.760201",
     "status": "completed"
    },
    "tags": []
   },
   "outputs": [],
   "source": [
    "from sklearn.utils import shuffle"
   ]
  },
  {
   "cell_type": "code",
   "execution_count": 45,
   "id": "3d6936aa",
   "metadata": {
    "execution": {
     "iopub.execute_input": "2025-07-23T16:00:00.819149Z",
     "iopub.status.busy": "2025-07-23T16:00:00.818492Z",
     "iopub.status.idle": "2025-07-23T16:00:00.828458Z",
     "shell.execute_reply": "2025-07-23T16:00:00.827395Z"
    },
    "papermill": {
     "duration": 0.030563,
     "end_time": "2025-07-23T16:00:00.830590",
     "exception": false,
     "start_time": "2025-07-23T16:00:00.800027",
     "status": "completed"
    },
    "tags": []
   },
   "outputs": [],
   "source": [
    "resampled_DF_train = pd.concat([resampled_DF_train_minority, DF_train_majority])\n",
    "resampled_DF_train = resampled_DF_train.sample(frac=1, random_state=42)"
   ]
  },
  {
   "cell_type": "code",
   "execution_count": 46,
   "id": "0c3918d7",
   "metadata": {
    "execution": {
     "iopub.execute_input": "2025-07-23T16:00:00.871960Z",
     "iopub.status.busy": "2025-07-23T16:00:00.871519Z",
     "iopub.status.idle": "2025-07-23T16:00:00.882020Z",
     "shell.execute_reply": "2025-07-23T16:00:00.881270Z"
    },
    "papermill": {
     "duration": 0.034277,
     "end_time": "2025-07-23T16:00:00.883447",
     "exception": false,
     "start_time": "2025-07-23T16:00:00.849170",
     "status": "completed"
    },
    "tags": []
   },
   "outputs": [],
   "source": [
    "X_train, y_train = resampled_DF_train.drop(\"Attrition\", axis=1, inplace=False), resampled_DF_train[\"Attrition\"]\n",
    "X_test, y_test = DF_test.drop(\"Attrition\", axis=1, inplace=False), DF_test[\"Attrition\"]"
   ]
  },
  {
   "cell_type": "markdown",
   "id": "ea782621",
   "metadata": {
    "papermill": {
     "duration": 0.014438,
     "end_time": "2025-07-23T16:00:00.912741",
     "exception": false,
     "start_time": "2025-07-23T16:00:00.898303",
     "status": "completed"
    },
    "tags": []
   },
   "source": [
    "# Model Training"
   ]
  },
  {
   "cell_type": "code",
   "execution_count": 47,
   "id": "fb32c587",
   "metadata": {
    "execution": {
     "iopub.execute_input": "2025-07-23T16:00:00.944060Z",
     "iopub.status.busy": "2025-07-23T16:00:00.943680Z",
     "iopub.status.idle": "2025-07-23T16:00:01.374201Z",
     "shell.execute_reply": "2025-07-23T16:00:01.373277Z"
    },
    "papermill": {
     "duration": 0.448611,
     "end_time": "2025-07-23T16:00:01.375898",
     "exception": false,
     "start_time": "2025-07-23T16:00:00.927287",
     "status": "completed"
    },
    "tags": []
   },
   "outputs": [],
   "source": [
    "import optuna\n",
    "from sklearn.model_selection import StratifiedKFold\n",
    "from sklearn.metrics import roc_auc_score, classification_report\n",
    "from sklearn.linear_model import LogisticRegression\n",
    "import pandas as pd\n",
    "from sklearn.preprocessing import StandardScaler"
   ]
  },
  {
   "cell_type": "code",
   "execution_count": 48,
   "id": "a2986da9",
   "metadata": {
    "execution": {
     "iopub.execute_input": "2025-07-23T16:00:01.409535Z",
     "iopub.status.busy": "2025-07-23T16:00:01.409218Z",
     "iopub.status.idle": "2025-07-23T16:00:01.440935Z",
     "shell.execute_reply": "2025-07-23T16:00:01.439945Z"
    },
    "papermill": {
     "duration": 0.049359,
     "end_time": "2025-07-23T16:00:01.442572",
     "exception": false,
     "start_time": "2025-07-23T16:00:01.393213",
     "status": "completed"
    },
    "tags": []
   },
   "outputs": [],
   "source": [
    "scaler = StandardScaler()\n",
    "X_train_scaled = scaler.fit_transform(X_train)\n",
    "X_test_scaled = scaler.transform(X_test)\n",
    "\n",
    "if not isinstance(X_train_scaled, pd.DataFrame):\n",
    "    X_train_scaled = pd.DataFrame(X_train_scaled, columns=X_train.columns)\n",
    "if not isinstance(y_train, pd.Series):\n",
    "    y_train = pd.Series(y_train)\n",
    "\n",
    "if not isinstance(X_test_scaled, pd.DataFrame):\n",
    "    X_test_scaled = pd.DataFrame(X_test_scaled, columns=X_test.columns)\n",
    "if not isinstance(y_test, pd.Series):\n",
    "    y_test = pd.Series(y_test)\n",
    "\n",
    "KF = StratifiedKFold(n_splits=5, shuffle=True, random_state=42)"
   ]
  },
  {
   "cell_type": "code",
   "execution_count": 49,
   "id": "24829f0f",
   "metadata": {
    "execution": {
     "iopub.execute_input": "2025-07-23T16:00:01.473090Z",
     "iopub.status.busy": "2025-07-23T16:00:01.472750Z",
     "iopub.status.idle": "2025-07-23T16:00:01.480468Z",
     "shell.execute_reply": "2025-07-23T16:00:01.479760Z"
    },
    "papermill": {
     "duration": 0.024598,
     "end_time": "2025-07-23T16:00:01.481800",
     "exception": false,
     "start_time": "2025-07-23T16:00:01.457202",
     "status": "completed"
    },
    "tags": []
   },
   "outputs": [],
   "source": [
    "def objective(trial):\n",
    "    C = trial.suggest_float('C', 1e-5, 1e2, log=True)\n",
    "    solver = trial.suggest_categorical('solver', ['liblinear', 'lbfgs', 'saga'])\n",
    "    penalty = trial.suggest_categorical('penalty', ['l1', 'l2'])\n",
    "\n",
    "    if solver == 'lbfgs' and penalty == 'l1':\n",
    "        raise optuna.exceptions.TrialPruned(\"LBFGS does not support L1 penalty.\")\n",
    "    if solver == 'saga' and penalty == 'elasticnet':\n",
    "        l1_ratio = trial.suggest_float('l1_ratio', 0.0, 1.0)\n",
    "    else:\n",
    "        l1_ratio = None\n",
    "\n",
    "    class_weight = trial.suggest_categorical('class_weight', [None, 'balanced'])\n",
    "\n",
    "    classifier = LogisticRegression(\n",
    "        C=C,\n",
    "        solver=solver,\n",
    "        penalty=penalty,\n",
    "        class_weight=class_weight,\n",
    "        l1_ratio=l1_ratio,\n",
    "        random_state=42,\n",
    "        max_iter=1000,\n",
    "        n_jobs=-1\n",
    "    )\n",
    "\n",
    "    roc_auc_scores = []\n",
    "    for fold, (train_index_inner, val_index_inner) in enumerate(KF.split(X_train_scaled, y_train)):\n",
    "        X_train_fold, X_val_fold = X_train_scaled.iloc[train_index_inner], X_train_scaled.iloc[val_index_inner]\n",
    "        y_train_fold, y_val_fold = y_train.iloc[train_index_inner], y_train.iloc[val_index_inner]\n",
    "\n",
    "        classifier.fit(X_train_fold, y_train_fold)\n",
    "        y_pred_proba_fold = classifier.predict_proba(X_val_fold)[:, 1]\n",
    "        roc_auc_fold = roc_auc_score(y_val_fold, y_pred_proba_fold)\n",
    "        roc_auc_scores.append(roc_auc_fold)\n",
    "\n",
    "    return sum(roc_auc_scores) / len(roc_auc_scores)"
   ]
  },
  {
   "cell_type": "code",
   "execution_count": 50,
   "id": "25acf7ab",
   "metadata": {
    "execution": {
     "iopub.execute_input": "2025-07-23T16:00:01.512511Z",
     "iopub.status.busy": "2025-07-23T16:00:01.512196Z",
     "iopub.status.idle": "2025-07-23T16:00:08.234094Z",
     "shell.execute_reply": "2025-07-23T16:00:08.233013Z"
    },
    "papermill": {
     "duration": 6.73899,
     "end_time": "2025-07-23T16:00:08.235476",
     "exception": false,
     "start_time": "2025-07-23T16:00:01.496486",
     "status": "completed"
    },
    "tags": []
   },
   "outputs": [
    {
     "name": "stderr",
     "output_type": "stream",
     "text": [
      "[I 2025-07-23 16:00:01,514] A new study created in memory with name: no-name-dfada5b8-4c09-4675-ad37-baea244f1469\n"
     ]
    },
    {
     "name": "stdout",
     "output_type": "stream",
     "text": [
      "Starting Logistic Regression hyperparameter optimization with Optuna and K-Fold Cross-Validation on X_train_scaled...\n"
     ]
    },
    {
     "name": "stderr",
     "output_type": "stream",
     "text": [
      "[I 2025-07-23 16:00:04,381] Trial 0 finished with value: 0.8551984877126653 and parameters: {'C': 1.971697402368192, 'solver': 'lbfgs', 'penalty': 'l2', 'class_weight': None}. Best is trial 0 with value: 0.8551984877126653.\n",
      "[I 2025-07-23 16:00:04,545] Trial 1 finished with value: 0.8549681001890359 and parameters: {'C': 50.35882800187015, 'solver': 'saga', 'penalty': 'l2', 'class_weight': 'balanced'}. Best is trial 0 with value: 0.8551984877126653.\n",
      "[I 2025-07-23 16:00:04,547] Trial 2 pruned. LBFGS does not support L1 penalty.\n",
      "[I 2025-07-23 16:00:04,651] Trial 3 finished with value: 0.5 and parameters: {'C': 0.0004985051133233246, 'solver': 'saga', 'penalty': 'l1', 'class_weight': 'balanced'}. Best is trial 0 with value: 0.8551984877126653.\n",
      "[I 2025-07-23 16:00:04,806] Trial 4 finished with value: 0.8549976370510397 and parameters: {'C': 19.344033738575394, 'solver': 'saga', 'penalty': 'l1', 'class_weight': 'balanced'}. Best is trial 0 with value: 0.8551984877126653.\n",
      "[I 2025-07-23 16:00:04,906] Trial 5 finished with value: 0.5 and parameters: {'C': 0.00047750414441597344, 'solver': 'saga', 'penalty': 'l1', 'class_weight': 'balanced'}. Best is trial 0 with value: 0.8551984877126653.\n",
      "[I 2025-07-23 16:00:05,060] Trial 6 finished with value: 0.8552575614366729 and parameters: {'C': 0.2796085406472262, 'solver': 'saga', 'penalty': 'l1', 'class_weight': 'balanced'}. Best is trial 6 with value: 0.8552575614366729.\n",
      "/usr/local/lib/python3.11/dist-packages/sklearn/linear_model/_logistic.py:1211: UserWarning: 'n_jobs' > 1 does not have any effect when 'solver' is set to 'liblinear'. Got 'n_jobs' = 4.\n",
      "  warnings.warn(\n",
      "/usr/local/lib/python3.11/dist-packages/sklearn/linear_model/_logistic.py:1211: UserWarning: 'n_jobs' > 1 does not have any effect when 'solver' is set to 'liblinear'. Got 'n_jobs' = 4.\n",
      "  warnings.warn(\n",
      "/usr/local/lib/python3.11/dist-packages/sklearn/linear_model/_logistic.py:1211: UserWarning: 'n_jobs' > 1 does not have any effect when 'solver' is set to 'liblinear'. Got 'n_jobs' = 4.\n",
      "  warnings.warn(\n",
      "/usr/local/lib/python3.11/dist-packages/sklearn/linear_model/_logistic.py:1211: UserWarning: 'n_jobs' > 1 does not have any effect when 'solver' is set to 'liblinear'. Got 'n_jobs' = 4.\n",
      "  warnings.warn(\n",
      "/usr/local/lib/python3.11/dist-packages/sklearn/linear_model/_logistic.py:1211: UserWarning: 'n_jobs' > 1 does not have any effect when 'solver' is set to 'liblinear'. Got 'n_jobs' = 4.\n",
      "  warnings.warn(\n",
      "[I 2025-07-23 16:00:05,120] Trial 7 finished with value: 0.8554288752362949 and parameters: {'C': 0.023126939891139273, 'solver': 'liblinear', 'penalty': 'l2', 'class_weight': 'balanced'}. Best is trial 7 with value: 0.8554288752362949.\n",
      "[I 2025-07-23 16:00:05,122] Trial 8 pruned. LBFGS does not support L1 penalty.\n",
      "/usr/local/lib/python3.11/dist-packages/sklearn/linear_model/_logistic.py:1211: UserWarning: 'n_jobs' > 1 does not have any effect when 'solver' is set to 'liblinear'. Got 'n_jobs' = 4.\n",
      "  warnings.warn(\n",
      "/usr/local/lib/python3.11/dist-packages/sklearn/linear_model/_logistic.py:1211: UserWarning: 'n_jobs' > 1 does not have any effect when 'solver' is set to 'liblinear'. Got 'n_jobs' = 4.\n",
      "  warnings.warn(\n",
      "/usr/local/lib/python3.11/dist-packages/sklearn/linear_model/_logistic.py:1211: UserWarning: 'n_jobs' > 1 does not have any effect when 'solver' is set to 'liblinear'. Got 'n_jobs' = 4.\n",
      "  warnings.warn(\n",
      "/usr/local/lib/python3.11/dist-packages/sklearn/linear_model/_logistic.py:1211: UserWarning: 'n_jobs' > 1 does not have any effect when 'solver' is set to 'liblinear'. Got 'n_jobs' = 4.\n",
      "  warnings.warn(\n",
      "/usr/local/lib/python3.11/dist-packages/sklearn/linear_model/_logistic.py:1211: UserWarning: 'n_jobs' > 1 does not have any effect when 'solver' is set to 'liblinear'. Got 'n_jobs' = 4.\n",
      "  warnings.warn(\n",
      "[I 2025-07-23 16:00:05,170] Trial 9 finished with value: 0.8505907372400756 and parameters: {'C': 0.0052088138307242226, 'solver': 'liblinear', 'penalty': 'l2', 'class_weight': None}. Best is trial 7 with value: 0.8554288752362949.\n",
      "/usr/local/lib/python3.11/dist-packages/sklearn/linear_model/_logistic.py:1211: UserWarning: 'n_jobs' > 1 does not have any effect when 'solver' is set to 'liblinear'. Got 'n_jobs' = 4.\n",
      "  warnings.warn(\n",
      "/usr/local/lib/python3.11/dist-packages/sklearn/linear_model/_logistic.py:1211: UserWarning: 'n_jobs' > 1 does not have any effect when 'solver' is set to 'liblinear'. Got 'n_jobs' = 4.\n",
      "  warnings.warn(\n",
      "/usr/local/lib/python3.11/dist-packages/sklearn/linear_model/_logistic.py:1211: UserWarning: 'n_jobs' > 1 does not have any effect when 'solver' is set to 'liblinear'. Got 'n_jobs' = 4.\n",
      "  warnings.warn(\n",
      "/usr/local/lib/python3.11/dist-packages/sklearn/linear_model/_logistic.py:1211: UserWarning: 'n_jobs' > 1 does not have any effect when 'solver' is set to 'liblinear'. Got 'n_jobs' = 4.\n",
      "  warnings.warn(\n",
      "/usr/local/lib/python3.11/dist-packages/sklearn/linear_model/_logistic.py:1211: UserWarning: 'n_jobs' > 1 does not have any effect when 'solver' is set to 'liblinear'. Got 'n_jobs' = 4.\n",
      "  warnings.warn(\n",
      "[I 2025-07-23 16:00:05,222] Trial 10 finished with value: 0.805741965973535 and parameters: {'C': 1.4642160512398305e-05, 'solver': 'liblinear', 'penalty': 'l2', 'class_weight': None}. Best is trial 7 with value: 0.8554288752362949.\n",
      "/usr/local/lib/python3.11/dist-packages/sklearn/linear_model/_logistic.py:1211: UserWarning: 'n_jobs' > 1 does not have any effect when 'solver' is set to 'liblinear'. Got 'n_jobs' = 4.\n",
      "  warnings.warn(\n",
      "/usr/local/lib/python3.11/dist-packages/sklearn/linear_model/_logistic.py:1211: UserWarning: 'n_jobs' > 1 does not have any effect when 'solver' is set to 'liblinear'. Got 'n_jobs' = 4.\n",
      "  warnings.warn(\n",
      "/usr/local/lib/python3.11/dist-packages/sklearn/linear_model/_logistic.py:1211: UserWarning: 'n_jobs' > 1 does not have any effect when 'solver' is set to 'liblinear'. Got 'n_jobs' = 4.\n",
      "  warnings.warn(\n",
      "/usr/local/lib/python3.11/dist-packages/sklearn/linear_model/_logistic.py:1211: UserWarning: 'n_jobs' > 1 does not have any effect when 'solver' is set to 'liblinear'. Got 'n_jobs' = 4.\n",
      "  warnings.warn(\n",
      "/usr/local/lib/python3.11/dist-packages/sklearn/linear_model/_logistic.py:1211: UserWarning: 'n_jobs' > 1 does not have any effect when 'solver' is set to 'liblinear'. Got 'n_jobs' = 4.\n",
      "  warnings.warn(\n",
      "[I 2025-07-23 16:00:05,290] Trial 11 finished with value: 0.855913279773157 and parameters: {'C': 0.10386393314388584, 'solver': 'liblinear', 'penalty': 'l2', 'class_weight': 'balanced'}. Best is trial 11 with value: 0.855913279773157.\n",
      "/usr/local/lib/python3.11/dist-packages/sklearn/linear_model/_logistic.py:1211: UserWarning: 'n_jobs' > 1 does not have any effect when 'solver' is set to 'liblinear'. Got 'n_jobs' = 4.\n",
      "  warnings.warn(\n",
      "/usr/local/lib/python3.11/dist-packages/sklearn/linear_model/_logistic.py:1211: UserWarning: 'n_jobs' > 1 does not have any effect when 'solver' is set to 'liblinear'. Got 'n_jobs' = 4.\n",
      "  warnings.warn(\n",
      "/usr/local/lib/python3.11/dist-packages/sklearn/linear_model/_logistic.py:1211: UserWarning: 'n_jobs' > 1 does not have any effect when 'solver' is set to 'liblinear'. Got 'n_jobs' = 4.\n",
      "  warnings.warn(\n",
      "/usr/local/lib/python3.11/dist-packages/sklearn/linear_model/_logistic.py:1211: UserWarning: 'n_jobs' > 1 does not have any effect when 'solver' is set to 'liblinear'. Got 'n_jobs' = 4.\n",
      "  warnings.warn(\n",
      "/usr/local/lib/python3.11/dist-packages/sklearn/linear_model/_logistic.py:1211: UserWarning: 'n_jobs' > 1 does not have any effect when 'solver' is set to 'liblinear'. Got 'n_jobs' = 4.\n",
      "  warnings.warn(\n",
      "[I 2025-07-23 16:00:05,348] Trial 12 finished with value: 0.8534558128544424 and parameters: {'C': 0.010562386280643241, 'solver': 'liblinear', 'penalty': 'l2', 'class_weight': 'balanced'}. Best is trial 11 with value: 0.855913279773157.\n",
      "/usr/local/lib/python3.11/dist-packages/sklearn/linear_model/_logistic.py:1211: UserWarning: 'n_jobs' > 1 does not have any effect when 'solver' is set to 'liblinear'. Got 'n_jobs' = 4.\n",
      "  warnings.warn(\n",
      "/usr/local/lib/python3.11/dist-packages/sklearn/linear_model/_logistic.py:1211: UserWarning: 'n_jobs' > 1 does not have any effect when 'solver' is set to 'liblinear'. Got 'n_jobs' = 4.\n",
      "  warnings.warn(\n",
      "/usr/local/lib/python3.11/dist-packages/sklearn/linear_model/_logistic.py:1211: UserWarning: 'n_jobs' > 1 does not have any effect when 'solver' is set to 'liblinear'. Got 'n_jobs' = 4.\n",
      "  warnings.warn(\n",
      "/usr/local/lib/python3.11/dist-packages/sklearn/linear_model/_logistic.py:1211: UserWarning: 'n_jobs' > 1 does not have any effect when 'solver' is set to 'liblinear'. Got 'n_jobs' = 4.\n",
      "  warnings.warn(\n",
      "/usr/local/lib/python3.11/dist-packages/sklearn/linear_model/_logistic.py:1211: UserWarning: 'n_jobs' > 1 does not have any effect when 'solver' is set to 'liblinear'. Got 'n_jobs' = 4.\n",
      "  warnings.warn(\n",
      "[I 2025-07-23 16:00:05,415] Trial 13 finished with value: 0.8552634688090738 and parameters: {'C': 0.7577270696785308, 'solver': 'liblinear', 'penalty': 'l2', 'class_weight': 'balanced'}. Best is trial 11 with value: 0.855913279773157.\n",
      "/usr/local/lib/python3.11/dist-packages/sklearn/linear_model/_logistic.py:1211: UserWarning: 'n_jobs' > 1 does not have any effect when 'solver' is set to 'liblinear'. Got 'n_jobs' = 4.\n",
      "  warnings.warn(\n",
      "/usr/local/lib/python3.11/dist-packages/sklearn/linear_model/_logistic.py:1211: UserWarning: 'n_jobs' > 1 does not have any effect when 'solver' is set to 'liblinear'. Got 'n_jobs' = 4.\n",
      "  warnings.warn(\n",
      "/usr/local/lib/python3.11/dist-packages/sklearn/linear_model/_logistic.py:1211: UserWarning: 'n_jobs' > 1 does not have any effect when 'solver' is set to 'liblinear'. Got 'n_jobs' = 4.\n",
      "  warnings.warn(\n",
      "/usr/local/lib/python3.11/dist-packages/sklearn/linear_model/_logistic.py:1211: UserWarning: 'n_jobs' > 1 does not have any effect when 'solver' is set to 'liblinear'. Got 'n_jobs' = 4.\n",
      "  warnings.warn(\n",
      "/usr/local/lib/python3.11/dist-packages/sklearn/linear_model/_logistic.py:1211: UserWarning: 'n_jobs' > 1 does not have any effect when 'solver' is set to 'liblinear'. Got 'n_jobs' = 4.\n",
      "  warnings.warn(\n",
      "[I 2025-07-23 16:00:05,478] Trial 14 finished with value: 0.854914933837429 and parameters: {'C': 0.020644573210155164, 'solver': 'liblinear', 'penalty': 'l2', 'class_weight': 'balanced'}. Best is trial 11 with value: 0.855913279773157.\n",
      "/usr/local/lib/python3.11/dist-packages/sklearn/linear_model/_logistic.py:1211: UserWarning: 'n_jobs' > 1 does not have any effect when 'solver' is set to 'liblinear'. Got 'n_jobs' = 4.\n",
      "  warnings.warn(\n",
      "/usr/local/lib/python3.11/dist-packages/sklearn/linear_model/_logistic.py:1211: UserWarning: 'n_jobs' > 1 does not have any effect when 'solver' is set to 'liblinear'. Got 'n_jobs' = 4.\n",
      "  warnings.warn(\n",
      "/usr/local/lib/python3.11/dist-packages/sklearn/linear_model/_logistic.py:1211: UserWarning: 'n_jobs' > 1 does not have any effect when 'solver' is set to 'liblinear'. Got 'n_jobs' = 4.\n",
      "  warnings.warn(\n",
      "/usr/local/lib/python3.11/dist-packages/sklearn/linear_model/_logistic.py:1211: UserWarning: 'n_jobs' > 1 does not have any effect when 'solver' is set to 'liblinear'. Got 'n_jobs' = 4.\n",
      "  warnings.warn(\n",
      "/usr/local/lib/python3.11/dist-packages/sklearn/linear_model/_logistic.py:1211: UserWarning: 'n_jobs' > 1 does not have any effect when 'solver' is set to 'liblinear'. Got 'n_jobs' = 4.\n",
      "  warnings.warn(\n",
      "[I 2025-07-23 16:00:05,538] Trial 15 finished with value: 0.8403532608695652 and parameters: {'C': 0.0014541312211994253, 'solver': 'liblinear', 'penalty': 'l2', 'class_weight': 'balanced'}. Best is trial 11 with value: 0.855913279773157.\n",
      "/usr/local/lib/python3.11/dist-packages/sklearn/linear_model/_logistic.py:1211: UserWarning: 'n_jobs' > 1 does not have any effect when 'solver' is set to 'liblinear'. Got 'n_jobs' = 4.\n",
      "  warnings.warn(\n",
      "/usr/local/lib/python3.11/dist-packages/sklearn/linear_model/_logistic.py:1211: UserWarning: 'n_jobs' > 1 does not have any effect when 'solver' is set to 'liblinear'. Got 'n_jobs' = 4.\n",
      "  warnings.warn(\n",
      "/usr/local/lib/python3.11/dist-packages/sklearn/linear_model/_logistic.py:1211: UserWarning: 'n_jobs' > 1 does not have any effect when 'solver' is set to 'liblinear'. Got 'n_jobs' = 4.\n",
      "  warnings.warn(\n",
      "/usr/local/lib/python3.11/dist-packages/sklearn/linear_model/_logistic.py:1211: UserWarning: 'n_jobs' > 1 does not have any effect when 'solver' is set to 'liblinear'. Got 'n_jobs' = 4.\n",
      "  warnings.warn(\n",
      "/usr/local/lib/python3.11/dist-packages/sklearn/linear_model/_logistic.py:1211: UserWarning: 'n_jobs' > 1 does not have any effect when 'solver' is set to 'liblinear'. Got 'n_jobs' = 4.\n",
      "  warnings.warn(\n",
      "[I 2025-07-23 16:00:05,596] Trial 16 finished with value: 0.8070888468809075 and parameters: {'C': 3.252633064582986e-05, 'solver': 'liblinear', 'penalty': 'l2', 'class_weight': None}. Best is trial 11 with value: 0.855913279773157.\n",
      "/usr/local/lib/python3.11/dist-packages/sklearn/linear_model/_logistic.py:1211: UserWarning: 'n_jobs' > 1 does not have any effect when 'solver' is set to 'liblinear'. Got 'n_jobs' = 4.\n",
      "  warnings.warn(\n",
      "/usr/local/lib/python3.11/dist-packages/sklearn/linear_model/_logistic.py:1211: UserWarning: 'n_jobs' > 1 does not have any effect when 'solver' is set to 'liblinear'. Got 'n_jobs' = 4.\n",
      "  warnings.warn(\n",
      "/usr/local/lib/python3.11/dist-packages/sklearn/linear_model/_logistic.py:1211: UserWarning: 'n_jobs' > 1 does not have any effect when 'solver' is set to 'liblinear'. Got 'n_jobs' = 4.\n",
      "  warnings.warn(\n",
      "/usr/local/lib/python3.11/dist-packages/sklearn/linear_model/_logistic.py:1211: UserWarning: 'n_jobs' > 1 does not have any effect when 'solver' is set to 'liblinear'. Got 'n_jobs' = 4.\n",
      "  warnings.warn(\n",
      "/usr/local/lib/python3.11/dist-packages/sklearn/linear_model/_logistic.py:1211: UserWarning: 'n_jobs' > 1 does not have any effect when 'solver' is set to 'liblinear'. Got 'n_jobs' = 4.\n",
      "  warnings.warn(\n",
      "[I 2025-07-23 16:00:05,673] Trial 17 finished with value: 0.8551216918714555 and parameters: {'C': 2.758189168423285, 'solver': 'liblinear', 'penalty': 'l2', 'class_weight': 'balanced'}. Best is trial 11 with value: 0.855913279773157.\n",
      "/usr/local/lib/python3.11/dist-packages/sklearn/linear_model/_logistic.py:1211: UserWarning: 'n_jobs' > 1 does not have any effect when 'solver' is set to 'liblinear'. Got 'n_jobs' = 4.\n",
      "  warnings.warn(\n",
      "/usr/local/lib/python3.11/dist-packages/sklearn/linear_model/_logistic.py:1211: UserWarning: 'n_jobs' > 1 does not have any effect when 'solver' is set to 'liblinear'. Got 'n_jobs' = 4.\n",
      "  warnings.warn(\n",
      "/usr/local/lib/python3.11/dist-packages/sklearn/linear_model/_logistic.py:1211: UserWarning: 'n_jobs' > 1 does not have any effect when 'solver' is set to 'liblinear'. Got 'n_jobs' = 4.\n",
      "  warnings.warn(\n",
      "/usr/local/lib/python3.11/dist-packages/sklearn/linear_model/_logistic.py:1211: UserWarning: 'n_jobs' > 1 does not have any effect when 'solver' is set to 'liblinear'. Got 'n_jobs' = 4.\n",
      "  warnings.warn(\n",
      "/usr/local/lib/python3.11/dist-packages/sklearn/linear_model/_logistic.py:1211: UserWarning: 'n_jobs' > 1 does not have any effect when 'solver' is set to 'liblinear'. Got 'n_jobs' = 4.\n",
      "  warnings.warn(\n",
      "[I 2025-07-23 16:00:05,747] Trial 18 finished with value: 0.855913279773157 and parameters: {'C': 0.10566895879883763, 'solver': 'liblinear', 'penalty': 'l2', 'class_weight': 'balanced'}. Best is trial 11 with value: 0.855913279773157.\n",
      "/usr/local/lib/python3.11/dist-packages/sklearn/linear_model/_logistic.py:1211: UserWarning: 'n_jobs' > 1 does not have any effect when 'solver' is set to 'liblinear'. Got 'n_jobs' = 4.\n",
      "  warnings.warn(\n",
      "/usr/local/lib/python3.11/dist-packages/sklearn/linear_model/_logistic.py:1211: UserWarning: 'n_jobs' > 1 does not have any effect when 'solver' is set to 'liblinear'. Got 'n_jobs' = 4.\n",
      "  warnings.warn(\n",
      "/usr/local/lib/python3.11/dist-packages/sklearn/linear_model/_logistic.py:1211: UserWarning: 'n_jobs' > 1 does not have any effect when 'solver' is set to 'liblinear'. Got 'n_jobs' = 4.\n",
      "  warnings.warn(\n",
      "/usr/local/lib/python3.11/dist-packages/sklearn/linear_model/_logistic.py:1211: UserWarning: 'n_jobs' > 1 does not have any effect when 'solver' is set to 'liblinear'. Got 'n_jobs' = 4.\n",
      "  warnings.warn(\n",
      "/usr/local/lib/python3.11/dist-packages/sklearn/linear_model/_logistic.py:1211: UserWarning: 'n_jobs' > 1 does not have any effect when 'solver' is set to 'liblinear'. Got 'n_jobs' = 4.\n",
      "  warnings.warn(\n",
      "[I 2025-07-23 16:00:05,817] Trial 19 finished with value: 0.8558246691871456 and parameters: {'C': 0.16177018116765218, 'solver': 'liblinear', 'penalty': 'l2', 'class_weight': 'balanced'}. Best is trial 11 with value: 0.855913279773157.\n",
      "[I 2025-07-23 16:00:05,916] Trial 20 finished with value: 0.8550862476370511 and parameters: {'C': 4.629478818593898, 'solver': 'lbfgs', 'penalty': 'l2', 'class_weight': None}. Best is trial 11 with value: 0.855913279773157.\n",
      "/usr/local/lib/python3.11/dist-packages/sklearn/linear_model/_logistic.py:1211: UserWarning: 'n_jobs' > 1 does not have any effect when 'solver' is set to 'liblinear'. Got 'n_jobs' = 4.\n",
      "  warnings.warn(\n",
      "/usr/local/lib/python3.11/dist-packages/sklearn/linear_model/_logistic.py:1211: UserWarning: 'n_jobs' > 1 does not have any effect when 'solver' is set to 'liblinear'. Got 'n_jobs' = 4.\n",
      "  warnings.warn(\n",
      "/usr/local/lib/python3.11/dist-packages/sklearn/linear_model/_logistic.py:1211: UserWarning: 'n_jobs' > 1 does not have any effect when 'solver' is set to 'liblinear'. Got 'n_jobs' = 4.\n",
      "  warnings.warn(\n",
      "/usr/local/lib/python3.11/dist-packages/sklearn/linear_model/_logistic.py:1211: UserWarning: 'n_jobs' > 1 does not have any effect when 'solver' is set to 'liblinear'. Got 'n_jobs' = 4.\n",
      "  warnings.warn(\n",
      "/usr/local/lib/python3.11/dist-packages/sklearn/linear_model/_logistic.py:1211: UserWarning: 'n_jobs' > 1 does not have any effect when 'solver' is set to 'liblinear'. Got 'n_jobs' = 4.\n",
      "  warnings.warn(\n",
      "[I 2025-07-23 16:00:05,988] Trial 21 finished with value: 0.85586011342155 and parameters: {'C': 0.20741434085274485, 'solver': 'liblinear', 'penalty': 'l2', 'class_weight': 'balanced'}. Best is trial 11 with value: 0.855913279773157.\n",
      "/usr/local/lib/python3.11/dist-packages/sklearn/linear_model/_logistic.py:1211: UserWarning: 'n_jobs' > 1 does not have any effect when 'solver' is set to 'liblinear'. Got 'n_jobs' = 4.\n",
      "  warnings.warn(\n",
      "/usr/local/lib/python3.11/dist-packages/sklearn/linear_model/_logistic.py:1211: UserWarning: 'n_jobs' > 1 does not have any effect when 'solver' is set to 'liblinear'. Got 'n_jobs' = 4.\n",
      "  warnings.warn(\n",
      "/usr/local/lib/python3.11/dist-packages/sklearn/linear_model/_logistic.py:1211: UserWarning: 'n_jobs' > 1 does not have any effect when 'solver' is set to 'liblinear'. Got 'n_jobs' = 4.\n",
      "  warnings.warn(\n",
      "/usr/local/lib/python3.11/dist-packages/sklearn/linear_model/_logistic.py:1211: UserWarning: 'n_jobs' > 1 does not have any effect when 'solver' is set to 'liblinear'. Got 'n_jobs' = 4.\n",
      "  warnings.warn(\n",
      "/usr/local/lib/python3.11/dist-packages/sklearn/linear_model/_logistic.py:1211: UserWarning: 'n_jobs' > 1 does not have any effect when 'solver' is set to 'liblinear'. Got 'n_jobs' = 4.\n",
      "  warnings.warn(\n",
      "[I 2025-07-23 16:00:06,057] Trial 22 finished with value: 0.8561259451795842 and parameters: {'C': 0.08340495293759095, 'solver': 'liblinear', 'penalty': 'l2', 'class_weight': 'balanced'}. Best is trial 22 with value: 0.8561259451795842.\n",
      "/usr/local/lib/python3.11/dist-packages/sklearn/linear_model/_logistic.py:1211: UserWarning: 'n_jobs' > 1 does not have any effect when 'solver' is set to 'liblinear'. Got 'n_jobs' = 4.\n",
      "  warnings.warn(\n",
      "/usr/local/lib/python3.11/dist-packages/sklearn/linear_model/_logistic.py:1211: UserWarning: 'n_jobs' > 1 does not have any effect when 'solver' is set to 'liblinear'. Got 'n_jobs' = 4.\n",
      "  warnings.warn(\n",
      "/usr/local/lib/python3.11/dist-packages/sklearn/linear_model/_logistic.py:1211: UserWarning: 'n_jobs' > 1 does not have any effect when 'solver' is set to 'liblinear'. Got 'n_jobs' = 4.\n",
      "  warnings.warn(\n",
      "/usr/local/lib/python3.11/dist-packages/sklearn/linear_model/_logistic.py:1211: UserWarning: 'n_jobs' > 1 does not have any effect when 'solver' is set to 'liblinear'. Got 'n_jobs' = 4.\n",
      "  warnings.warn(\n",
      "/usr/local/lib/python3.11/dist-packages/sklearn/linear_model/_logistic.py:1211: UserWarning: 'n_jobs' > 1 does not have any effect when 'solver' is set to 'liblinear'. Got 'n_jobs' = 4.\n",
      "  warnings.warn(\n",
      "[I 2025-07-23 16:00:06,122] Trial 23 finished with value: 0.8559191871455576 and parameters: {'C': 0.05604917088727525, 'solver': 'liblinear', 'penalty': 'l2', 'class_weight': 'balanced'}. Best is trial 22 with value: 0.8561259451795842.\n",
      "/usr/local/lib/python3.11/dist-packages/sklearn/linear_model/_logistic.py:1211: UserWarning: 'n_jobs' > 1 does not have any effect when 'solver' is set to 'liblinear'. Got 'n_jobs' = 4.\n",
      "  warnings.warn(\n",
      "/usr/local/lib/python3.11/dist-packages/sklearn/linear_model/_logistic.py:1211: UserWarning: 'n_jobs' > 1 does not have any effect when 'solver' is set to 'liblinear'. Got 'n_jobs' = 4.\n",
      "  warnings.warn(\n",
      "/usr/local/lib/python3.11/dist-packages/sklearn/linear_model/_logistic.py:1211: UserWarning: 'n_jobs' > 1 does not have any effect when 'solver' is set to 'liblinear'. Got 'n_jobs' = 4.\n",
      "  warnings.warn(\n",
      "/usr/local/lib/python3.11/dist-packages/sklearn/linear_model/_logistic.py:1211: UserWarning: 'n_jobs' > 1 does not have any effect when 'solver' is set to 'liblinear'. Got 'n_jobs' = 4.\n",
      "  warnings.warn(\n",
      "/usr/local/lib/python3.11/dist-packages/sklearn/linear_model/_logistic.py:1211: UserWarning: 'n_jobs' > 1 does not have any effect when 'solver' is set to 'liblinear'. Got 'n_jobs' = 4.\n",
      "  warnings.warn(\n",
      "[I 2025-07-23 16:00:06,186] Trial 24 finished with value: 0.8500413516068053 and parameters: {'C': 0.004599413621705177, 'solver': 'liblinear', 'penalty': 'l2', 'class_weight': 'balanced'}. Best is trial 22 with value: 0.8561259451795842.\n",
      "/usr/local/lib/python3.11/dist-packages/sklearn/linear_model/_logistic.py:1211: UserWarning: 'n_jobs' > 1 does not have any effect when 'solver' is set to 'liblinear'. Got 'n_jobs' = 4.\n",
      "  warnings.warn(\n",
      "/usr/local/lib/python3.11/dist-packages/sklearn/linear_model/_logistic.py:1211: UserWarning: 'n_jobs' > 1 does not have any effect when 'solver' is set to 'liblinear'. Got 'n_jobs' = 4.\n",
      "  warnings.warn(\n",
      "/usr/local/lib/python3.11/dist-packages/sklearn/linear_model/_logistic.py:1211: UserWarning: 'n_jobs' > 1 does not have any effect when 'solver' is set to 'liblinear'. Got 'n_jobs' = 4.\n",
      "  warnings.warn(\n",
      "/usr/local/lib/python3.11/dist-packages/sklearn/linear_model/_logistic.py:1211: UserWarning: 'n_jobs' > 1 does not have any effect when 'solver' is set to 'liblinear'. Got 'n_jobs' = 4.\n",
      "  warnings.warn(\n",
      "/usr/local/lib/python3.11/dist-packages/sklearn/linear_model/_logistic.py:1211: UserWarning: 'n_jobs' > 1 does not have any effect when 'solver' is set to 'liblinear'. Got 'n_jobs' = 4.\n",
      "  warnings.warn(\n",
      "[I 2025-07-23 16:00:06,258] Trial 25 finished with value: 0.8552457466918714 and parameters: {'C': 0.550230681599427, 'solver': 'liblinear', 'penalty': 'l2', 'class_weight': 'balanced'}. Best is trial 22 with value: 0.8561259451795842.\n",
      "/usr/local/lib/python3.11/dist-packages/sklearn/linear_model/_logistic.py:1211: UserWarning: 'n_jobs' > 1 does not have any effect when 'solver' is set to 'liblinear'. Got 'n_jobs' = 4.\n",
      "  warnings.warn(\n",
      "/usr/local/lib/python3.11/dist-packages/sklearn/linear_model/_logistic.py:1211: UserWarning: 'n_jobs' > 1 does not have any effect when 'solver' is set to 'liblinear'. Got 'n_jobs' = 4.\n",
      "  warnings.warn(\n",
      "/usr/local/lib/python3.11/dist-packages/sklearn/linear_model/_logistic.py:1211: UserWarning: 'n_jobs' > 1 does not have any effect when 'solver' is set to 'liblinear'. Got 'n_jobs' = 4.\n",
      "  warnings.warn(\n",
      "/usr/local/lib/python3.11/dist-packages/sklearn/linear_model/_logistic.py:1211: UserWarning: 'n_jobs' > 1 does not have any effect when 'solver' is set to 'liblinear'. Got 'n_jobs' = 4.\n",
      "  warnings.warn(\n",
      "/usr/local/lib/python3.11/dist-packages/sklearn/linear_model/_logistic.py:1211: UserWarning: 'n_jobs' > 1 does not have any effect when 'solver' is set to 'liblinear'. Got 'n_jobs' = 4.\n",
      "  warnings.warn(\n",
      "[I 2025-07-23 16:00:06,324] Trial 26 finished with value: 0.8559073724007561 and parameters: {'C': 0.06546991551146011, 'solver': 'liblinear', 'penalty': 'l2', 'class_weight': 'balanced'}. Best is trial 22 with value: 0.8561259451795842.\n",
      "/usr/local/lib/python3.11/dist-packages/sklearn/linear_model/_logistic.py:1211: UserWarning: 'n_jobs' > 1 does not have any effect when 'solver' is set to 'liblinear'. Got 'n_jobs' = 4.\n",
      "  warnings.warn(\n",
      "/usr/local/lib/python3.11/dist-packages/sklearn/linear_model/_logistic.py:1211: UserWarning: 'n_jobs' > 1 does not have any effect when 'solver' is set to 'liblinear'. Got 'n_jobs' = 4.\n",
      "  warnings.warn(\n",
      "/usr/local/lib/python3.11/dist-packages/sklearn/linear_model/_logistic.py:1211: UserWarning: 'n_jobs' > 1 does not have any effect when 'solver' is set to 'liblinear'. Got 'n_jobs' = 4.\n",
      "  warnings.warn(\n",
      "/usr/local/lib/python3.11/dist-packages/sklearn/linear_model/_logistic.py:1211: UserWarning: 'n_jobs' > 1 does not have any effect when 'solver' is set to 'liblinear'. Got 'n_jobs' = 4.\n",
      "  warnings.warn(\n",
      "/usr/local/lib/python3.11/dist-packages/sklearn/linear_model/_logistic.py:1211: UserWarning: 'n_jobs' > 1 does not have any effect when 'solver' is set to 'liblinear'. Got 'n_jobs' = 4.\n",
      "  warnings.warn(\n",
      "[I 2025-07-23 16:00:06,396] Trial 27 finished with value: 0.8552634688090738 and parameters: {'C': 0.7908658272372268, 'solver': 'liblinear', 'penalty': 'l2', 'class_weight': 'balanced'}. Best is trial 22 with value: 0.8561259451795842.\n",
      "/usr/local/lib/python3.11/dist-packages/sklearn/linear_model/_logistic.py:1211: UserWarning: 'n_jobs' > 1 does not have any effect when 'solver' is set to 'liblinear'. Got 'n_jobs' = 4.\n",
      "  warnings.warn(\n",
      "/usr/local/lib/python3.11/dist-packages/sklearn/linear_model/_logistic.py:1211: UserWarning: 'n_jobs' > 1 does not have any effect when 'solver' is set to 'liblinear'. Got 'n_jobs' = 4.\n",
      "  warnings.warn(\n",
      "/usr/local/lib/python3.11/dist-packages/sklearn/linear_model/_logistic.py:1211: UserWarning: 'n_jobs' > 1 does not have any effect when 'solver' is set to 'liblinear'. Got 'n_jobs' = 4.\n",
      "  warnings.warn(\n",
      "/usr/local/lib/python3.11/dist-packages/sklearn/linear_model/_logistic.py:1211: UserWarning: 'n_jobs' > 1 does not have any effect when 'solver' is set to 'liblinear'. Got 'n_jobs' = 4.\n",
      "  warnings.warn(\n",
      "/usr/local/lib/python3.11/dist-packages/sklearn/linear_model/_logistic.py:1211: UserWarning: 'n_jobs' > 1 does not have any effect when 'solver' is set to 'liblinear'. Got 'n_jobs' = 4.\n",
      "  warnings.warn(\n",
      "[I 2025-07-23 16:00:06,462] Trial 28 finished with value: 0.85593690926276 and parameters: {'C': 0.044969359939899665, 'solver': 'liblinear', 'penalty': 'l2', 'class_weight': None}. Best is trial 22 with value: 0.8561259451795842.\n",
      "[I 2025-07-23 16:00:06,560] Trial 29 finished with value: 0.8398570415879016 and parameters: {'C': 0.001386860407642623, 'solver': 'lbfgs', 'penalty': 'l2', 'class_weight': None}. Best is trial 22 with value: 0.8561259451795842.\n",
      "[I 2025-07-23 16:00:06,668] Trial 30 finished with value: 0.855812854442344 and parameters: {'C': 0.03930417482810557, 'solver': 'lbfgs', 'penalty': 'l2', 'class_weight': None}. Best is trial 22 with value: 0.8561259451795842.\n",
      "/usr/local/lib/python3.11/dist-packages/sklearn/linear_model/_logistic.py:1211: UserWarning: 'n_jobs' > 1 does not have any effect when 'solver' is set to 'liblinear'. Got 'n_jobs' = 4.\n",
      "  warnings.warn(\n",
      "/usr/local/lib/python3.11/dist-packages/sklearn/linear_model/_logistic.py:1211: UserWarning: 'n_jobs' > 1 does not have any effect when 'solver' is set to 'liblinear'. Got 'n_jobs' = 4.\n",
      "  warnings.warn(\n",
      "/usr/local/lib/python3.11/dist-packages/sklearn/linear_model/_logistic.py:1211: UserWarning: 'n_jobs' > 1 does not have any effect when 'solver' is set to 'liblinear'. Got 'n_jobs' = 4.\n",
      "  warnings.warn(\n",
      "/usr/local/lib/python3.11/dist-packages/sklearn/linear_model/_logistic.py:1211: UserWarning: 'n_jobs' > 1 does not have any effect when 'solver' is set to 'liblinear'. Got 'n_jobs' = 4.\n",
      "  warnings.warn(\n",
      "/usr/local/lib/python3.11/dist-packages/sklearn/linear_model/_logistic.py:1211: UserWarning: 'n_jobs' > 1 does not have any effect when 'solver' is set to 'liblinear'. Got 'n_jobs' = 4.\n",
      "  warnings.warn(\n",
      "[I 2025-07-23 16:00:06,734] Trial 31 finished with value: 0.8559369092627598 and parameters: {'C': 0.0433999477731674, 'solver': 'liblinear', 'penalty': 'l2', 'class_weight': None}. Best is trial 22 with value: 0.8561259451795842.\n",
      "/usr/local/lib/python3.11/dist-packages/sklearn/linear_model/_logistic.py:1211: UserWarning: 'n_jobs' > 1 does not have any effect when 'solver' is set to 'liblinear'. Got 'n_jobs' = 4.\n",
      "  warnings.warn(\n",
      "/usr/local/lib/python3.11/dist-packages/sklearn/linear_model/_logistic.py:1211: UserWarning: 'n_jobs' > 1 does not have any effect when 'solver' is set to 'liblinear'. Got 'n_jobs' = 4.\n",
      "  warnings.warn(\n",
      "/usr/local/lib/python3.11/dist-packages/sklearn/linear_model/_logistic.py:1211: UserWarning: 'n_jobs' > 1 does not have any effect when 'solver' is set to 'liblinear'. Got 'n_jobs' = 4.\n",
      "  warnings.warn(\n",
      "/usr/local/lib/python3.11/dist-packages/sklearn/linear_model/_logistic.py:1211: UserWarning: 'n_jobs' > 1 does not have any effect when 'solver' is set to 'liblinear'. Got 'n_jobs' = 4.\n",
      "  warnings.warn(\n",
      "/usr/local/lib/python3.11/dist-packages/sklearn/linear_model/_logistic.py:1211: UserWarning: 'n_jobs' > 1 does not have any effect when 'solver' is set to 'liblinear'. Got 'n_jobs' = 4.\n",
      "  warnings.warn(\n",
      "[I 2025-07-23 16:00:06,792] Trial 32 finished with value: 0.8534262759924385 and parameters: {'C': 0.010136421410572131, 'solver': 'liblinear', 'penalty': 'l2', 'class_weight': None}. Best is trial 22 with value: 0.8561259451795842.\n",
      "/usr/local/lib/python3.11/dist-packages/sklearn/linear_model/_logistic.py:1211: UserWarning: 'n_jobs' > 1 does not have any effect when 'solver' is set to 'liblinear'. Got 'n_jobs' = 4.\n",
      "  warnings.warn(\n",
      "/usr/local/lib/python3.11/dist-packages/sklearn/linear_model/_logistic.py:1211: UserWarning: 'n_jobs' > 1 does not have any effect when 'solver' is set to 'liblinear'. Got 'n_jobs' = 4.\n",
      "  warnings.warn(\n",
      "/usr/local/lib/python3.11/dist-packages/sklearn/linear_model/_logistic.py:1211: UserWarning: 'n_jobs' > 1 does not have any effect when 'solver' is set to 'liblinear'. Got 'n_jobs' = 4.\n",
      "  warnings.warn(\n",
      "/usr/local/lib/python3.11/dist-packages/sklearn/linear_model/_logistic.py:1211: UserWarning: 'n_jobs' > 1 does not have any effect when 'solver' is set to 'liblinear'. Got 'n_jobs' = 4.\n",
      "  warnings.warn(\n",
      "/usr/local/lib/python3.11/dist-packages/sklearn/linear_model/_logistic.py:1211: UserWarning: 'n_jobs' > 1 does not have any effect when 'solver' is set to 'liblinear'. Got 'n_jobs' = 4.\n",
      "  warnings.warn(\n",
      "[I 2025-07-23 16:00:06,850] Trial 33 finished with value: 0.8558542060491494 and parameters: {'C': 0.03610701202275473, 'solver': 'liblinear', 'penalty': 'l2', 'class_weight': None}. Best is trial 22 with value: 0.8561259451795842.\n",
      "/usr/local/lib/python3.11/dist-packages/sklearn/linear_model/_logistic.py:1211: UserWarning: 'n_jobs' > 1 does not have any effect when 'solver' is set to 'liblinear'. Got 'n_jobs' = 4.\n",
      "  warnings.warn(\n",
      "/usr/local/lib/python3.11/dist-packages/sklearn/linear_model/_logistic.py:1211: UserWarning: 'n_jobs' > 1 does not have any effect when 'solver' is set to 'liblinear'. Got 'n_jobs' = 4.\n",
      "  warnings.warn(\n",
      "/usr/local/lib/python3.11/dist-packages/sklearn/linear_model/_logistic.py:1211: UserWarning: 'n_jobs' > 1 does not have any effect when 'solver' is set to 'liblinear'. Got 'n_jobs' = 4.\n",
      "  warnings.warn(\n",
      "/usr/local/lib/python3.11/dist-packages/sklearn/linear_model/_logistic.py:1211: UserWarning: 'n_jobs' > 1 does not have any effect when 'solver' is set to 'liblinear'. Got 'n_jobs' = 4.\n",
      "  warnings.warn(\n",
      "/usr/local/lib/python3.11/dist-packages/sklearn/linear_model/_logistic.py:1211: UserWarning: 'n_jobs' > 1 does not have any effect when 'solver' is set to 'liblinear'. Got 'n_jobs' = 4.\n",
      "  warnings.warn(\n",
      "[I 2025-07-23 16:00:06,920] Trial 34 finished with value: 0.8554406899810963 and parameters: {'C': 0.38987084800651495, 'solver': 'liblinear', 'penalty': 'l2', 'class_weight': None}. Best is trial 22 with value: 0.8561259451795842.\n",
      "[I 2025-07-23 16:00:07,030] Trial 35 finished with value: 0.5 and parameters: {'C': 0.0025126490373339697, 'solver': 'saga', 'penalty': 'l1', 'class_weight': None}. Best is trial 22 with value: 0.8561259451795842.\n",
      "/usr/local/lib/python3.11/dist-packages/sklearn/linear_model/_logistic.py:1211: UserWarning: 'n_jobs' > 1 does not have any effect when 'solver' is set to 'liblinear'. Got 'n_jobs' = 4.\n",
      "  warnings.warn(\n",
      "/usr/local/lib/python3.11/dist-packages/sklearn/linear_model/_logistic.py:1211: UserWarning: 'n_jobs' > 1 does not have any effect when 'solver' is set to 'liblinear'. Got 'n_jobs' = 4.\n",
      "  warnings.warn(\n",
      "/usr/local/lib/python3.11/dist-packages/sklearn/linear_model/_logistic.py:1211: UserWarning: 'n_jobs' > 1 does not have any effect when 'solver' is set to 'liblinear'. Got 'n_jobs' = 4.\n",
      "  warnings.warn(\n",
      "/usr/local/lib/python3.11/dist-packages/sklearn/linear_model/_logistic.py:1211: UserWarning: 'n_jobs' > 1 does not have any effect when 'solver' is set to 'liblinear'. Got 'n_jobs' = 4.\n",
      "  warnings.warn(\n",
      "/usr/local/lib/python3.11/dist-packages/sklearn/linear_model/_logistic.py:1211: UserWarning: 'n_jobs' > 1 does not have any effect when 'solver' is set to 'liblinear'. Got 'n_jobs' = 4.\n",
      "  warnings.warn(\n",
      "[I 2025-07-23 16:00:07,098] Trial 36 finished with value: 0.8552162098298677 and parameters: {'C': 1.7216368108638238, 'solver': 'liblinear', 'penalty': 'l2', 'class_weight': None}. Best is trial 22 with value: 0.8561259451795842.\n",
      "[I 2025-07-23 16:00:07,209] Trial 37 finished with value: 0.5 and parameters: {'C': 0.00021059790167453932, 'solver': 'saga', 'penalty': 'l1', 'class_weight': None}. Best is trial 22 with value: 0.8561259451795842.\n",
      "[I 2025-07-23 16:00:07,310] Trial 38 finished with value: 0.8543301039697543 and parameters: {'C': 0.016218176387947307, 'solver': 'lbfgs', 'penalty': 'l2', 'class_weight': None}. Best is trial 22 with value: 0.8561259451795842.\n",
      "[I 2025-07-23 16:00:07,470] Trial 39 finished with value: 0.8503839792060491 and parameters: {'C': 0.06854545127583096, 'solver': 'saga', 'penalty': 'l1', 'class_weight': None}. Best is trial 22 with value: 0.8561259451795842.\n",
      "/usr/local/lib/python3.11/dist-packages/sklearn/linear_model/_logistic.py:1211: UserWarning: 'n_jobs' > 1 does not have any effect when 'solver' is set to 'liblinear'. Got 'n_jobs' = 4.\n",
      "  warnings.warn(\n",
      "/usr/local/lib/python3.11/dist-packages/sklearn/linear_model/_logistic.py:1211: UserWarning: 'n_jobs' > 1 does not have any effect when 'solver' is set to 'liblinear'. Got 'n_jobs' = 4.\n",
      "  warnings.warn(\n",
      "/usr/local/lib/python3.11/dist-packages/sklearn/linear_model/_logistic.py:1211: UserWarning: 'n_jobs' > 1 does not have any effect when 'solver' is set to 'liblinear'. Got 'n_jobs' = 4.\n",
      "  warnings.warn(\n",
      "/usr/local/lib/python3.11/dist-packages/sklearn/linear_model/_logistic.py:1211: UserWarning: 'n_jobs' > 1 does not have any effect when 'solver' is set to 'liblinear'. Got 'n_jobs' = 4.\n",
      "  warnings.warn(\n",
      "/usr/local/lib/python3.11/dist-packages/sklearn/linear_model/_logistic.py:1211: UserWarning: 'n_jobs' > 1 does not have any effect when 'solver' is set to 'liblinear'. Got 'n_jobs' = 4.\n",
      "  warnings.warn(\n",
      "[I 2025-07-23 16:00:07,528] Trial 40 finished with value: 0.8511460302457466 and parameters: {'C': 0.0057799180849120654, 'solver': 'liblinear', 'penalty': 'l2', 'class_weight': None}. Best is trial 22 with value: 0.8561259451795842.\n",
      "/usr/local/lib/python3.11/dist-packages/sklearn/linear_model/_logistic.py:1211: UserWarning: 'n_jobs' > 1 does not have any effect when 'solver' is set to 'liblinear'. Got 'n_jobs' = 4.\n",
      "  warnings.warn(\n",
      "/usr/local/lib/python3.11/dist-packages/sklearn/linear_model/_logistic.py:1211: UserWarning: 'n_jobs' > 1 does not have any effect when 'solver' is set to 'liblinear'. Got 'n_jobs' = 4.\n",
      "  warnings.warn(\n",
      "/usr/local/lib/python3.11/dist-packages/sklearn/linear_model/_logistic.py:1211: UserWarning: 'n_jobs' > 1 does not have any effect when 'solver' is set to 'liblinear'. Got 'n_jobs' = 4.\n",
      "  warnings.warn(\n",
      "/usr/local/lib/python3.11/dist-packages/sklearn/linear_model/_logistic.py:1211: UserWarning: 'n_jobs' > 1 does not have any effect when 'solver' is set to 'liblinear'. Got 'n_jobs' = 4.\n",
      "  warnings.warn(\n",
      "/usr/local/lib/python3.11/dist-packages/sklearn/linear_model/_logistic.py:1211: UserWarning: 'n_jobs' > 1 does not have any effect when 'solver' is set to 'liblinear'. Got 'n_jobs' = 4.\n",
      "  warnings.warn(\n",
      "[I 2025-07-23 16:00:07,592] Trial 41 finished with value: 0.8558955576559548 and parameters: {'C': 0.11370222085418323, 'solver': 'liblinear', 'penalty': 'l2', 'class_weight': 'balanced'}. Best is trial 22 with value: 0.8561259451795842.\n",
      "/usr/local/lib/python3.11/dist-packages/sklearn/linear_model/_logistic.py:1211: UserWarning: 'n_jobs' > 1 does not have any effect when 'solver' is set to 'liblinear'. Got 'n_jobs' = 4.\n",
      "  warnings.warn(\n",
      "/usr/local/lib/python3.11/dist-packages/sklearn/linear_model/_logistic.py:1211: UserWarning: 'n_jobs' > 1 does not have any effect when 'solver' is set to 'liblinear'. Got 'n_jobs' = 4.\n",
      "  warnings.warn(\n",
      "/usr/local/lib/python3.11/dist-packages/sklearn/linear_model/_logistic.py:1211: UserWarning: 'n_jobs' > 1 does not have any effect when 'solver' is set to 'liblinear'. Got 'n_jobs' = 4.\n",
      "  warnings.warn(\n",
      "/usr/local/lib/python3.11/dist-packages/sklearn/linear_model/_logistic.py:1211: UserWarning: 'n_jobs' > 1 does not have any effect when 'solver' is set to 'liblinear'. Got 'n_jobs' = 4.\n",
      "  warnings.warn(\n",
      "/usr/local/lib/python3.11/dist-packages/sklearn/linear_model/_logistic.py:1211: UserWarning: 'n_jobs' > 1 does not have any effect when 'solver' is set to 'liblinear'. Got 'n_jobs' = 4.\n",
      "  warnings.warn(\n",
      "[I 2025-07-23 16:00:07,655] Trial 42 finished with value: 0.8560018903591683 and parameters: {'C': 0.051350226906887515, 'solver': 'liblinear', 'penalty': 'l2', 'class_weight': 'balanced'}. Best is trial 22 with value: 0.8561259451795842.\n",
      "/usr/local/lib/python3.11/dist-packages/sklearn/linear_model/_logistic.py:1211: UserWarning: 'n_jobs' > 1 does not have any effect when 'solver' is set to 'liblinear'. Got 'n_jobs' = 4.\n",
      "  warnings.warn(\n",
      "/usr/local/lib/python3.11/dist-packages/sklearn/linear_model/_logistic.py:1211: UserWarning: 'n_jobs' > 1 does not have any effect when 'solver' is set to 'liblinear'. Got 'n_jobs' = 4.\n",
      "  warnings.warn(\n",
      "/usr/local/lib/python3.11/dist-packages/sklearn/linear_model/_logistic.py:1211: UserWarning: 'n_jobs' > 1 does not have any effect when 'solver' is set to 'liblinear'. Got 'n_jobs' = 4.\n",
      "  warnings.warn(\n",
      "/usr/local/lib/python3.11/dist-packages/sklearn/linear_model/_logistic.py:1211: UserWarning: 'n_jobs' > 1 does not have any effect when 'solver' is set to 'liblinear'. Got 'n_jobs' = 4.\n",
      "  warnings.warn(\n",
      "/usr/local/lib/python3.11/dist-packages/sklearn/linear_model/_logistic.py:1211: UserWarning: 'n_jobs' > 1 does not have any effect when 'solver' is set to 'liblinear'. Got 'n_jobs' = 4.\n",
      "  warnings.warn(\n",
      "[I 2025-07-23 16:00:07,720] Trial 43 finished with value: 0.855765595463138 and parameters: {'C': 0.04142048208762609, 'solver': 'liblinear', 'penalty': 'l2', 'class_weight': 'balanced'}. Best is trial 22 with value: 0.8561259451795842.\n",
      "/usr/local/lib/python3.11/dist-packages/sklearn/linear_model/_logistic.py:1211: UserWarning: 'n_jobs' > 1 does not have any effect when 'solver' is set to 'liblinear'. Got 'n_jobs' = 4.\n",
      "  warnings.warn(\n",
      "/usr/local/lib/python3.11/dist-packages/sklearn/linear_model/_logistic.py:1211: UserWarning: 'n_jobs' > 1 does not have any effect when 'solver' is set to 'liblinear'. Got 'n_jobs' = 4.\n",
      "  warnings.warn(\n",
      "/usr/local/lib/python3.11/dist-packages/sklearn/linear_model/_logistic.py:1211: UserWarning: 'n_jobs' > 1 does not have any effect when 'solver' is set to 'liblinear'. Got 'n_jobs' = 4.\n",
      "  warnings.warn(\n",
      "/usr/local/lib/python3.11/dist-packages/sklearn/linear_model/_logistic.py:1211: UserWarning: 'n_jobs' > 1 does not have any effect when 'solver' is set to 'liblinear'. Got 'n_jobs' = 4.\n",
      "  warnings.warn(\n",
      "/usr/local/lib/python3.11/dist-packages/sklearn/linear_model/_logistic.py:1211: UserWarning: 'n_jobs' > 1 does not have any effect when 'solver' is set to 'liblinear'. Got 'n_jobs' = 4.\n",
      "  warnings.warn(\n",
      "[I 2025-07-23 16:00:07,787] Trial 44 finished with value: 0.8555115784499054 and parameters: {'C': 0.31050183104426615, 'solver': 'liblinear', 'penalty': 'l2', 'class_weight': 'balanced'}. Best is trial 22 with value: 0.8561259451795842.\n",
      "/usr/local/lib/python3.11/dist-packages/sklearn/linear_model/_logistic.py:1211: UserWarning: 'n_jobs' > 1 does not have any effect when 'solver' is set to 'liblinear'. Got 'n_jobs' = 4.\n",
      "  warnings.warn(\n",
      "/usr/local/lib/python3.11/dist-packages/sklearn/linear_model/_logistic.py:1211: UserWarning: 'n_jobs' > 1 does not have any effect when 'solver' is set to 'liblinear'. Got 'n_jobs' = 4.\n",
      "  warnings.warn(\n",
      "/usr/local/lib/python3.11/dist-packages/sklearn/linear_model/_logistic.py:1211: UserWarning: 'n_jobs' > 1 does not have any effect when 'solver' is set to 'liblinear'. Got 'n_jobs' = 4.\n",
      "  warnings.warn(\n",
      "/usr/local/lib/python3.11/dist-packages/sklearn/linear_model/_logistic.py:1211: UserWarning: 'n_jobs' > 1 does not have any effect when 'solver' is set to 'liblinear'. Got 'n_jobs' = 4.\n",
      "  warnings.warn(\n",
      "/usr/local/lib/python3.11/dist-packages/sklearn/linear_model/_logistic.py:1211: UserWarning: 'n_jobs' > 1 does not have any effect when 'solver' is set to 'liblinear'. Got 'n_jobs' = 4.\n",
      "  warnings.warn(\n",
      "[I 2025-07-23 16:00:07,857] Trial 45 finished with value: 0.8320415879017012 and parameters: {'C': 0.02110199865715488, 'solver': 'liblinear', 'penalty': 'l1', 'class_weight': 'balanced'}. Best is trial 22 with value: 0.8561259451795842.\n",
      "/usr/local/lib/python3.11/dist-packages/sklearn/linear_model/_logistic.py:1211: UserWarning: 'n_jobs' > 1 does not have any effect when 'solver' is set to 'liblinear'. Got 'n_jobs' = 4.\n",
      "  warnings.warn(\n",
      "/usr/local/lib/python3.11/dist-packages/sklearn/linear_model/_logistic.py:1211: UserWarning: 'n_jobs' > 1 does not have any effect when 'solver' is set to 'liblinear'. Got 'n_jobs' = 4.\n",
      "  warnings.warn(\n",
      "/usr/local/lib/python3.11/dist-packages/sklearn/linear_model/_logistic.py:1211: UserWarning: 'n_jobs' > 1 does not have any effect when 'solver' is set to 'liblinear'. Got 'n_jobs' = 4.\n",
      "  warnings.warn(\n",
      "/usr/local/lib/python3.11/dist-packages/sklearn/linear_model/_logistic.py:1211: UserWarning: 'n_jobs' > 1 does not have any effect when 'solver' is set to 'liblinear'. Got 'n_jobs' = 4.\n",
      "  warnings.warn(\n",
      "/usr/local/lib/python3.11/dist-packages/sklearn/linear_model/_logistic.py:1211: UserWarning: 'n_jobs' > 1 does not have any effect when 'solver' is set to 'liblinear'. Got 'n_jobs' = 4.\n",
      "  warnings.warn(\n",
      "[I 2025-07-23 16:00:07,918] Trial 46 finished with value: 0.853538516068053 and parameters: {'C': 0.009979635103253255, 'solver': 'liblinear', 'penalty': 'l2', 'class_weight': 'balanced'}. Best is trial 22 with value: 0.8561259451795842.\n",
      "[I 2025-07-23 16:00:08,079] Trial 47 finished with value: 0.8551984877126653 and parameters: {'C': 1.1762602124207782, 'solver': 'saga', 'penalty': 'l2', 'class_weight': None}. Best is trial 22 with value: 0.8561259451795842.\n",
      "/usr/local/lib/python3.11/dist-packages/sklearn/linear_model/_logistic.py:1211: UserWarning: 'n_jobs' > 1 does not have any effect when 'solver' is set to 'liblinear'. Got 'n_jobs' = 4.\n",
      "  warnings.warn(\n",
      "/usr/local/lib/python3.11/dist-packages/sklearn/linear_model/_logistic.py:1211: UserWarning: 'n_jobs' > 1 does not have any effect when 'solver' is set to 'liblinear'. Got 'n_jobs' = 4.\n",
      "  warnings.warn(\n",
      "/usr/local/lib/python3.11/dist-packages/sklearn/linear_model/_logistic.py:1211: UserWarning: 'n_jobs' > 1 does not have any effect when 'solver' is set to 'liblinear'. Got 'n_jobs' = 4.\n",
      "  warnings.warn(\n",
      "/usr/local/lib/python3.11/dist-packages/sklearn/linear_model/_logistic.py:1211: UserWarning: 'n_jobs' > 1 does not have any effect when 'solver' is set to 'liblinear'. Got 'n_jobs' = 4.\n",
      "  warnings.warn(\n",
      "/usr/local/lib/python3.11/dist-packages/sklearn/linear_model/_logistic.py:1211: UserWarning: 'n_jobs' > 1 does not have any effect when 'solver' is set to 'liblinear'. Got 'n_jobs' = 4.\n",
      "  warnings.warn(\n",
      "[I 2025-07-23 16:00:08,144] Trial 48 finished with value: 0.8560432419659735 and parameters: {'C': 0.047977983724062916, 'solver': 'liblinear', 'penalty': 'l2', 'class_weight': 'balanced'}. Best is trial 22 with value: 0.8561259451795842.\n",
      "/usr/local/lib/python3.11/dist-packages/sklearn/linear_model/_logistic.py:1211: UserWarning: 'n_jobs' > 1 does not have any effect when 'solver' is set to 'liblinear'. Got 'n_jobs' = 4.\n",
      "  warnings.warn(\n",
      "/usr/local/lib/python3.11/dist-packages/sklearn/linear_model/_logistic.py:1211: UserWarning: 'n_jobs' > 1 does not have any effect when 'solver' is set to 'liblinear'. Got 'n_jobs' = 4.\n",
      "  warnings.warn(\n",
      "/usr/local/lib/python3.11/dist-packages/sklearn/linear_model/_logistic.py:1211: UserWarning: 'n_jobs' > 1 does not have any effect when 'solver' is set to 'liblinear'. Got 'n_jobs' = 4.\n",
      "  warnings.warn(\n",
      "/usr/local/lib/python3.11/dist-packages/sklearn/linear_model/_logistic.py:1211: UserWarning: 'n_jobs' > 1 does not have any effect when 'solver' is set to 'liblinear'. Got 'n_jobs' = 4.\n",
      "  warnings.warn(\n",
      "/usr/local/lib/python3.11/dist-packages/sklearn/linear_model/_logistic.py:1211: UserWarning: 'n_jobs' > 1 does not have any effect when 'solver' is set to 'liblinear'. Got 'n_jobs' = 4.\n",
      "  warnings.warn(\n",
      "[I 2025-07-23 16:00:08,225] Trial 49 finished with value: 0.854991729678639 and parameters: {'C': 66.17012570041464, 'solver': 'liblinear', 'penalty': 'l1', 'class_weight': 'balanced'}. Best is trial 22 with value: 0.8561259451795842.\n"
     ]
    },
    {
     "name": "stdout",
     "output_type": "stream",
     "text": [
      "Optimization finished.\n",
      "Number of finished trials: 50\n",
      "Best Logistic Regression trial (from cross-validation on X_train_scaled):\n",
      "  Value (Mean ROC AUC): 0.8561\n",
      "  Best hyperparameters:\n",
      "    C: 0.08340495293759095\n",
      "    solver: liblinear\n",
      "    penalty: l2\n",
      "    class_weight: balanced\n"
     ]
    }
   ],
   "source": [
    "study = optuna.create_study(direction='maximize')\n",
    "\n",
    "print(\"Starting Logistic Regression hyperparameter optimization with Optuna and K-Fold Cross-Validation on X_train_scaled...\")\n",
    "study.optimize(objective, n_trials=50)\n",
    "\n",
    "print(\"Optimization finished.\")\n",
    "print(f\"Number of finished trials: {len(study.trials)}\")\n",
    "\n",
    "print(\"Best Logistic Regression trial (from cross-validation on X_train_scaled):\")\n",
    "trial = study.best_trial\n",
    "\n",
    "print(f\"  Value (Mean ROC AUC): {trial.value:.4f}\")\n",
    "print(\"  Best hyperparameters:\")\n",
    "for key, value in trial.params.items():\n",
    "    print(f\"    {key}: {value}\")"
   ]
  },
  {
   "cell_type": "code",
   "execution_count": 51,
   "id": "c6a7ab95",
   "metadata": {
    "execution": {
     "iopub.execute_input": "2025-07-23T16:00:08.277015Z",
     "iopub.status.busy": "2025-07-23T16:00:08.276669Z",
     "iopub.status.idle": "2025-07-23T16:00:08.303800Z",
     "shell.execute_reply": "2025-07-23T16:00:08.302643Z"
    },
    "papermill": {
     "duration": 0.049629,
     "end_time": "2025-07-23T16:00:08.305409",
     "exception": false,
     "start_time": "2025-07-23T16:00:08.255780",
     "status": "completed"
    },
    "tags": []
   },
   "outputs": [
    {
     "name": "stdout",
     "output_type": "stream",
     "text": [
      "--- Final Model Training and Evaluation ---\n",
      "Final Model ROC AUC on X_test_scaled: 0.7809\n",
      "--- Classification Report on X_test_scaled ---\n",
      "              precision    recall  f1-score   support\n",
      "\n",
      "           0       0.91      0.75      0.82       313\n",
      "           1       0.30      0.60      0.40        55\n",
      "\n",
      "    accuracy                           0.73       368\n",
      "   macro avg       0.61      0.68      0.61       368\n",
      "weighted avg       0.82      0.73      0.76       368\n",
      "\n"
     ]
    }
   ],
   "source": [
    "print(\"--- Final Model Training and Evaluation ---\")\n",
    "best_params = study.best_trial.params\n",
    "if best_params.get('solver') != 'saga' or best_params.get('penalty') != 'elasticnet':\n",
    "    best_params.pop('l1_ratio', None)\n",
    "\n",
    "final_classifier = LogisticRegression(\n",
    "    **best_params,\n",
    "    random_state=42,\n",
    "    max_iter=1000\n",
    ")\n",
    "\n",
    "final_classifier.fit(X_train_scaled, y_train)\n",
    "\n",
    "y_pred_proba_final_test = final_classifier.predict_proba(X_test_scaled)[:, 1]\n",
    "final_roc_auc_test = roc_auc_score(y_test, y_pred_proba_final_test)\n",
    "\n",
    "print(f\"Final Model ROC AUC on X_test_scaled: {final_roc_auc_test:.4f}\")\n",
    "\n",
    "\n",
    "print(\"--- Classification Report on X_test_scaled ---\")\n",
    "y_pred_final_test = final_classifier.predict(X_test_scaled)\n",
    "print(classification_report(y_test, y_pred_final_test))"
   ]
  },
  {
   "cell_type": "markdown",
   "id": "b2adc91e",
   "metadata": {
    "papermill": {
     "duration": 0.02007,
     "end_time": "2025-07-23T16:00:08.345976",
     "exception": false,
     "start_time": "2025-07-23T16:00:08.325906",
     "status": "completed"
    },
    "tags": []
   },
   "source": [
    "**Conclusion:** With the above trained logistic regression model, we have achieved an ROC of 80.76% and 72% recall for class 1 predicitions."
   ]
  }
 ],
 "metadata": {
  "kaggle": {
   "accelerator": "none",
   "dataSources": [
    {
     "datasetId": 2480666,
     "sourceId": 4207867,
     "sourceType": "datasetVersion"
    }
   ],
   "dockerImageVersionId": 31040,
   "isGpuEnabled": false,
   "isInternetEnabled": false,
   "language": "python",
   "sourceType": "notebook"
  },
  "kernelspec": {
   "display_name": "Python 3",
   "language": "python",
   "name": "python3"
  },
  "language_info": {
   "codemirror_mode": {
    "name": "ipython",
    "version": 3
   },
   "file_extension": ".py",
   "mimetype": "text/x-python",
   "name": "python",
   "nbconvert_exporter": "python",
   "pygments_lexer": "ipython3",
   "version": "3.11.11"
  },
  "papermill": {
   "default_parameters": {},
   "duration": 24.523181,
   "end_time": "2025-07-23T16:00:10.986219",
   "environment_variables": {},
   "exception": null,
   "input_path": "__notebook__.ipynb",
   "output_path": "__notebook__.ipynb",
   "parameters": {},
   "start_time": "2025-07-23T15:59:46.463038",
   "version": "2.6.0"
  }
 },
 "nbformat": 4,
 "nbformat_minor": 5
}
