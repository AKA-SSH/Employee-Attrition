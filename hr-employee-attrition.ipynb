{
 "cells": [
  {
   "cell_type": "markdown",
   "id": "3c6a3522",
   "metadata": {
    "papermill": {
     "duration": 0.013399,
     "end_time": "2025-07-24T15:55:29.871724",
     "exception": false,
     "start_time": "2025-07-24T15:55:29.858325",
     "status": "completed"
    },
    "tags": []
   },
   "source": [
    "# Data Loading"
   ]
  },
  {
   "cell_type": "code",
   "execution_count": 1,
   "id": "5998d807",
   "metadata": {
    "_cell_guid": "b1076dfc-b9ad-4769-8c92-a6c4dae69d19",
    "_uuid": "8f2839f25d086af736a60e9eeb907d3b93b6e0e5",
    "execution": {
     "iopub.execute_input": "2025-07-24T15:55:29.897317Z",
     "iopub.status.busy": "2025-07-24T15:55:29.895913Z",
     "iopub.status.idle": "2025-07-24T15:55:32.037631Z",
     "shell.execute_reply": "2025-07-24T15:55:32.036189Z"
    },
    "papermill": {
     "duration": 2.155878,
     "end_time": "2025-07-24T15:55:32.039669",
     "exception": false,
     "start_time": "2025-07-24T15:55:29.883791",
     "status": "completed"
    },
    "tags": []
   },
   "outputs": [],
   "source": [
    "import os\n",
    "import pandas as pd"
   ]
  },
  {
   "cell_type": "code",
   "execution_count": 2,
   "id": "e8d17bf9",
   "metadata": {
    "execution": {
     "iopub.execute_input": "2025-07-24T15:55:32.064532Z",
     "iopub.status.busy": "2025-07-24T15:55:32.064051Z",
     "iopub.status.idle": "2025-07-24T15:55:32.102575Z",
     "shell.execute_reply": "2025-07-24T15:55:32.101530Z"
    },
    "papermill": {
     "duration": 0.052616,
     "end_time": "2025-07-24T15:55:32.104440",
     "exception": false,
     "start_time": "2025-07-24T15:55:32.051824",
     "status": "completed"
    },
    "tags": []
   },
   "outputs": [],
   "source": [
    "DF = pd.read_csv('/kaggle/input/hr-analytics-prediction/HR-Employee-Attrition.csv')"
   ]
  },
  {
   "cell_type": "code",
   "execution_count": 3,
   "id": "01be0c58",
   "metadata": {
    "execution": {
     "iopub.execute_input": "2025-07-24T15:55:32.129898Z",
     "iopub.status.busy": "2025-07-24T15:55:32.129560Z",
     "iopub.status.idle": "2025-07-24T15:55:32.161293Z",
     "shell.execute_reply": "2025-07-24T15:55:32.159980Z"
    },
    "papermill": {
     "duration": 0.046578,
     "end_time": "2025-07-24T15:55:32.163242",
     "exception": false,
     "start_time": "2025-07-24T15:55:32.116664",
     "status": "completed"
    },
    "tags": []
   },
   "outputs": [],
   "source": [
    "columns_to_drop = DF.columns[DF.nunique()==1]\n",
    "DF_cleaned = DF.drop(columns=columns_to_drop)"
   ]
  },
  {
   "cell_type": "markdown",
   "id": "f8b39aac",
   "metadata": {
    "papermill": {
     "duration": 0.011403,
     "end_time": "2025-07-24T15:55:32.186578",
     "exception": false,
     "start_time": "2025-07-24T15:55:32.175175",
     "status": "completed"
    },
    "tags": []
   },
   "source": [
    "# Data Cleaning"
   ]
  },
  {
   "cell_type": "code",
   "execution_count": 4,
   "id": "2686aadf",
   "metadata": {
    "execution": {
     "iopub.execute_input": "2025-07-24T15:55:32.217588Z",
     "iopub.status.busy": "2025-07-24T15:55:32.217112Z",
     "iopub.status.idle": "2025-07-24T15:55:32.229862Z",
     "shell.execute_reply": "2025-07-24T15:55:32.228999Z"
    },
    "papermill": {
     "duration": 0.031992,
     "end_time": "2025-07-24T15:55:32.231628",
     "exception": false,
     "start_time": "2025-07-24T15:55:32.199636",
     "status": "completed"
    },
    "tags": []
   },
   "outputs": [
    {
     "data": {
      "text/plain": [
       "Age                         0\n",
       "Attrition                   0\n",
       "BusinessTravel              0\n",
       "DailyRate                   0\n",
       "Department                  0\n",
       "DistanceFromHome            0\n",
       "Education                   0\n",
       "EducationField              0\n",
       "EmployeeNumber              0\n",
       "EnvironmentSatisfaction     0\n",
       "Gender                      0\n",
       "HourlyRate                  0\n",
       "JobInvolvement              0\n",
       "JobLevel                    0\n",
       "JobRole                     0\n",
       "JobSatisfaction             0\n",
       "MaritalStatus               0\n",
       "MonthlyIncome               0\n",
       "MonthlyRate                 0\n",
       "NumCompaniesWorked          0\n",
       "OverTime                    0\n",
       "PercentSalaryHike           0\n",
       "PerformanceRating           0\n",
       "RelationshipSatisfaction    0\n",
       "StockOptionLevel            0\n",
       "TotalWorkingYears           0\n",
       "TrainingTimesLastYear       0\n",
       "WorkLifeBalance             0\n",
       "YearsAtCompany              0\n",
       "YearsInCurrentRole          0\n",
       "YearsSinceLastPromotion     0\n",
       "YearsWithCurrManager        0\n",
       "dtype: int64"
      ]
     },
     "execution_count": 4,
     "metadata": {},
     "output_type": "execute_result"
    }
   ],
   "source": [
    "DF_cleaned.isna().sum()"
   ]
  },
  {
   "cell_type": "markdown",
   "id": "57caf74e",
   "metadata": {
    "papermill": {
     "duration": 0.012236,
     "end_time": "2025-07-24T15:55:32.255262",
     "exception": false,
     "start_time": "2025-07-24T15:55:32.243026",
     "status": "completed"
    },
    "tags": []
   },
   "source": [
    "# Exploratory Data Analysis"
   ]
  },
  {
   "cell_type": "code",
   "execution_count": 5,
   "id": "48e0ee99",
   "metadata": {
    "execution": {
     "iopub.execute_input": "2025-07-24T15:55:32.279865Z",
     "iopub.status.busy": "2025-07-24T15:55:32.279492Z",
     "iopub.status.idle": "2025-07-24T15:55:34.490330Z",
     "shell.execute_reply": "2025-07-24T15:55:34.489334Z"
    },
    "papermill": {
     "duration": 2.224979,
     "end_time": "2025-07-24T15:55:34.492126",
     "exception": false,
     "start_time": "2025-07-24T15:55:32.267147",
     "status": "completed"
    },
    "tags": []
   },
   "outputs": [],
   "source": [
    "import warnings\n",
    "import seaborn as sns\n",
    "import matplotlib.pyplot as plt"
   ]
  },
  {
   "cell_type": "code",
   "execution_count": 6,
   "id": "9feda35b",
   "metadata": {
    "execution": {
     "iopub.execute_input": "2025-07-24T15:55:34.515958Z",
     "iopub.status.busy": "2025-07-24T15:55:34.515499Z",
     "iopub.status.idle": "2025-07-24T15:55:34.520539Z",
     "shell.execute_reply": "2025-07-24T15:55:34.519401Z"
    },
    "papermill": {
     "duration": 0.019602,
     "end_time": "2025-07-24T15:55:34.522970",
     "exception": false,
     "start_time": "2025-07-24T15:55:34.503368",
     "status": "completed"
    },
    "tags": []
   },
   "outputs": [],
   "source": [
    "warnings.simplefilter(action=\"ignore\", category=FutureWarning)"
   ]
  },
  {
   "cell_type": "markdown",
   "id": "2a5117b2",
   "metadata": {
    "papermill": {
     "duration": 0.011764,
     "end_time": "2025-07-24T15:55:34.546418",
     "exception": false,
     "start_time": "2025-07-24T15:55:34.534654",
     "status": "completed"
    },
    "tags": []
   },
   "source": [
    "## Data distribution in terms of attrition"
   ]
  },
  {
   "cell_type": "code",
   "execution_count": 7,
   "id": "3e4cbfd7",
   "metadata": {
    "execution": {
     "iopub.execute_input": "2025-07-24T15:55:34.570465Z",
     "iopub.status.busy": "2025-07-24T15:55:34.570134Z",
     "iopub.status.idle": "2025-07-24T15:55:34.836328Z",
     "shell.execute_reply": "2025-07-24T15:55:34.835264Z"
    },
    "papermill": {
     "duration": 0.280434,
     "end_time": "2025-07-24T15:55:34.838067",
     "exception": false,
     "start_time": "2025-07-24T15:55:34.557633",
     "status": "completed"
    },
    "tags": []
   },
   "outputs": [
    {
     "data": {
      "image/png": "[encoded data removed]",
      "text/plain": [
       "<Figure size 500x400 with 1 Axes>"
      ]
     },
     "metadata": {},
     "output_type": "display_data"
    }
   ],
   "source": [
    "plt.figure(figsize=(5,4))\n",
    "custom_colour_scheme = {\"No\": \"green\", \"Yes\": \"red\"}\n",
    "\n",
    "ax = sns.countplot(x=\"Attrition\", data=DF_cleaned, palette=custom_colour_scheme, width=0.25)\n",
    "\n",
    "plt.title(\"Attrition Status Count\")\n",
    "plt.xlabel(\"Attrition Status\")\n",
    "plt.ylabel(\"Count\")\n",
    "\n",
    "for p in ax.patches:\n",
    "    height = p.get_height()\n",
    "    ax.annotate(\n",
    "        f'{int(height)}',\n",
    "        xy=(p.get_x() + p.get_width()/2, height),\n",
    "        ha=\"center\",\n",
    "        va=\"top\",\n",
    "        xytext=(0, -5),\n",
    "        textcoords=\"offset points\",\n",
    "        fontsize=8,\n",
    "        color=\"white\"\n",
    "                )\n",
    "\n",
    "plt.show()"
   ]
  },
  {
   "cell_type": "markdown",
   "id": "09e94a79",
   "metadata": {
    "papermill": {
     "duration": 0.013644,
     "end_time": "2025-07-24T15:55:34.863921",
     "exception": false,
     "start_time": "2025-07-24T15:55:34.850277",
     "status": "completed"
    },
    "tags": []
   },
   "source": [
    "**Observation:** The data provided is skewed in nature, therefore, a resampling technique (preferrably upsampling) will be required sp that the class imbalance is neutralized."
   ]
  },
  {
   "cell_type": "markdown",
   "id": "2ca6c705",
   "metadata": {
    "papermill": {
     "duration": 0.012891,
     "end_time": "2025-07-24T15:55:34.888905",
     "exception": false,
     "start_time": "2025-07-24T15:55:34.876014",
     "status": "completed"
    },
    "tags": []
   },
   "source": [
    "## Spread of age and trend of attrition"
   ]
  },
  {
   "cell_type": "code",
   "execution_count": 8,
   "id": "2e170608",
   "metadata": {
    "execution": {
     "iopub.execute_input": "2025-07-24T15:55:34.981913Z",
     "iopub.status.busy": "2025-07-24T15:55:34.981599Z",
     "iopub.status.idle": "2025-07-24T15:55:35.431924Z",
     "shell.execute_reply": "2025-07-24T15:55:35.430669Z"
    },
    "papermill": {
     "duration": 0.532456,
     "end_time": "2025-07-24T15:55:35.433496",
     "exception": false,
     "start_time": "2025-07-24T15:55:34.901040",
     "status": "completed"
    },
    "tags": []
   },
   "outputs": [
    {
     "data": {
      "image/png": "[encoded data removed]",
      "text/plain": [
       "<Figure size 500x400 with 1 Axes>"
      ]
     },
     "metadata": {},
     "output_type": "display_data"
    }
   ],
   "source": [
    "plt.figure(figsize=(5,4))\n",
    "\n",
    "sns.histplot(\n",
    "    data=DF_cleaned,\n",
    "    x=\"Age\",\n",
    "    hue=\"Attrition\",\n",
    "    hue_order=['Yes', 'No'],\n",
    "    binwidth=3,\n",
    "    kde=False,\n",
    "    stat='density',\n",
    "    palette='viridis',\n",
    "    alpha=0.6,\n",
    "    label=\"Overall Employee Age Distribution\"\n",
    "            )\n",
    "\n",
    "sns.kdeplot(\n",
    "    data=DF_cleaned[DF_cleaned.Attrition==\"Yes\"],\n",
    "    x=\"Age\",\n",
    "    color=\"red\",\n",
    "    linewidth=2,\n",
    "    label=\"Age Distribution of Attrited Employees\"\n",
    "            )\n",
    "\n",
    "plt.xlim(DF_cleaned.Age.min()-2.5, DF_cleaned.Age.max()+2.5)\n",
    "\n",
    "plt.title(\"Age Distribution and Attrition Age Profile\")\n",
    "\n",
    "plt.tight_layout()\n",
    "plt.show()"
   ]
  },
  {
   "cell_type": "markdown",
   "id": "c6a3afe7",
   "metadata": {
    "papermill": {
     "duration": 0.011828,
     "end_time": "2025-07-24T15:55:35.458571",
     "exception": false,
     "start_time": "2025-07-24T15:55:35.446743",
     "status": "completed"
    },
    "tags": []
   },
   "source": [
    "**Observation**: The highest employee count is between age 30 and 40, however, the attrition has a right skewness with highest rate around age 30."
   ]
  },
  {
   "cell_type": "markdown",
   "id": "81576dee",
   "metadata": {
    "papermill": {
     "duration": 0.011815,
     "end_time": "2025-07-24T15:55:35.482446",
     "exception": false,
     "start_time": "2025-07-24T15:55:35.470631",
     "status": "completed"
    },
    "tags": []
   },
   "source": [
    "## Distance to home spread"
   ]
  },
  {
   "cell_type": "code",
   "execution_count": 9,
   "id": "79513c77",
   "metadata": {
    "execution": {
     "iopub.execute_input": "2025-07-24T15:55:35.508748Z",
     "iopub.status.busy": "2025-07-24T15:55:35.507858Z",
     "iopub.status.idle": "2025-07-24T15:55:35.704530Z",
     "shell.execute_reply": "2025-07-24T15:55:35.703202Z"
    },
    "papermill": {
     "duration": 0.211765,
     "end_time": "2025-07-24T15:55:35.706261",
     "exception": false,
     "start_time": "2025-07-24T15:55:35.494496",
     "status": "completed"
    },
    "tags": []
   },
   "outputs": [
    {
     "data": {
      "image/png": "[encoded data removed]",
      "text/plain": [
       "<Figure size 500x400 with 1 Axes>"
      ]
     },
     "metadata": {},
     "output_type": "display_data"
    }
   ],
   "source": [
    "plt.figure(figsize=(5, 4))\n",
    "\n",
    "sns.boxplot(\n",
    "    x=DF_cleaned['Attrition'],\n",
    "    y=DF_cleaned['DistanceFromHome'],\n",
    "    color='skyblue',\n",
    "    width=0.3\n",
    "            )\n",
    "\n",
    "plt.title('Distance From Home Distribution with Attrition Points')\n",
    "plt.ylabel('Distance From Home')\n",
    "plt.legend()\n",
    "plt.grid(axis='y', linestyle='--', alpha=0.7)\n",
    "plt.tight_layout()\n",
    "plt.show()"
   ]
  },
  {
   "cell_type": "markdown",
   "id": "a3d8615e",
   "metadata": {
    "papermill": {
     "duration": 0.01239,
     "end_time": "2025-07-24T15:55:35.731414",
     "exception": false,
     "start_time": "2025-07-24T15:55:35.719024",
     "status": "completed"
    },
    "tags": []
   },
   "source": [
    "**Obervation:** Distance from home to workplace demonstrates a measurable impact on attrition probability, indicating geographical accessibility affects employee retention."
   ]
  },
  {
   "cell_type": "markdown",
   "id": "7a22d641",
   "metadata": {
    "papermill": {
     "duration": 0.013698,
     "end_time": "2025-07-24T15:55:35.758965",
     "exception": false,
     "start_time": "2025-07-24T15:55:35.745267",
     "status": "completed"
    },
    "tags": []
   },
   "source": [
    "## Department and educational field distribution for attrited employees"
   ]
  },
  {
   "cell_type": "code",
   "execution_count": 10,
   "id": "cd6c282c",
   "metadata": {
    "execution": {
     "iopub.execute_input": "2025-07-24T15:55:35.786627Z",
     "iopub.status.busy": "2025-07-24T15:55:35.786266Z",
     "iopub.status.idle": "2025-07-24T15:55:35.797513Z",
     "shell.execute_reply": "2025-07-24T15:55:35.796453Z"
    },
    "papermill": {
     "duration": 0.027392,
     "end_time": "2025-07-24T15:55:35.799250",
     "exception": false,
     "start_time": "2025-07-24T15:55:35.771858",
     "status": "completed"
    },
    "tags": []
   },
   "outputs": [],
   "source": [
    "DF_attrited = DF_cleaned[DF_cleaned[\"Attrition\"] == \"Yes\"]\n",
    "dept_attrition_counts = DF_attrited['Department'].value_counts()\n",
    "dept_total_counts = DF_cleaned['Department'].value_counts()\n",
    "departments = dept_total_counts.index\n",
    "total_counts = dept_total_counts.values\n",
    "attrition_counts = [dept_attrition_counts.get(dept, 0) for dept in departments]\n",
    "\n",
    "dept_short = {'Research & Development': 'R&D', 'Sales': 'Sales', 'Human Resources': 'HR'}\n",
    "short_names = [dept_short.get(dept, dept) for dept in departments]"
   ]
  },
  {
   "cell_type": "code",
   "execution_count": 11,
   "id": "5702153c",
   "metadata": {
    "execution": {
     "iopub.execute_input": "2025-07-24T15:55:35.827058Z",
     "iopub.status.busy": "2025-07-24T15:55:35.826676Z",
     "iopub.status.idle": "2025-07-24T15:55:36.028472Z",
     "shell.execute_reply": "2025-07-24T15:55:36.027529Z"
    },
    "papermill": {
     "duration": 0.218006,
     "end_time": "2025-07-24T15:55:36.030098",
     "exception": false,
     "start_time": "2025-07-24T15:55:35.812092",
     "status": "completed"
    },
    "tags": []
   },
   "outputs": [
    {
     "data": {
      "image/png": "[encoded data removed]",
      "text/plain": [
       "<Figure size 500x600 with 1 Axes>"
      ]
     },
     "metadata": {},
     "output_type": "display_data"
    }
   ],
   "source": [
    "plt.figure(figsize=(5, 6))\n",
    "x_pos = range(len(departments))\n",
    "bars1 = plt.bar(x_pos, total_counts, alpha=0.7, label='Total Employees', width=0.8)\n",
    "bars2 = plt.bar(x_pos, attrition_counts, alpha=0.9, label='Attrited Employees', width=0.5)\n",
    "\n",
    "for i, (total, attrited) in enumerate(zip(total_counts, attrition_counts)):\n",
    "    plt.text(i, total + max(total_counts)*0.01, str(total), ha='center', va='bottom')\n",
    "    if attrited > 0:\n",
    "        plt.text(i, attrited + max(total_counts)*0.01, str(attrited), ha='center', va='bottom')\n",
    "\n",
    "plt.xlabel('Department')\n",
    "plt.ylabel('Number of Employees')\n",
    "plt.title('Department-wise Attrition Analysis')\n",
    "plt.xticks(x_pos, short_names)\n",
    "plt.legend()\n",
    "plt.show()"
   ]
  },
  {
   "cell_type": "markdown",
   "id": "56132c99",
   "metadata": {
    "papermill": {
     "duration": 0.013043,
     "end_time": "2025-07-24T15:55:36.061473",
     "exception": false,
     "start_time": "2025-07-24T15:55:36.048430",
     "status": "completed"
    },
    "tags": []
   },
   "source": [
    "## Change in the rate of attrition with respect to the performance rating"
   ]
  },
  {
   "cell_type": "code",
   "execution_count": 12,
   "id": "a8b975fa",
   "metadata": {
    "execution": {
     "iopub.execute_input": "2025-07-24T15:55:36.090043Z",
     "iopub.status.busy": "2025-07-24T15:55:36.088662Z",
     "iopub.status.idle": "2025-07-24T15:55:36.099720Z",
     "shell.execute_reply": "2025-07-24T15:55:36.098452Z"
    },
    "papermill": {
     "duration": 0.027608,
     "end_time": "2025-07-24T15:55:36.102131",
     "exception": false,
     "start_time": "2025-07-24T15:55:36.074523",
     "status": "completed"
    },
    "tags": []
   },
   "outputs": [],
   "source": [
    "perf_attrition_counts = DF_attrited['PerformanceRating'].value_counts()\n",
    "perf_total_counts = DF_cleaned['PerformanceRating'].value_counts()\n",
    "performance_ratings = perf_total_counts.index\n",
    "total_counts = perf_total_counts.values\n",
    "attrition_counts = [perf_attrition_counts.get(rating, 0) for rating in performance_ratings]\n",
    "\n",
    "rating_labels = {1: 'Poor', 2: 'Below Avg', 3: 'Good', 4: 'Excellent'}\n",
    "short_names = [rating_labels.get(rating, str(rating)) for rating in performance_ratings]"
   ]
  },
  {
   "cell_type": "code",
   "execution_count": 13,
   "id": "42e04d9b",
   "metadata": {
    "execution": {
     "iopub.execute_input": "2025-07-24T15:55:36.135324Z",
     "iopub.status.busy": "2025-07-24T15:55:36.134967Z",
     "iopub.status.idle": "2025-07-24T15:55:36.361238Z",
     "shell.execute_reply": "2025-07-24T15:55:36.359988Z"
    },
    "papermill": {
     "duration": 0.244608,
     "end_time": "2025-07-24T15:55:36.364781",
     "exception": false,
     "start_time": "2025-07-24T15:55:36.120173",
     "status": "completed"
    },
    "tags": []
   },
   "outputs": [
    {
     "data": {
      "image/png": "[encoded data removed]",
      "text/plain": [
       "<Figure size 450x500 with 1 Axes>"
      ]
     },
     "metadata": {},
     "output_type": "display_data"
    }
   ],
   "source": [
    "plt.figure(figsize=(4.5, 5))\n",
    "x_pos = range(len(performance_ratings))\n",
    "bars1 = plt.bar(x_pos, total_counts, alpha=0.7, label='Total Employees', width=0.8)\n",
    "bars2 = plt.bar(x_pos, attrition_counts, alpha=0.9, label='Attrited Employees', width=0.5)\n",
    "\n",
    "for i, (total, attrited) in enumerate(zip(total_counts, attrition_counts)):\n",
    "    plt.text(i, total + max(total_counts)*0.005, str(total), ha='center', va='bottom')\n",
    "    if attrited > 0:\n",
    "        plt.text(i, attrited + max(total_counts)*0.01, str(attrited), ha='center', va='bottom')\n",
    "\n",
    "plt.xlabel('Performance Rating')\n",
    "plt.ylabel('Number of Employees')\n",
    "plt.title('Performance Rating vs Attrition Analysis')\n",
    "plt.xticks(x_pos, short_names)\n",
    "plt.legend()\n",
    "plt.show()"
   ]
  },
  {
   "cell_type": "markdown",
   "id": "51d226dd",
   "metadata": {
    "papermill": {
     "duration": 0.015068,
     "end_time": "2025-07-24T15:55:36.398595",
     "exception": false,
     "start_time": "2025-07-24T15:55:36.383527",
     "status": "completed"
    },
    "tags": []
   },
   "source": [
    "**Observation:** Employees fall under either 3 or 4 rating, with 84.6% falling under 3 rating. However, the attrition rate for both the ratings is the same. Therefore, there is no direct correlation between both the parameters."
   ]
  },
  {
   "cell_type": "markdown",
   "id": "8ee472fa",
   "metadata": {
    "papermill": {
     "duration": 0.015026,
     "end_time": "2025-07-24T15:55:36.428280",
     "exception": false,
     "start_time": "2025-07-24T15:55:36.413254",
     "status": "completed"
    },
    "tags": []
   },
   "source": [
    "## Attrition per department"
   ]
  },
  {
   "cell_type": "code",
   "execution_count": 14,
   "id": "587a90c5",
   "metadata": {
    "execution": {
     "iopub.execute_input": "2025-07-24T15:55:36.458753Z",
     "iopub.status.busy": "2025-07-24T15:55:36.457816Z",
     "iopub.status.idle": "2025-07-24T15:55:36.784348Z",
     "shell.execute_reply": "2025-07-24T15:55:36.783345Z"
    },
    "papermill": {
     "duration": 0.344089,
     "end_time": "2025-07-24T15:55:36.786777",
     "exception": false,
     "start_time": "2025-07-24T15:55:36.442688",
     "status": "completed"
    },
    "tags": []
   },
   "outputs": [
    {
     "data": {
      "image/png": "[encoded data removed]",
      "text/plain": [
       "<Figure size 1500x600 with 2 Axes>"
      ]
     },
     "metadata": {},
     "output_type": "display_data"
    }
   ],
   "source": [
    "edu_total_counts = DF_cleaned['EducationField'].value_counts()\n",
    "edu_attrition_counts = DF_attrited['EducationField'].value_counts()\n",
    "\n",
    "attrition_rates = (edu_attrition_counts / edu_total_counts) * 100\n",
    "attrition_rates = attrition_rates.fillna(0)\n",
    "attrition_rates = attrition_rates.sort_index()\n",
    "\n",
    "total_labels = [label.replace('Human Resources', 'HR') for label in edu_total_counts.index]\n",
    "attrition_labels = [label.replace('Human Resources', 'HR') for label in attrition_rates.index]\n",
    "\n",
    "fig, (ax1, ax2) = plt.subplots(1, 2, figsize=(15, 6))\n",
    "\n",
    "ax1.pie(edu_total_counts.values, labels=total_labels, autopct='%1.1f%%', startangle=90, pctdistance=0.9)\n",
    "ax1.set_title('Total Employees by Education Field')\n",
    "\n",
    "ax2.pie(attrition_rates.values, labels=attrition_labels, autopct='%1.1f%%', startangle=90, pctdistance=0.9)\n",
    "ax2.set_title('Attrition Rate by Education Field')\n",
    "\n",
    "plt.tight_layout()\n",
    "plt.show()"
   ]
  },
  {
   "cell_type": "markdown",
   "id": "caabd8ef",
   "metadata": {
    "papermill": {
     "duration": 0.01496,
     "end_time": "2025-07-24T15:55:36.817652",
     "exception": false,
     "start_time": "2025-07-24T15:55:36.802692",
     "status": "completed"
    },
    "tags": []
   },
   "source": [
    "**Observation:** HRs and technical degree holders have the highest attrition with 44.1% as the aggregated percentage for both the departments."
   ]
  },
  {
   "cell_type": "markdown",
   "id": "bd62ea04",
   "metadata": {
    "papermill": {
     "duration": 0.015326,
     "end_time": "2025-07-24T15:55:36.848757",
     "exception": false,
     "start_time": "2025-07-24T15:55:36.833431",
     "status": "completed"
    },
    "tags": []
   },
   "source": [
    "## Effect of current manager time on attrition"
   ]
  },
  {
   "cell_type": "code",
   "execution_count": 15,
   "id": "e398a016",
   "metadata": {
    "execution": {
     "iopub.execute_input": "2025-07-24T15:55:36.880921Z",
     "iopub.status.busy": "2025-07-24T15:55:36.880611Z",
     "iopub.status.idle": "2025-07-24T15:55:37.261201Z",
     "shell.execute_reply": "2025-07-24T15:55:37.260097Z"
    },
    "papermill": {
     "duration": 0.398815,
     "end_time": "2025-07-24T15:55:37.262841",
     "exception": false,
     "start_time": "2025-07-24T15:55:36.864026",
     "status": "completed"
    },
    "tags": []
   },
   "outputs": [
    {
     "data": {
      "image/png": "[encoded data removed]",
      "text/plain": [
       "<Figure size 500x500 with 1 Axes>"
      ]
     },
     "metadata": {},
     "output_type": "display_data"
    }
   ],
   "source": [
    "plt.figure(figsize=(5, 5))\n",
    "sns.histplot(\n",
    "    data=DF_cleaned,\n",
    "    x=\"YearsWithCurrManager\",\n",
    "    hue=\"Attrition\",\n",
    "    palette={'Yes': 'red', 'No': 'green'},\n",
    "    binwidth=1,\n",
    "    kde=False,\n",
    "    stat='count',\n",
    "    alpha=0.6\n",
    ")\n",
    "plt.title('Distribution of Years With Current Manager by Attrition')\n",
    "plt.xlabel('Years With Current Manager')\n",
    "plt.ylabel('Count')\n",
    "plt.legend(title='Attrition', labels=['No Attrition', 'Yes Attrition'])\n",
    "plt.tight_layout()"
   ]
  },
  {
   "cell_type": "markdown",
   "id": "7928b042",
   "metadata": {
    "papermill": {
     "duration": 0.016313,
     "end_time": "2025-07-24T15:55:37.295861",
     "exception": false,
     "start_time": "2025-07-24T15:55:37.279548",
     "status": "completed"
    },
    "tags": []
   },
   "source": [
    "## Percentage distribution of training times last year"
   ]
  },
  {
   "cell_type": "code",
   "execution_count": 16,
   "id": "dd231607",
   "metadata": {
    "execution": {
     "iopub.execute_input": "2025-07-24T15:55:37.330427Z",
     "iopub.status.busy": "2025-07-24T15:55:37.330088Z",
     "iopub.status.idle": "2025-07-24T15:55:37.744355Z",
     "shell.execute_reply": "2025-07-24T15:55:37.742580Z"
    },
    "papermill": {
     "duration": 0.433512,
     "end_time": "2025-07-24T15:55:37.746416",
     "exception": false,
     "start_time": "2025-07-24T15:55:37.312904",
     "status": "completed"
    },
    "tags": []
   },
   "outputs": [
    {
     "data": {
      "image/png": "[encoded data removed]",
      "text/plain": [
       "<Figure size 500x400 with 2 Axes>"
      ]
     },
     "metadata": {},
     "output_type": "display_data"
    }
   ],
   "source": [
    "training_times_counts = DF_cleaned['TrainingTimesLastYear'].value_counts().sort_index()\n",
    "attrition_rate_training_times = DF_cleaned.groupby('TrainingTimesLastYear')['Attrition'].value_counts(normalize=True).unstack(fill_value=0)\n",
    "attrition_rate_training_times['Yes_Percentage'] = attrition_rate_training_times['Yes'] * 100 if 'Yes' in attrition_rate_training_times.columns else 0\n",
    "\n",
    "fig, ax1 = plt.subplots(figsize=(5, 4))\n",
    "\n",
    "sns.barplot(x=training_times_counts.index, y=training_times_counts.values, color='skyblue', alpha=0.7, ax=ax1)\n",
    "ax1.set_xlabel('Training Times Last Year')\n",
    "ax1.set_ylabel('Employee Count', color='skyblue')\n",
    "ax1.tick_params(axis='y', labelcolor='skyblue')\n",
    "ax1.set_title('Training Times Last Year and Attrition')\n",
    "ax1.set_xticks(range(int(training_times_counts.index.min()), int(training_times_counts.index.max()) + 1, 1))\n",
    "\n",
    "ax2 = ax1.twinx()\n",
    "sns.lineplot(x=attrition_rate_training_times.index, y='Yes_Percentage', data=attrition_rate_training_times,\n",
    "             marker='o', color='red', linewidth=2, ax=ax2)\n",
    "ax2.set_ylabel('Attrition Rate (%)', color='red')\n",
    "ax2.tick_params(axis='y', labelcolor='red')\n",
    "\n",
    "plt.tight_layout()"
   ]
  },
  {
   "cell_type": "markdown",
   "id": "36aa2c68",
   "metadata": {
    "papermill": {
     "duration": 0.016361,
     "end_time": "2025-07-24T15:55:37.781548",
     "exception": false,
     "start_time": "2025-07-24T15:55:37.765187",
     "status": "completed"
    },
    "tags": []
   },
   "source": [
    "**Observation:** There have been two or three training sessions for majority of the exployees."
   ]
  },
  {
   "cell_type": "markdown",
   "id": "fe82659d",
   "metadata": {
    "papermill": {
     "duration": 0.016297,
     "end_time": "2025-07-24T15:55:37.815130",
     "exception": false,
     "start_time": "2025-07-24T15:55:37.798833",
     "status": "completed"
    },
    "tags": []
   },
   "source": [
    "## Attrition rate by training times last year"
   ]
  },
  {
   "cell_type": "code",
   "execution_count": 17,
   "id": "5a2efce6",
   "metadata": {
    "execution": {
     "iopub.execute_input": "2025-07-24T15:55:37.850016Z",
     "iopub.status.busy": "2025-07-24T15:55:37.849637Z",
     "iopub.status.idle": "2025-07-24T15:55:38.207928Z",
     "shell.execute_reply": "2025-07-24T15:55:38.206875Z"
    },
    "papermill": {
     "duration": 0.378517,
     "end_time": "2025-07-24T15:55:38.209928",
     "exception": false,
     "start_time": "2025-07-24T15:55:37.831411",
     "status": "completed"
    },
    "tags": []
   },
   "outputs": [
    {
     "data": {
      "image/png": "[encoded data removed]",
      "text/plain": [
       "<Figure size 500x500 with 1 Axes>"
      ]
     },
     "metadata": {},
     "output_type": "display_data"
    }
   ],
   "source": [
    "attrition_rate = DF_cleaned.groupby('TrainingTimesLastYear')['Attrition'].value_counts(normalize=True).unstack(fill_value=0)\n",
    "if 'Yes' in attrition_rate.columns:\n",
    "    attrition_rate['Yes_Percentage'] = attrition_rate['Yes'] * 100\n",
    "else:\n",
    "    attrition_rate['Yes_Percentage'] = 0\n",
    "\n",
    "plt.figure(figsize=(5, 5))\n",
    "sns.lineplot(\n",
    "    data=attrition_rate,\n",
    "    x=attrition_rate.index,\n",
    "    y='Yes_Percentage',\n",
    "    marker='o',\n",
    "    color='red'\n",
    ")\n",
    "plt.title('Attrition Rate by Training Times Last Year')\n",
    "plt.xlabel('Training Times Last Year')\n",
    "plt.ylabel('Attrition Rate (%)')\n",
    "plt.grid(True, linestyle='--', alpha=0.6)\n",
    "plt.tight_layout()"
   ]
  },
  {
   "cell_type": "markdown",
   "id": "ebb8b6c8",
   "metadata": {
    "papermill": {
     "duration": 0.018217,
     "end_time": "2025-07-24T15:55:38.249599",
     "exception": false,
     "start_time": "2025-07-24T15:55:38.231382",
     "status": "completed"
    },
    "tags": []
   },
   "source": [
    "# Data Preprocessing"
   ]
  },
  {
   "cell_type": "code",
   "execution_count": 18,
   "id": "5bbb48fd",
   "metadata": {
    "execution": {
     "iopub.execute_input": "2025-07-24T15:55:38.293796Z",
     "iopub.status.busy": "2025-07-24T15:55:38.293460Z",
     "iopub.status.idle": "2025-07-24T15:55:38.299434Z",
     "shell.execute_reply": "2025-07-24T15:55:38.298220Z"
    },
    "papermill": {
     "duration": 0.032937,
     "end_time": "2025-07-24T15:55:38.301841",
     "exception": false,
     "start_time": "2025-07-24T15:55:38.268904",
     "status": "completed"
    },
    "tags": []
   },
   "outputs": [],
   "source": [
    "def ManualOrdinalEncoding(dataframe, column, mapping):\n",
    "    encoded = dataframe[column].map(mapping)\n",
    "    dataframe[column] = encoded"
   ]
  },
  {
   "cell_type": "code",
   "execution_count": 19,
   "id": "82f1b620",
   "metadata": {
    "execution": {
     "iopub.execute_input": "2025-07-24T15:55:38.340788Z",
     "iopub.status.busy": "2025-07-24T15:55:38.340419Z",
     "iopub.status.idle": "2025-07-24T15:55:38.347896Z",
     "shell.execute_reply": "2025-07-24T15:55:38.346209Z"
    },
    "papermill": {
     "duration": 0.029291,
     "end_time": "2025-07-24T15:55:38.349635",
     "exception": false,
     "start_time": "2025-07-24T15:55:38.320344",
     "status": "completed"
    },
    "tags": []
   },
   "outputs": [],
   "source": [
    "AttritionMap = {\"No\": 0, \"Yes\": 1}\n",
    "\n",
    "ManualOrdinalEncoding(DF_cleaned, \"Attrition\", AttritionMap)"
   ]
  },
  {
   "cell_type": "markdown",
   "id": "9aa25b64",
   "metadata": {
    "papermill": {
     "duration": 0.020552,
     "end_time": "2025-07-24T15:55:38.388589",
     "exception": false,
     "start_time": "2025-07-24T15:55:38.368037",
     "status": "completed"
    },
    "tags": []
   },
   "source": [
    "## Ordinal Encoding"
   ]
  },
  {
   "cell_type": "code",
   "execution_count": 20,
   "id": "667b5f96",
   "metadata": {
    "execution": {
     "iopub.execute_input": "2025-07-24T15:55:38.430984Z",
     "iopub.status.busy": "2025-07-24T15:55:38.430596Z",
     "iopub.status.idle": "2025-07-24T15:55:38.437114Z",
     "shell.execute_reply": "2025-07-24T15:55:38.435184Z"
    },
    "papermill": {
     "duration": 0.030051,
     "end_time": "2025-07-24T15:55:38.439353",
     "exception": false,
     "start_time": "2025-07-24T15:55:38.409302",
     "status": "completed"
    },
    "tags": []
   },
   "outputs": [],
   "source": [
    "Attrition_True = (DF_cleaned.Attrition == 1)"
   ]
  },
  {
   "cell_type": "markdown",
   "id": "a8a05f88",
   "metadata": {
    "papermill": {
     "duration": 0.018836,
     "end_time": "2025-07-24T15:55:38.482703",
     "exception": false,
     "start_time": "2025-07-24T15:55:38.463867",
     "status": "completed"
    },
    "tags": []
   },
   "source": [
    "### Business Travel"
   ]
  },
  {
   "cell_type": "code",
   "execution_count": 21,
   "id": "9a6c217f",
   "metadata": {
    "execution": {
     "iopub.execute_input": "2025-07-24T15:55:38.525318Z",
     "iopub.status.busy": "2025-07-24T15:55:38.524909Z",
     "iopub.status.idle": "2025-07-24T15:55:38.536172Z",
     "shell.execute_reply": "2025-07-24T15:55:38.534912Z"
    },
    "papermill": {
     "duration": 0.035515,
     "end_time": "2025-07-24T15:55:38.538138",
     "exception": false,
     "start_time": "2025-07-24T15:55:38.502623",
     "status": "completed"
    },
    "tags": []
   },
   "outputs": [],
   "source": [
    "Non_Travel_Count = (DF_cleaned.BusinessTravel == \"Non-Travel\")\n",
    "Travel_Rarely_Count = (DF_cleaned.BusinessTravel == \"Travel_Rarely\")\n",
    "Travel_Frequently_Count = (DF_cleaned.BusinessTravel == \"Travel_Frequently\")\n",
    "\n",
    "Non_Travel_Attrition_Count = DF_cleaned[Non_Travel_Count&Attrition_True].shape[0]\n",
    "Travel_Rarely_Attrition_Count = DF_cleaned[Travel_Rarely_Count&Attrition_True].shape[0]\n",
    "Travel_Frequently_Attrition_Count = DF_cleaned[Travel_Frequently_Count&Attrition_True].shape[0]"
   ]
  },
  {
   "cell_type": "code",
   "execution_count": 22,
   "id": "b05ce12d",
   "metadata": {
    "execution": {
     "iopub.execute_input": "2025-07-24T15:55:38.576462Z",
     "iopub.status.busy": "2025-07-24T15:55:38.576153Z",
     "iopub.status.idle": "2025-07-24T15:55:38.582983Z",
     "shell.execute_reply": "2025-07-24T15:55:38.581498Z"
    },
    "papermill": {
     "duration": 0.027802,
     "end_time": "2025-07-24T15:55:38.585262",
     "exception": false,
     "start_time": "2025-07-24T15:55:38.557460",
     "status": "completed"
    },
    "tags": []
   },
   "outputs": [
    {
     "name": "stdout",
     "output_type": "stream",
     "text": [
      "150 1043 277\n",
      "12 156 69\n"
     ]
    }
   ],
   "source": [
    "print(Non_Travel_Count.sum(), Travel_Rarely_Count.sum(), Travel_Frequently_Count.sum())\n",
    "print(Non_Travel_Attrition_Count, Travel_Rarely_Attrition_Count, Travel_Frequently_Attrition_Count)"
   ]
  },
  {
   "cell_type": "code",
   "execution_count": 23,
   "id": "c3537218",
   "metadata": {
    "execution": {
     "iopub.execute_input": "2025-07-24T15:55:38.628876Z",
     "iopub.status.busy": "2025-07-24T15:55:38.628565Z",
     "iopub.status.idle": "2025-07-24T15:55:38.636285Z",
     "shell.execute_reply": "2025-07-24T15:55:38.634403Z"
    },
    "papermill": {
     "duration": 0.031469,
     "end_time": "2025-07-24T15:55:38.638258",
     "exception": false,
     "start_time": "2025-07-24T15:55:38.606789",
     "status": "completed"
    },
    "tags": []
   },
   "outputs": [
    {
     "name": "stdout",
     "output_type": "stream",
     "text": [
      "0.14956855225311602 0.2490974729241877\n"
     ]
    }
   ],
   "source": [
    "Travel_Rarely_Frequency = Travel_Rarely_Attrition_Count/Travel_Rarely_Count.sum()\n",
    "Travel_Frequently_Frequency = Travel_Frequently_Attrition_Count/Travel_Frequently_Count.sum()\n",
    "\n",
    "print(Travel_Rarely_Frequency, Travel_Frequently_Frequency)"
   ]
  },
  {
   "cell_type": "code",
   "execution_count": 24,
   "id": "93f4fc4c",
   "metadata": {
    "execution": {
     "iopub.execute_input": "2025-07-24T15:55:38.675624Z",
     "iopub.status.busy": "2025-07-24T15:55:38.675256Z",
     "iopub.status.idle": "2025-07-24T15:55:38.682561Z",
     "shell.execute_reply": "2025-07-24T15:55:38.681281Z"
    },
    "papermill": {
     "duration": 0.02908,
     "end_time": "2025-07-24T15:55:38.684855",
     "exception": false,
     "start_time": "2025-07-24T15:55:38.655775",
     "status": "completed"
    },
    "tags": []
   },
   "outputs": [],
   "source": [
    "BusinessTravelMap = {\"Non-Travel\": 0, \"Travel_Rarely\": 1, \"Travel_Frequently\": 2}\n",
    "\n",
    "ManualOrdinalEncoding(DF_cleaned, \"BusinessTravel\", BusinessTravelMap)"
   ]
  },
  {
   "cell_type": "markdown",
   "id": "9637bad6",
   "metadata": {
    "papermill": {
     "duration": 0.017763,
     "end_time": "2025-07-24T15:55:38.720068",
     "exception": false,
     "start_time": "2025-07-24T15:55:38.702305",
     "status": "completed"
    },
    "tags": []
   },
   "source": [
    "### OverTime"
   ]
  },
  {
   "cell_type": "code",
   "execution_count": 25,
   "id": "415f4ee8",
   "metadata": {
    "execution": {
     "iopub.execute_input": "2025-07-24T15:55:38.758117Z",
     "iopub.status.busy": "2025-07-24T15:55:38.757693Z",
     "iopub.status.idle": "2025-07-24T15:55:38.764180Z",
     "shell.execute_reply": "2025-07-24T15:55:38.763138Z"
    },
    "papermill": {
     "duration": 0.027714,
     "end_time": "2025-07-24T15:55:38.765544",
     "exception": false,
     "start_time": "2025-07-24T15:55:38.737830",
     "status": "completed"
    },
    "tags": []
   },
   "outputs": [
    {
     "data": {
      "text/plain": [
       "array(['Yes', 'No'], dtype=object)"
      ]
     },
     "execution_count": 25,
     "metadata": {},
     "output_type": "execute_result"
    }
   ],
   "source": [
    "DF_cleaned.OverTime.unique()"
   ]
  },
  {
   "cell_type": "code",
   "execution_count": 26,
   "id": "916716b5",
   "metadata": {
    "execution": {
     "iopub.execute_input": "2025-07-24T15:55:38.801868Z",
     "iopub.status.busy": "2025-07-24T15:55:38.801491Z",
     "iopub.status.idle": "2025-07-24T15:55:38.809389Z",
     "shell.execute_reply": "2025-07-24T15:55:38.808522Z"
    },
    "papermill": {
     "duration": 0.028088,
     "end_time": "2025-07-24T15:55:38.811008",
     "exception": false,
     "start_time": "2025-07-24T15:55:38.782920",
     "status": "completed"
    },
    "tags": []
   },
   "outputs": [],
   "source": [
    "Over_Time_False_Count = (DF_cleaned.OverTime == \"No\")\n",
    "Over_Time_True_Count = (DF_cleaned.OverTime == \"Yes\")\n",
    "\n",
    "Over_Time_False_Attrition_Count = DF_cleaned[Over_Time_False_Count&Attrition_True].shape[0]\n",
    "Over_Time_True_Attrition_Count = DF_cleaned[Over_Time_True_Count&Attrition_True].shape[0]"
   ]
  },
  {
   "cell_type": "code",
   "execution_count": 27,
   "id": "1a1c74fe",
   "metadata": {
    "execution": {
     "iopub.execute_input": "2025-07-24T15:55:38.847635Z",
     "iopub.status.busy": "2025-07-24T15:55:38.847316Z",
     "iopub.status.idle": "2025-07-24T15:55:38.853352Z",
     "shell.execute_reply": "2025-07-24T15:55:38.852194Z"
    },
    "papermill": {
     "duration": 0.026475,
     "end_time": "2025-07-24T15:55:38.854789",
     "exception": false,
     "start_time": "2025-07-24T15:55:38.828314",
     "status": "completed"
    },
    "tags": []
   },
   "outputs": [
    {
     "name": "stdout",
     "output_type": "stream",
     "text": [
      "0.10436432637571158 0.30528846153846156\n"
     ]
    }
   ],
   "source": [
    "Over_Time_False_Frequency = Over_Time_False_Attrition_Count/Over_Time_False_Count.sum()\n",
    "Over_Time_True_Frequency = Over_Time_True_Attrition_Count/Over_Time_True_Count.sum()\n",
    "\n",
    "print(Over_Time_False_Frequency, Over_Time_True_Frequency)"
   ]
  },
  {
   "cell_type": "code",
   "execution_count": 28,
   "id": "d2d1a582",
   "metadata": {
    "execution": {
     "iopub.execute_input": "2025-07-24T15:55:38.891487Z",
     "iopub.status.busy": "2025-07-24T15:55:38.890646Z",
     "iopub.status.idle": "2025-07-24T15:55:38.896977Z",
     "shell.execute_reply": "2025-07-24T15:55:38.895974Z"
    },
    "papermill": {
     "duration": 0.026357,
     "end_time": "2025-07-24T15:55:38.898631",
     "exception": false,
     "start_time": "2025-07-24T15:55:38.872274",
     "status": "completed"
    },
    "tags": []
   },
   "outputs": [],
   "source": [
    "OverTimeMap = {\"No\": 0, \"Yes\": 1}\n",
    "\n",
    "ManualOrdinalEncoding(DF_cleaned, \"OverTime\", OverTimeMap)"
   ]
  },
  {
   "cell_type": "markdown",
   "id": "d177bbf1",
   "metadata": {
    "papermill": {
     "duration": 0.017473,
     "end_time": "2025-07-24T15:55:38.933483",
     "exception": false,
     "start_time": "2025-07-24T15:55:38.916010",
     "status": "completed"
    },
    "tags": []
   },
   "source": [
    "### MaritalStatus"
   ]
  },
  {
   "cell_type": "code",
   "execution_count": 29,
   "id": "b458e934",
   "metadata": {
    "execution": {
     "iopub.execute_input": "2025-07-24T15:55:38.969577Z",
     "iopub.status.busy": "2025-07-24T15:55:38.969252Z",
     "iopub.status.idle": "2025-07-24T15:55:38.975836Z",
     "shell.execute_reply": "2025-07-24T15:55:38.974852Z"
    },
    "papermill": {
     "duration": 0.026633,
     "end_time": "2025-07-24T15:55:38.977558",
     "exception": false,
     "start_time": "2025-07-24T15:55:38.950925",
     "status": "completed"
    },
    "tags": []
   },
   "outputs": [
    {
     "data": {
      "text/plain": [
       "array(['Single', 'Married', 'Divorced'], dtype=object)"
      ]
     },
     "execution_count": 29,
     "metadata": {},
     "output_type": "execute_result"
    }
   ],
   "source": [
    "DF_cleaned.MaritalStatus.unique()"
   ]
  },
  {
   "cell_type": "code",
   "execution_count": 30,
   "id": "88af6b0b",
   "metadata": {
    "execution": {
     "iopub.execute_input": "2025-07-24T15:55:39.017529Z",
     "iopub.status.busy": "2025-07-24T15:55:39.016822Z",
     "iopub.status.idle": "2025-07-24T15:55:39.026748Z",
     "shell.execute_reply": "2025-07-24T15:55:39.025769Z"
    },
    "papermill": {
     "duration": 0.031135,
     "end_time": "2025-07-24T15:55:39.028385",
     "exception": false,
     "start_time": "2025-07-24T15:55:38.997250",
     "status": "completed"
    },
    "tags": []
   },
   "outputs": [],
   "source": [
    "Marital_Status_Single_Count = (DF_cleaned.MaritalStatus == \"Single\")\n",
    "Marital_Status_Married_Count = (DF_cleaned.MaritalStatus == \"Married\")\n",
    "Marital_Status_Divorced_Count = (DF_cleaned.MaritalStatus == \"Divorced\")\n",
    "\n",
    "Marital_Status_Single_Attrition_Count = DF_cleaned[Marital_Status_Single_Count&Attrition_True].shape[0]\n",
    "Marital_Status_Married_Attrition_Count = DF_cleaned[Marital_Status_Married_Count&Attrition_True].shape[0]\n",
    "Marital_Status_Divorced_Attrition_Count = DF_cleaned[Marital_Status_Divorced_Count&Attrition_True].shape[0]"
   ]
  },
  {
   "cell_type": "code",
   "execution_count": 31,
   "id": "998b9a2a",
   "metadata": {
    "execution": {
     "iopub.execute_input": "2025-07-24T15:55:39.065139Z",
     "iopub.status.busy": "2025-07-24T15:55:39.064755Z",
     "iopub.status.idle": "2025-07-24T15:55:39.070520Z",
     "shell.execute_reply": "2025-07-24T15:55:39.069215Z"
    },
    "papermill": {
     "duration": 0.026984,
     "end_time": "2025-07-24T15:55:39.072715",
     "exception": false,
     "start_time": "2025-07-24T15:55:39.045731",
     "status": "completed"
    },
    "tags": []
   },
   "outputs": [],
   "source": [
    "Marital_Status_Single_Frequency = Marital_Status_Single_Attrition_Count/Marital_Status_Single_Count.sum()\n",
    "Marital_Status_Married_Frequency = Marital_Status_Married_Attrition_Count/Marital_Status_Married_Count.sum()\n",
    "Marital_Status_Divorced_Frequency = Marital_Status_Divorced_Attrition_Count/Marital_Status_Divorced_Count.sum()"
   ]
  },
  {
   "cell_type": "code",
   "execution_count": 32,
   "id": "92de8477",
   "metadata": {
    "execution": {
     "iopub.execute_input": "2025-07-24T15:55:39.110831Z",
     "iopub.status.busy": "2025-07-24T15:55:39.110507Z",
     "iopub.status.idle": "2025-07-24T15:55:39.115277Z",
     "shell.execute_reply": "2025-07-24T15:55:39.114178Z"
    },
    "papermill": {
     "duration": 0.025316,
     "end_time": "2025-07-24T15:55:39.116977",
     "exception": false,
     "start_time": "2025-07-24T15:55:39.091661",
     "status": "completed"
    },
    "tags": []
   },
   "outputs": [
    {
     "name": "stdout",
     "output_type": "stream",
     "text": [
      "0.2553191489361702 0.12481426448736999 0.10091743119266056\n"
     ]
    }
   ],
   "source": [
    "print(Marital_Status_Single_Frequency, Marital_Status_Married_Frequency, Marital_Status_Divorced_Frequency)"
   ]
  },
  {
   "cell_type": "code",
   "execution_count": 33,
   "id": "1147cf17",
   "metadata": {
    "execution": {
     "iopub.execute_input": "2025-07-24T15:55:39.154725Z",
     "iopub.status.busy": "2025-07-24T15:55:39.154414Z",
     "iopub.status.idle": "2025-07-24T15:55:39.160347Z",
     "shell.execute_reply": "2025-07-24T15:55:39.159471Z"
    },
    "papermill": {
     "duration": 0.026057,
     "end_time": "2025-07-24T15:55:39.161907",
     "exception": false,
     "start_time": "2025-07-24T15:55:39.135850",
     "status": "completed"
    },
    "tags": []
   },
   "outputs": [],
   "source": [
    "MaritalStatusMap = {\"Single\": 2, \"Married\": 1, \"Divorced\": 0}\n",
    "\n",
    "ManualOrdinalEncoding(DF_cleaned, \"MaritalStatus\", MaritalStatusMap)"
   ]
  },
  {
   "cell_type": "markdown",
   "id": "036a1e89",
   "metadata": {
    "papermill": {
     "duration": 0.01904,
     "end_time": "2025-07-24T15:55:39.200556",
     "exception": false,
     "start_time": "2025-07-24T15:55:39.181516",
     "status": "completed"
    },
    "tags": []
   },
   "source": [
    "### Downloading the dataframe to CSV"
   ]
  },
  {
   "cell_type": "code",
   "execution_count": 34,
   "id": "17bb748d",
   "metadata": {
    "execution": {
     "iopub.execute_input": "2025-07-24T15:55:39.238479Z",
     "iopub.status.busy": "2025-07-24T15:55:39.238128Z",
     "iopub.status.idle": "2025-07-24T15:55:39.244236Z",
     "shell.execute_reply": "2025-07-24T15:55:39.243272Z"
    },
    "papermill": {
     "duration": 0.026433,
     "end_time": "2025-07-24T15:55:39.245826",
     "exception": false,
     "start_time": "2025-07-24T15:55:39.219393",
     "status": "completed"
    },
    "tags": []
   },
   "outputs": [],
   "source": [
    "DF_num_col = DF_cleaned.select_dtypes(exclude=\"object\")\n",
    "\n",
    "#output_csv_file = \"numerical_data.csv\"\n",
    "#DF_cleaned.to_csv(output_csv_file, index=False)"
   ]
  },
  {
   "cell_type": "markdown",
   "id": "774d6826",
   "metadata": {
    "papermill": {
     "duration": 0.017152,
     "end_time": "2025-07-24T15:55:39.280544",
     "exception": false,
     "start_time": "2025-07-24T15:55:39.263392",
     "status": "completed"
    },
    "tags": []
   },
   "source": [
    "### Pearson Correlaion"
   ]
  },
  {
   "cell_type": "code",
   "execution_count": 35,
   "id": "b18ce295",
   "metadata": {
    "execution": {
     "iopub.execute_input": "2025-07-24T15:55:39.318282Z",
     "iopub.status.busy": "2025-07-24T15:55:39.317998Z",
     "iopub.status.idle": "2025-07-24T15:55:39.328424Z",
     "shell.execute_reply": "2025-07-24T15:55:39.327548Z"
    },
    "papermill": {
     "duration": 0.031389,
     "end_time": "2025-07-24T15:55:39.330477",
     "exception": false,
     "start_time": "2025-07-24T15:55:39.299088",
     "status": "completed"
    },
    "tags": []
   },
   "outputs": [],
   "source": [
    "pearson_corr = DF_num_col.corr()"
   ]
  },
  {
   "cell_type": "code",
   "execution_count": 36,
   "id": "7632cf82",
   "metadata": {
    "execution": {
     "iopub.execute_input": "2025-07-24T15:55:39.368200Z",
     "iopub.status.busy": "2025-07-24T15:55:39.367832Z",
     "iopub.status.idle": "2025-07-24T15:55:39.411854Z",
     "shell.execute_reply": "2025-07-24T15:55:39.410756Z"
    },
    "papermill": {
     "duration": 0.064916,
     "end_time": "2025-07-24T15:55:39.413689",
     "exception": false,
     "start_time": "2025-07-24T15:55:39.348773",
     "status": "completed"
    },
    "tags": []
   },
   "outputs": [
    {
     "data": {
      "text/html": [
       "<div>\n",
       "<style scoped>\n",
       "    .dataframe tbody tr th:only-of-type {\n",
       "        vertical-align: middle;\n",
       "    }\n",
       "\n",
       "    .dataframe tbody tr th {\n",
       "        vertical-align: top;\n",
       "    }\n",
       "\n",
       "    .dataframe thead th {\n",
       "        text-align: right;\n",
       "    }\n",
       "</style>\n",
       "<table border=\"1\" class=\"dataframe\">\n",
       "  <thead>\n",
       "    <tr style=\"text-align: right;\">\n",
       "      <th></th>\n",
       "      <th>Age</th>\n",
       "      <th>Attrition</th>\n",
       "      <th>BusinessTravel</th>\n",
       "      <th>DailyRate</th>\n",
       "      <th>DistanceFromHome</th>\n",
       "      <th>Education</th>\n",
       "      <th>EmployeeNumber</th>\n",
       "      <th>EnvironmentSatisfaction</th>\n",
       "      <th>HourlyRate</th>\n",
       "      <th>JobInvolvement</th>\n",
       "      <th>...</th>\n",
       "      <th>PerformanceRating</th>\n",
       "      <th>RelationshipSatisfaction</th>\n",
       "      <th>StockOptionLevel</th>\n",
       "      <th>TotalWorkingYears</th>\n",
       "      <th>TrainingTimesLastYear</th>\n",
       "      <th>WorkLifeBalance</th>\n",
       "      <th>YearsAtCompany</th>\n",
       "      <th>YearsInCurrentRole</th>\n",
       "      <th>YearsSinceLastPromotion</th>\n",
       "      <th>YearsWithCurrManager</th>\n",
       "    </tr>\n",
       "  </thead>\n",
       "  <tbody>\n",
       "    <tr>\n",
       "      <th>Age</th>\n",
       "      <td>1.000000</td>\n",
       "      <td>-0.159205</td>\n",
       "      <td>-0.011807</td>\n",
       "      <td>0.010661</td>\n",
       "      <td>-0.001686</td>\n",
       "      <td>0.208034</td>\n",
       "      <td>-0.010145</td>\n",
       "      <td>0.010146</td>\n",
       "      <td>0.024287</td>\n",
       "      <td>0.029820</td>\n",
       "      <td>...</td>\n",
       "      <td>0.001904</td>\n",
       "      <td>0.053535</td>\n",
       "      <td>0.037510</td>\n",
       "      <td>0.680381</td>\n",
       "      <td>-0.019621</td>\n",
       "      <td>-0.021490</td>\n",
       "      <td>0.311309</td>\n",
       "      <td>0.212901</td>\n",
       "      <td>0.216513</td>\n",
       "      <td>0.202089</td>\n",
       "    </tr>\n",
       "    <tr>\n",
       "      <th>Attrition</th>\n",
       "      <td>-0.159205</td>\n",
       "      <td>1.000000</td>\n",
       "      <td>0.127006</td>\n",
       "      <td>-0.056652</td>\n",
       "      <td>0.077924</td>\n",
       "      <td>-0.031373</td>\n",
       "      <td>-0.010577</td>\n",
       "      <td>-0.103369</td>\n",
       "      <td>-0.006846</td>\n",
       "      <td>-0.130016</td>\n",
       "      <td>...</td>\n",
       "      <td>0.002889</td>\n",
       "      <td>-0.045872</td>\n",
       "      <td>-0.137145</td>\n",
       "      <td>-0.171063</td>\n",
       "      <td>-0.059478</td>\n",
       "      <td>-0.063939</td>\n",
       "      <td>-0.134392</td>\n",
       "      <td>-0.160545</td>\n",
       "      <td>-0.033019</td>\n",
       "      <td>-0.156199</td>\n",
       "    </tr>\n",
       "    <tr>\n",
       "      <th>BusinessTravel</th>\n",
       "      <td>-0.011807</td>\n",
       "      <td>0.127006</td>\n",
       "      <td>1.000000</td>\n",
       "      <td>-0.015539</td>\n",
       "      <td>-0.009696</td>\n",
       "      <td>-0.008670</td>\n",
       "      <td>-0.018538</td>\n",
       "      <td>-0.011310</td>\n",
       "      <td>-0.004164</td>\n",
       "      <td>0.029300</td>\n",
       "      <td>...</td>\n",
       "      <td>0.001683</td>\n",
       "      <td>0.008926</td>\n",
       "      <td>-0.028257</td>\n",
       "      <td>0.007972</td>\n",
       "      <td>0.016357</td>\n",
       "      <td>0.004209</td>\n",
       "      <td>0.005212</td>\n",
       "      <td>-0.005336</td>\n",
       "      <td>0.005222</td>\n",
       "      <td>-0.000229</td>\n",
       "    </tr>\n",
       "    <tr>\n",
       "      <th>DailyRate</th>\n",
       "      <td>0.010661</td>\n",
       "      <td>-0.056652</td>\n",
       "      <td>-0.015539</td>\n",
       "      <td>1.000000</td>\n",
       "      <td>-0.004985</td>\n",
       "      <td>-0.016806</td>\n",
       "      <td>-0.050990</td>\n",
       "      <td>0.018355</td>\n",
       "      <td>0.023381</td>\n",
       "      <td>0.046135</td>\n",
       "      <td>...</td>\n",
       "      <td>0.000473</td>\n",
       "      <td>0.007846</td>\n",
       "      <td>0.042143</td>\n",
       "      <td>0.014515</td>\n",
       "      <td>0.002453</td>\n",
       "      <td>-0.037848</td>\n",
       "      <td>-0.034055</td>\n",
       "      <td>0.009932</td>\n",
       "      <td>-0.033229</td>\n",
       "      <td>-0.026363</td>\n",
       "    </tr>\n",
       "    <tr>\n",
       "      <th>DistanceFromHome</th>\n",
       "      <td>-0.001686</td>\n",
       "      <td>0.077924</td>\n",
       "      <td>-0.009696</td>\n",
       "      <td>-0.004985</td>\n",
       "      <td>1.000000</td>\n",
       "      <td>0.021042</td>\n",
       "      <td>0.032916</td>\n",
       "      <td>-0.016075</td>\n",
       "      <td>0.031131</td>\n",
       "      <td>0.008783</td>\n",
       "      <td>...</td>\n",
       "      <td>0.027110</td>\n",
       "      <td>0.006557</td>\n",
       "      <td>0.044872</td>\n",
       "      <td>0.004628</td>\n",
       "      <td>-0.036942</td>\n",
       "      <td>-0.026556</td>\n",
       "      <td>0.009508</td>\n",
       "      <td>0.018845</td>\n",
       "      <td>0.010029</td>\n",
       "      <td>0.014406</td>\n",
       "    </tr>\n",
       "    <tr>\n",
       "      <th>Education</th>\n",
       "      <td>0.208034</td>\n",
       "      <td>-0.031373</td>\n",
       "      <td>-0.008670</td>\n",
       "      <td>-0.016806</td>\n",
       "      <td>0.021042</td>\n",
       "      <td>1.000000</td>\n",
       "      <td>0.042070</td>\n",
       "      <td>-0.027128</td>\n",
       "      <td>0.016775</td>\n",
       "      <td>0.042438</td>\n",
       "      <td>...</td>\n",
       "      <td>-0.024539</td>\n",
       "      <td>-0.009118</td>\n",
       "      <td>0.018422</td>\n",
       "      <td>0.148280</td>\n",
       "      <td>-0.025100</td>\n",
       "      <td>0.009819</td>\n",
       "      <td>0.069114</td>\n",
       "      <td>0.060236</td>\n",
       "      <td>0.054254</td>\n",
       "      <td>0.069065</td>\n",
       "    </tr>\n",
       "    <tr>\n",
       "      <th>EmployeeNumber</th>\n",
       "      <td>-0.010145</td>\n",
       "      <td>-0.010577</td>\n",
       "      <td>-0.018538</td>\n",
       "      <td>-0.050990</td>\n",
       "      <td>0.032916</td>\n",
       "      <td>0.042070</td>\n",
       "      <td>1.000000</td>\n",
       "      <td>0.017621</td>\n",
       "      <td>0.035179</td>\n",
       "      <td>-0.006888</td>\n",
       "      <td>...</td>\n",
       "      <td>-0.020359</td>\n",
       "      <td>-0.069861</td>\n",
       "      <td>0.062227</td>\n",
       "      <td>-0.014365</td>\n",
       "      <td>0.023603</td>\n",
       "      <td>0.010309</td>\n",
       "      <td>-0.011240</td>\n",
       "      <td>-0.008416</td>\n",
       "      <td>-0.009019</td>\n",
       "      <td>-0.009197</td>\n",
       "    </tr>\n",
       "    <tr>\n",
       "      <th>EnvironmentSatisfaction</th>\n",
       "      <td>0.010146</td>\n",
       "      <td>-0.103369</td>\n",
       "      <td>-0.011310</td>\n",
       "      <td>0.018355</td>\n",
       "      <td>-0.016075</td>\n",
       "      <td>-0.027128</td>\n",
       "      <td>0.017621</td>\n",
       "      <td>1.000000</td>\n",
       "      <td>-0.049857</td>\n",
       "      <td>-0.008278</td>\n",
       "      <td>...</td>\n",
       "      <td>-0.029548</td>\n",
       "      <td>0.007665</td>\n",
       "      <td>0.003432</td>\n",
       "      <td>-0.002693</td>\n",
       "      <td>-0.019359</td>\n",
       "      <td>0.027627</td>\n",
       "      <td>0.001458</td>\n",
       "      <td>0.018007</td>\n",
       "      <td>0.016194</td>\n",
       "      <td>-0.004999</td>\n",
       "    </tr>\n",
       "    <tr>\n",
       "      <th>HourlyRate</th>\n",
       "      <td>0.024287</td>\n",
       "      <td>-0.006846</td>\n",
       "      <td>-0.004164</td>\n",
       "      <td>0.023381</td>\n",
       "      <td>0.031131</td>\n",
       "      <td>0.016775</td>\n",
       "      <td>0.035179</td>\n",
       "      <td>-0.049857</td>\n",
       "      <td>1.000000</td>\n",
       "      <td>0.042861</td>\n",
       "      <td>...</td>\n",
       "      <td>-0.002172</td>\n",
       "      <td>0.001330</td>\n",
       "      <td>0.050263</td>\n",
       "      <td>-0.002334</td>\n",
       "      <td>-0.008548</td>\n",
       "      <td>-0.004607</td>\n",
       "      <td>-0.019582</td>\n",
       "      <td>-0.024106</td>\n",
       "      <td>-0.026716</td>\n",
       "      <td>-0.020123</td>\n",
       "    </tr>\n",
       "    <tr>\n",
       "      <th>JobInvolvement</th>\n",
       "      <td>0.029820</td>\n",
       "      <td>-0.130016</td>\n",
       "      <td>0.029300</td>\n",
       "      <td>0.046135</td>\n",
       "      <td>0.008783</td>\n",
       "      <td>0.042438</td>\n",
       "      <td>-0.006888</td>\n",
       "      <td>-0.008278</td>\n",
       "      <td>0.042861</td>\n",
       "      <td>1.000000</td>\n",
       "      <td>...</td>\n",
       "      <td>-0.029071</td>\n",
       "      <td>0.034297</td>\n",
       "      <td>0.021523</td>\n",
       "      <td>-0.005533</td>\n",
       "      <td>-0.015338</td>\n",
       "      <td>-0.014617</td>\n",
       "      <td>-0.021355</td>\n",
       "      <td>0.008717</td>\n",
       "      <td>-0.024184</td>\n",
       "      <td>0.025976</td>\n",
       "    </tr>\n",
       "    <tr>\n",
       "      <th>JobLevel</th>\n",
       "      <td>0.509604</td>\n",
       "      <td>-0.169105</td>\n",
       "      <td>-0.011696</td>\n",
       "      <td>0.002966</td>\n",
       "      <td>0.005303</td>\n",
       "      <td>0.101589</td>\n",
       "      <td>-0.018519</td>\n",
       "      <td>0.001212</td>\n",
       "      <td>-0.027853</td>\n",
       "      <td>-0.012630</td>\n",
       "      <td>...</td>\n",
       "      <td>-0.021222</td>\n",
       "      <td>0.021642</td>\n",
       "      <td>0.013984</td>\n",
       "      <td>0.782208</td>\n",
       "      <td>-0.018191</td>\n",
       "      <td>0.037818</td>\n",
       "      <td>0.534739</td>\n",
       "      <td>0.389447</td>\n",
       "      <td>0.353885</td>\n",
       "      <td>0.375281</td>\n",
       "    </tr>\n",
       "    <tr>\n",
       "      <th>JobSatisfaction</th>\n",
       "      <td>-0.004892</td>\n",
       "      <td>-0.103481</td>\n",
       "      <td>0.008666</td>\n",
       "      <td>0.030571</td>\n",
       "      <td>-0.003669</td>\n",
       "      <td>-0.011296</td>\n",
       "      <td>-0.046247</td>\n",
       "      <td>-0.006784</td>\n",
       "      <td>-0.071335</td>\n",
       "      <td>-0.021476</td>\n",
       "      <td>...</td>\n",
       "      <td>0.002297</td>\n",
       "      <td>-0.012454</td>\n",
       "      <td>0.010690</td>\n",
       "      <td>-0.020185</td>\n",
       "      <td>-0.005779</td>\n",
       "      <td>-0.019459</td>\n",
       "      <td>-0.003803</td>\n",
       "      <td>-0.002305</td>\n",
       "      <td>-0.018214</td>\n",
       "      <td>-0.027656</td>\n",
       "    </tr>\n",
       "    <tr>\n",
       "      <th>MaritalStatus</th>\n",
       "      <td>-0.095029</td>\n",
       "      <td>0.162070</td>\n",
       "      <td>0.030915</td>\n",
       "      <td>-0.069586</td>\n",
       "      <td>-0.014437</td>\n",
       "      <td>0.004053</td>\n",
       "      <td>-0.008155</td>\n",
       "      <td>-0.003593</td>\n",
       "      <td>-0.017861</td>\n",
       "      <td>-0.038497</td>\n",
       "      <td>...</td>\n",
       "      <td>0.005207</td>\n",
       "      <td>0.022549</td>\n",
       "      <td>-0.662577</td>\n",
       "      <td>-0.077886</td>\n",
       "      <td>0.010629</td>\n",
       "      <td>0.014708</td>\n",
       "      <td>-0.059986</td>\n",
       "      <td>-0.065822</td>\n",
       "      <td>-0.030915</td>\n",
       "      <td>-0.038570</td>\n",
       "    </tr>\n",
       "    <tr>\n",
       "      <th>MonthlyIncome</th>\n",
       "      <td>0.497855</td>\n",
       "      <td>-0.159840</td>\n",
       "      <td>-0.013450</td>\n",
       "      <td>0.007707</td>\n",
       "      <td>-0.017014</td>\n",
       "      <td>0.094961</td>\n",
       "      <td>-0.014829</td>\n",
       "      <td>-0.006259</td>\n",
       "      <td>-0.015794</td>\n",
       "      <td>-0.015271</td>\n",
       "      <td>...</td>\n",
       "      <td>-0.017120</td>\n",
       "      <td>0.025873</td>\n",
       "      <td>0.005408</td>\n",
       "      <td>0.772893</td>\n",
       "      <td>-0.021736</td>\n",
       "      <td>0.030683</td>\n",
       "      <td>0.514285</td>\n",
       "      <td>0.363818</td>\n",
       "      <td>0.344978</td>\n",
       "      <td>0.344079</td>\n",
       "    </tr>\n",
       "    <tr>\n",
       "      <th>MonthlyRate</th>\n",
       "      <td>0.028051</td>\n",
       "      <td>0.015170</td>\n",
       "      <td>-0.008440</td>\n",
       "      <td>-0.032182</td>\n",
       "      <td>0.027473</td>\n",
       "      <td>-0.026084</td>\n",
       "      <td>0.012648</td>\n",
       "      <td>0.037600</td>\n",
       "      <td>-0.015297</td>\n",
       "      <td>-0.016322</td>\n",
       "      <td>...</td>\n",
       "      <td>-0.009811</td>\n",
       "      <td>-0.004085</td>\n",
       "      <td>-0.034323</td>\n",
       "      <td>0.026442</td>\n",
       "      <td>0.001467</td>\n",
       "      <td>0.007963</td>\n",
       "      <td>-0.023655</td>\n",
       "      <td>-0.012815</td>\n",
       "      <td>0.001567</td>\n",
       "      <td>-0.036746</td>\n",
       "    </tr>\n",
       "    <tr>\n",
       "      <th>NumCompaniesWorked</th>\n",
       "      <td>0.299635</td>\n",
       "      <td>0.043494</td>\n",
       "      <td>-0.030743</td>\n",
       "      <td>0.038153</td>\n",
       "      <td>-0.029251</td>\n",
       "      <td>0.126317</td>\n",
       "      <td>-0.001251</td>\n",
       "      <td>0.012594</td>\n",
       "      <td>0.022157</td>\n",
       "      <td>0.015012</td>\n",
       "      <td>...</td>\n",
       "      <td>-0.014095</td>\n",
       "      <td>0.052733</td>\n",
       "      <td>0.030075</td>\n",
       "      <td>0.237639</td>\n",
       "      <td>-0.066054</td>\n",
       "      <td>-0.008366</td>\n",
       "      <td>-0.118421</td>\n",
       "      <td>-0.090754</td>\n",
       "      <td>-0.036814</td>\n",
       "      <td>-0.110319</td>\n",
       "    </tr>\n",
       "    <tr>\n",
       "      <th>OverTime</th>\n",
       "      <td>0.028062</td>\n",
       "      <td>0.246118</td>\n",
       "      <td>0.042752</td>\n",
       "      <td>0.009135</td>\n",
       "      <td>0.025514</td>\n",
       "      <td>-0.020322</td>\n",
       "      <td>-0.024037</td>\n",
       "      <td>0.070132</td>\n",
       "      <td>-0.007782</td>\n",
       "      <td>-0.003507</td>\n",
       "      <td>...</td>\n",
       "      <td>0.004369</td>\n",
       "      <td>0.048493</td>\n",
       "      <td>-0.000449</td>\n",
       "      <td>0.012754</td>\n",
       "      <td>-0.079113</td>\n",
       "      <td>-0.027092</td>\n",
       "      <td>-0.011687</td>\n",
       "      <td>-0.029758</td>\n",
       "      <td>-0.012239</td>\n",
       "      <td>-0.041586</td>\n",
       "    </tr>\n",
       "    <tr>\n",
       "      <th>PercentSalaryHike</th>\n",
       "      <td>0.003634</td>\n",
       "      <td>-0.013478</td>\n",
       "      <td>-0.025727</td>\n",
       "      <td>0.022704</td>\n",
       "      <td>0.040235</td>\n",
       "      <td>-0.011111</td>\n",
       "      <td>-0.012944</td>\n",
       "      <td>-0.031701</td>\n",
       "      <td>-0.009062</td>\n",
       "      <td>-0.017205</td>\n",
       "      <td>...</td>\n",
       "      <td>0.773550</td>\n",
       "      <td>-0.040490</td>\n",
       "      <td>0.007528</td>\n",
       "      <td>-0.020608</td>\n",
       "      <td>-0.005221</td>\n",
       "      <td>-0.003280</td>\n",
       "      <td>-0.035991</td>\n",
       "      <td>-0.001520</td>\n",
       "      <td>-0.022154</td>\n",
       "      <td>-0.011985</td>\n",
       "    </tr>\n",
       "    <tr>\n",
       "      <th>PerformanceRating</th>\n",
       "      <td>0.001904</td>\n",
       "      <td>0.002889</td>\n",
       "      <td>0.001683</td>\n",
       "      <td>0.000473</td>\n",
       "      <td>0.027110</td>\n",
       "      <td>-0.024539</td>\n",
       "      <td>-0.020359</td>\n",
       "      <td>-0.029548</td>\n",
       "      <td>-0.002172</td>\n",
       "      <td>-0.029071</td>\n",
       "      <td>...</td>\n",
       "      <td>1.000000</td>\n",
       "      <td>-0.031351</td>\n",
       "      <td>0.003506</td>\n",
       "      <td>0.006744</td>\n",
       "      <td>-0.015579</td>\n",
       "      <td>0.002572</td>\n",
       "      <td>0.003435</td>\n",
       "      <td>0.034986</td>\n",
       "      <td>0.017896</td>\n",
       "      <td>0.022827</td>\n",
       "    </tr>\n",
       "    <tr>\n",
       "      <th>RelationshipSatisfaction</th>\n",
       "      <td>0.053535</td>\n",
       "      <td>-0.045872</td>\n",
       "      <td>0.008926</td>\n",
       "      <td>0.007846</td>\n",
       "      <td>0.006557</td>\n",
       "      <td>-0.009118</td>\n",
       "      <td>-0.069861</td>\n",
       "      <td>0.007665</td>\n",
       "      <td>0.001330</td>\n",
       "      <td>0.034297</td>\n",
       "      <td>...</td>\n",
       "      <td>-0.031351</td>\n",
       "      <td>1.000000</td>\n",
       "      <td>-0.045952</td>\n",
       "      <td>0.024054</td>\n",
       "      <td>0.002497</td>\n",
       "      <td>0.019604</td>\n",
       "      <td>0.019367</td>\n",
       "      <td>-0.015123</td>\n",
       "      <td>0.033493</td>\n",
       "      <td>-0.000867</td>\n",
       "    </tr>\n",
       "    <tr>\n",
       "      <th>StockOptionLevel</th>\n",
       "      <td>0.037510</td>\n",
       "      <td>-0.137145</td>\n",
       "      <td>-0.028257</td>\n",
       "      <td>0.042143</td>\n",
       "      <td>0.044872</td>\n",
       "      <td>0.018422</td>\n",
       "      <td>0.062227</td>\n",
       "      <td>0.003432</td>\n",
       "      <td>0.050263</td>\n",
       "      <td>0.021523</td>\n",
       "      <td>...</td>\n",
       "      <td>0.003506</td>\n",
       "      <td>-0.045952</td>\n",
       "      <td>1.000000</td>\n",
       "      <td>0.010136</td>\n",
       "      <td>0.011274</td>\n",
       "      <td>0.004129</td>\n",
       "      <td>0.015058</td>\n",
       "      <td>0.050818</td>\n",
       "      <td>0.014352</td>\n",
       "      <td>0.024698</td>\n",
       "    </tr>\n",
       "    <tr>\n",
       "      <th>TotalWorkingYears</th>\n",
       "      <td>0.680381</td>\n",
       "      <td>-0.171063</td>\n",
       "      <td>0.007972</td>\n",
       "      <td>0.014515</td>\n",
       "      <td>0.004628</td>\n",
       "      <td>0.148280</td>\n",
       "      <td>-0.014365</td>\n",
       "      <td>-0.002693</td>\n",
       "      <td>-0.002334</td>\n",
       "      <td>-0.005533</td>\n",
       "      <td>...</td>\n",
       "      <td>0.006744</td>\n",
       "      <td>0.024054</td>\n",
       "      <td>0.010136</td>\n",
       "      <td>1.000000</td>\n",
       "      <td>-0.035662</td>\n",
       "      <td>0.001008</td>\n",
       "      <td>0.628133</td>\n",
       "      <td>0.460365</td>\n",
       "      <td>0.404858</td>\n",
       "      <td>0.459188</td>\n",
       "    </tr>\n",
       "    <tr>\n",
       "      <th>TrainingTimesLastYear</th>\n",
       "      <td>-0.019621</td>\n",
       "      <td>-0.059478</td>\n",
       "      <td>0.016357</td>\n",
       "      <td>0.002453</td>\n",
       "      <td>-0.036942</td>\n",
       "      <td>-0.025100</td>\n",
       "      <td>0.023603</td>\n",
       "      <td>-0.019359</td>\n",
       "      <td>-0.008548</td>\n",
       "      <td>-0.015338</td>\n",
       "      <td>...</td>\n",
       "      <td>-0.015579</td>\n",
       "      <td>0.002497</td>\n",
       "      <td>0.011274</td>\n",
       "      <td>-0.035662</td>\n",
       "      <td>1.000000</td>\n",
       "      <td>0.028072</td>\n",
       "      <td>0.003569</td>\n",
       "      <td>-0.005738</td>\n",
       "      <td>-0.002067</td>\n",
       "      <td>-0.004096</td>\n",
       "    </tr>\n",
       "    <tr>\n",
       "      <th>WorkLifeBalance</th>\n",
       "      <td>-0.021490</td>\n",
       "      <td>-0.063939</td>\n",
       "      <td>0.004209</td>\n",
       "      <td>-0.037848</td>\n",
       "      <td>-0.026556</td>\n",
       "      <td>0.009819</td>\n",
       "      <td>0.010309</td>\n",
       "      <td>0.027627</td>\n",
       "      <td>-0.004607</td>\n",
       "      <td>-0.014617</td>\n",
       "      <td>...</td>\n",
       "      <td>0.002572</td>\n",
       "      <td>0.019604</td>\n",
       "      <td>0.004129</td>\n",
       "      <td>0.001008</td>\n",
       "      <td>0.028072</td>\n",
       "      <td>1.000000</td>\n",
       "      <td>0.012089</td>\n",
       "      <td>0.049856</td>\n",
       "      <td>0.008941</td>\n",
       "      <td>0.002759</td>\n",
       "    </tr>\n",
       "    <tr>\n",
       "      <th>YearsAtCompany</th>\n",
       "      <td>0.311309</td>\n",
       "      <td>-0.134392</td>\n",
       "      <td>0.005212</td>\n",
       "      <td>-0.034055</td>\n",
       "      <td>0.009508</td>\n",
       "      <td>0.069114</td>\n",
       "      <td>-0.011240</td>\n",
       "      <td>0.001458</td>\n",
       "      <td>-0.019582</td>\n",
       "      <td>-0.021355</td>\n",
       "      <td>...</td>\n",
       "      <td>0.003435</td>\n",
       "      <td>0.019367</td>\n",
       "      <td>0.015058</td>\n",
       "      <td>0.628133</td>\n",
       "      <td>0.003569</td>\n",
       "      <td>0.012089</td>\n",
       "      <td>1.000000</td>\n",
       "      <td>0.758754</td>\n",
       "      <td>0.618409</td>\n",
       "      <td>0.769212</td>\n",
       "    </tr>\n",
       "    <tr>\n",
       "      <th>YearsInCurrentRole</th>\n",
       "      <td>0.212901</td>\n",
       "      <td>-0.160545</td>\n",
       "      <td>-0.005336</td>\n",
       "      <td>0.009932</td>\n",
       "      <td>0.018845</td>\n",
       "      <td>0.060236</td>\n",
       "      <td>-0.008416</td>\n",
       "      <td>0.018007</td>\n",
       "      <td>-0.024106</td>\n",
       "      <td>0.008717</td>\n",
       "      <td>...</td>\n",
       "      <td>0.034986</td>\n",
       "      <td>-0.015123</td>\n",
       "      <td>0.050818</td>\n",
       "      <td>0.460365</td>\n",
       "      <td>-0.005738</td>\n",
       "      <td>0.049856</td>\n",
       "      <td>0.758754</td>\n",
       "      <td>1.000000</td>\n",
       "      <td>0.548056</td>\n",
       "      <td>0.714365</td>\n",
       "    </tr>\n",
       "    <tr>\n",
       "      <th>YearsSinceLastPromotion</th>\n",
       "      <td>0.216513</td>\n",
       "      <td>-0.033019</td>\n",
       "      <td>0.005222</td>\n",
       "      <td>-0.033229</td>\n",
       "      <td>0.010029</td>\n",
       "      <td>0.054254</td>\n",
       "      <td>-0.009019</td>\n",
       "      <td>0.016194</td>\n",
       "      <td>-0.026716</td>\n",
       "      <td>-0.024184</td>\n",
       "      <td>...</td>\n",
       "      <td>0.017896</td>\n",
       "      <td>0.033493</td>\n",
       "      <td>0.014352</td>\n",
       "      <td>0.404858</td>\n",
       "      <td>-0.002067</td>\n",
       "      <td>0.008941</td>\n",
       "      <td>0.618409</td>\n",
       "      <td>0.548056</td>\n",
       "      <td>1.000000</td>\n",
       "      <td>0.510224</td>\n",
       "    </tr>\n",
       "    <tr>\n",
       "      <th>YearsWithCurrManager</th>\n",
       "      <td>0.202089</td>\n",
       "      <td>-0.156199</td>\n",
       "      <td>-0.000229</td>\n",
       "      <td>-0.026363</td>\n",
       "      <td>0.014406</td>\n",
       "      <td>0.069065</td>\n",
       "      <td>-0.009197</td>\n",
       "      <td>-0.004999</td>\n",
       "      <td>-0.020123</td>\n",
       "      <td>0.025976</td>\n",
       "      <td>...</td>\n",
       "      <td>0.022827</td>\n",
       "      <td>-0.000867</td>\n",
       "      <td>0.024698</td>\n",
       "      <td>0.459188</td>\n",
       "      <td>-0.004096</td>\n",
       "      <td>0.002759</td>\n",
       "      <td>0.769212</td>\n",
       "      <td>0.714365</td>\n",
       "      <td>0.510224</td>\n",
       "      <td>1.000000</td>\n",
       "    </tr>\n",
       "  </tbody>\n",
       "</table>\n",
       "<p>28 rows × 28 columns</p>\n",
       "</div>"
      ],
      "text/plain": [
       "                               Age  Attrition  BusinessTravel  DailyRate  \\\n",
       "Age                       1.000000  -0.159205       -0.011807   0.010661   \n",
       "Attrition                -0.159205   1.000000        0.127006  -0.056652   \n",
       "BusinessTravel           -0.011807   0.127006        1.000000  -0.015539   \n",
       "DailyRate                 0.010661  -0.056652       -0.015539   1.000000   \n",
       "DistanceFromHome         -0.001686   0.077924       -0.009696  -0.004985   \n",
       "Education                 0.208034  -0.031373       -0.008670  -0.016806   \n",
       "EmployeeNumber           -0.010145  -0.010577       -0.018538  -0.050990   \n",
       "EnvironmentSatisfaction   0.010146  -0.103369       -0.011310   0.018355   \n",
       "HourlyRate                0.024287  -0.006846       -0.004164   0.023381   \n",
       "JobInvolvement            0.029820  -0.130016        0.029300   0.046135   \n",
       "JobLevel                  0.509604  -0.169105       -0.011696   0.002966   \n",
       "JobSatisfaction          -0.004892  -0.103481        0.008666   0.030571   \n",
       "MaritalStatus            -0.095029   0.162070        0.030915  -0.069586   \n",
       "MonthlyIncome             0.497855  -0.159840       -0.013450   0.007707   \n",
       "MonthlyRate               0.028051   0.015170       -0.008440  -0.032182   \n",
       "NumCompaniesWorked        0.299635   0.043494       -0.030743   0.038153   \n",
       "OverTime                  0.028062   0.246118        0.042752   0.009135   \n",
       "PercentSalaryHike         0.003634  -0.013478       -0.025727   0.022704   \n",
       "PerformanceRating         0.001904   0.002889        0.001683   0.000473   \n",
       "RelationshipSatisfaction  0.053535  -0.045872        0.008926   0.007846   \n",
       "StockOptionLevel          0.037510  -0.137145       -0.028257   0.042143   \n",
       "TotalWorkingYears         0.680381  -0.171063        0.007972   0.014515   \n",
       "TrainingTimesLastYear    -0.019621  -0.059478        0.016357   0.002453   \n",
       "WorkLifeBalance          -0.021490  -0.063939        0.004209  -0.037848   \n",
       "YearsAtCompany            0.311309  -0.134392        0.005212  -0.034055   \n",
       "YearsInCurrentRole        0.212901  -0.160545       -0.005336   0.009932   \n",
       "YearsSinceLastPromotion   0.216513  -0.033019        0.005222  -0.033229   \n",
       "YearsWithCurrManager      0.202089  -0.156199       -0.000229  -0.026363   \n",
       "\n",
       "                          DistanceFromHome  Education  EmployeeNumber  \\\n",
       "Age                              -0.001686   0.208034       -0.010145   \n",
       "Attrition                         0.077924  -0.031373       -0.010577   \n",
       "BusinessTravel                   -0.009696  -0.008670       -0.018538   \n",
       "DailyRate                        -0.004985  -0.016806       -0.050990   \n",
       "DistanceFromHome                  1.000000   0.021042        0.032916   \n",
       "Education                         0.021042   1.000000        0.042070   \n",
       "EmployeeNumber                    0.032916   0.042070        1.000000   \n",
       "EnvironmentSatisfaction          -0.016075  -0.027128        0.017621   \n",
       "HourlyRate                        0.031131   0.016775        0.035179   \n",
       "JobInvolvement                    0.008783   0.042438       -0.006888   \n",
       "JobLevel                          0.005303   0.101589       -0.018519   \n",
       "JobSatisfaction                  -0.003669  -0.011296       -0.046247   \n",
       "MaritalStatus                    -0.014437   0.004053       -0.008155   \n",
       "MonthlyIncome                    -0.017014   0.094961       -0.014829   \n",
       "MonthlyRate                       0.027473  -0.026084        0.012648   \n",
       "NumCompaniesWorked               -0.029251   0.126317       -0.001251   \n",
       "OverTime                          0.025514  -0.020322       -0.024037   \n",
       "PercentSalaryHike                 0.040235  -0.011111       -0.012944   \n",
       "PerformanceRating                 0.027110  -0.024539       -0.020359   \n",
       "RelationshipSatisfaction          0.006557  -0.009118       -0.069861   \n",
       "StockOptionLevel                  0.044872   0.018422        0.062227   \n",
       "TotalWorkingYears                 0.004628   0.148280       -0.014365   \n",
       "TrainingTimesLastYear            -0.036942  -0.025100        0.023603   \n",
       "WorkLifeBalance                  -0.026556   0.009819        0.010309   \n",
       "YearsAtCompany                    0.009508   0.069114       -0.011240   \n",
       "YearsInCurrentRole                0.018845   0.060236       -0.008416   \n",
       "YearsSinceLastPromotion           0.010029   0.054254       -0.009019   \n",
       "YearsWithCurrManager              0.014406   0.069065       -0.009197   \n",
       "\n",
       "                          EnvironmentSatisfaction  HourlyRate  JobInvolvement  \\\n",
       "Age                                      0.010146    0.024287        0.029820   \n",
       "Attrition                               -0.103369   -0.006846       -0.130016   \n",
       "BusinessTravel                          -0.011310   -0.004164        0.029300   \n",
       "DailyRate                                0.018355    0.023381        0.046135   \n",
       "DistanceFromHome                        -0.016075    0.031131        0.008783   \n",
       "Education                               -0.027128    0.016775        0.042438   \n",
       "EmployeeNumber                           0.017621    0.035179       -0.006888   \n",
       "EnvironmentSatisfaction                  1.000000   -0.049857       -0.008278   \n",
       "HourlyRate                              -0.049857    1.000000        0.042861   \n",
       "JobInvolvement                          -0.008278    0.042861        1.000000   \n",
       "JobLevel                                 0.001212   -0.027853       -0.012630   \n",
       "JobSatisfaction                         -0.006784   -0.071335       -0.021476   \n",
       "MaritalStatus                           -0.003593   -0.017861       -0.038497   \n",
       "MonthlyIncome                           -0.006259   -0.015794       -0.015271   \n",
       "MonthlyRate                              0.037600   -0.015297       -0.016322   \n",
       "NumCompaniesWorked                       0.012594    0.022157        0.015012   \n",
       "OverTime                                 0.070132   -0.007782       -0.003507   \n",
       "PercentSalaryHike                       -0.031701   -0.009062       -0.017205   \n",
       "PerformanceRating                       -0.029548   -0.002172       -0.029071   \n",
       "RelationshipSatisfaction                 0.007665    0.001330        0.034297   \n",
       "StockOptionLevel                         0.003432    0.050263        0.021523   \n",
       "TotalWorkingYears                       -0.002693   -0.002334       -0.005533   \n",
       "TrainingTimesLastYear                   -0.019359   -0.008548       -0.015338   \n",
       "WorkLifeBalance                          0.027627   -0.004607       -0.014617   \n",
       "YearsAtCompany                           0.001458   -0.019582       -0.021355   \n",
       "YearsInCurrentRole                       0.018007   -0.024106        0.008717   \n",
       "YearsSinceLastPromotion                  0.016194   -0.026716       -0.024184   \n",
       "YearsWithCurrManager                    -0.004999   -0.020123        0.025976   \n",
       "\n",
       "                          ...  PerformanceRating  RelationshipSatisfaction  \\\n",
       "Age                       ...           0.001904                  0.053535   \n",
       "Attrition                 ...           0.002889                 -0.045872   \n",
       "BusinessTravel            ...           0.001683                  0.008926   \n",
       "DailyRate                 ...           0.000473                  0.007846   \n",
       "DistanceFromHome          ...           0.027110                  0.006557   \n",
       "Education                 ...          -0.024539                 -0.009118   \n",
       "EmployeeNumber            ...          -0.020359                 -0.069861   \n",
       "EnvironmentSatisfaction   ...          -0.029548                  0.007665   \n",
       "HourlyRate                ...          -0.002172                  0.001330   \n",
       "JobInvolvement            ...          -0.029071                  0.034297   \n",
       "JobLevel                  ...          -0.021222                  0.021642   \n",
       "JobSatisfaction           ...           0.002297                 -0.012454   \n",
       "MaritalStatus             ...           0.005207                  0.022549   \n",
       "MonthlyIncome             ...          -0.017120                  0.025873   \n",
       "MonthlyRate               ...          -0.009811                 -0.004085   \n",
       "NumCompaniesWorked        ...          -0.014095                  0.052733   \n",
       "OverTime                  ...           0.004369                  0.048493   \n",
       "PercentSalaryHike         ...           0.773550                 -0.040490   \n",
       "PerformanceRating         ...           1.000000                 -0.031351   \n",
       "RelationshipSatisfaction  ...          -0.031351                  1.000000   \n",
       "StockOptionLevel          ...           0.003506                 -0.045952   \n",
       "TotalWorkingYears         ...           0.006744                  0.024054   \n",
       "TrainingTimesLastYear     ...          -0.015579                  0.002497   \n",
       "WorkLifeBalance           ...           0.002572                  0.019604   \n",
       "YearsAtCompany            ...           0.003435                  0.019367   \n",
       "YearsInCurrentRole        ...           0.034986                 -0.015123   \n",
       "YearsSinceLastPromotion   ...           0.017896                  0.033493   \n",
       "YearsWithCurrManager      ...           0.022827                 -0.000867   \n",
       "\n",
       "                          StockOptionLevel  TotalWorkingYears  \\\n",
       "Age                               0.037510           0.680381   \n",
       "Attrition                        -0.137145          -0.171063   \n",
       "BusinessTravel                   -0.028257           0.007972   \n",
       "DailyRate                         0.042143           0.014515   \n",
       "DistanceFromHome                  0.044872           0.004628   \n",
       "Education                         0.018422           0.148280   \n",
       "EmployeeNumber                    0.062227          -0.014365   \n",
       "EnvironmentSatisfaction           0.003432          -0.002693   \n",
       "HourlyRate                        0.050263          -0.002334   \n",
       "JobInvolvement                    0.021523          -0.005533   \n",
       "JobLevel                          0.013984           0.782208   \n",
       "JobSatisfaction                   0.010690          -0.020185   \n",
       "MaritalStatus                    -0.662577          -0.077886   \n",
       "MonthlyIncome                     0.005408           0.772893   \n",
       "MonthlyRate                      -0.034323           0.026442   \n",
       "NumCompaniesWorked                0.030075           0.237639   \n",
       "OverTime                         -0.000449           0.012754   \n",
       "PercentSalaryHike                 0.007528          -0.020608   \n",
       "PerformanceRating                 0.003506           0.006744   \n",
       "RelationshipSatisfaction         -0.045952           0.024054   \n",
       "StockOptionLevel                  1.000000           0.010136   \n",
       "TotalWorkingYears                 0.010136           1.000000   \n",
       "TrainingTimesLastYear             0.011274          -0.035662   \n",
       "WorkLifeBalance                   0.004129           0.001008   \n",
       "YearsAtCompany                    0.015058           0.628133   \n",
       "YearsInCurrentRole                0.050818           0.460365   \n",
       "YearsSinceLastPromotion           0.014352           0.404858   \n",
       "YearsWithCurrManager              0.024698           0.459188   \n",
       "\n",
       "                          TrainingTimesLastYear  WorkLifeBalance  \\\n",
       "Age                                   -0.019621        -0.021490   \n",
       "Attrition                             -0.059478        -0.063939   \n",
       "BusinessTravel                         0.016357         0.004209   \n",
       "DailyRate                              0.002453        -0.037848   \n",
       "DistanceFromHome                      -0.036942        -0.026556   \n",
       "Education                             -0.025100         0.009819   \n",
       "EmployeeNumber                         0.023603         0.010309   \n",
       "EnvironmentSatisfaction               -0.019359         0.027627   \n",
       "HourlyRate                            -0.008548        -0.004607   \n",
       "JobInvolvement                        -0.015338        -0.014617   \n",
       "JobLevel                              -0.018191         0.037818   \n",
       "JobSatisfaction                       -0.005779        -0.019459   \n",
       "MaritalStatus                          0.010629         0.014708   \n",
       "MonthlyIncome                         -0.021736         0.030683   \n",
       "MonthlyRate                            0.001467         0.007963   \n",
       "NumCompaniesWorked                    -0.066054        -0.008366   \n",
       "OverTime                              -0.079113        -0.027092   \n",
       "PercentSalaryHike                     -0.005221        -0.003280   \n",
       "PerformanceRating                     -0.015579         0.002572   \n",
       "RelationshipSatisfaction               0.002497         0.019604   \n",
       "StockOptionLevel                       0.011274         0.004129   \n",
       "TotalWorkingYears                     -0.035662         0.001008   \n",
       "TrainingTimesLastYear                  1.000000         0.028072   \n",
       "WorkLifeBalance                        0.028072         1.000000   \n",
       "YearsAtCompany                         0.003569         0.012089   \n",
       "YearsInCurrentRole                    -0.005738         0.049856   \n",
       "YearsSinceLastPromotion               -0.002067         0.008941   \n",
       "YearsWithCurrManager                  -0.004096         0.002759   \n",
       "\n",
       "                          YearsAtCompany  YearsInCurrentRole  \\\n",
       "Age                             0.311309            0.212901   \n",
       "Attrition                      -0.134392           -0.160545   \n",
       "BusinessTravel                  0.005212           -0.005336   \n",
       "DailyRate                      -0.034055            0.009932   \n",
       "DistanceFromHome                0.009508            0.018845   \n",
       "Education                       0.069114            0.060236   \n",
       "EmployeeNumber                 -0.011240           -0.008416   \n",
       "EnvironmentSatisfaction         0.001458            0.018007   \n",
       "HourlyRate                     -0.019582           -0.024106   \n",
       "JobInvolvement                 -0.021355            0.008717   \n",
       "JobLevel                        0.534739            0.389447   \n",
       "JobSatisfaction                -0.003803           -0.002305   \n",
       "MaritalStatus                  -0.059986           -0.065822   \n",
       "MonthlyIncome                   0.514285            0.363818   \n",
       "MonthlyRate                    -0.023655           -0.012815   \n",
       "NumCompaniesWorked             -0.118421           -0.090754   \n",
       "OverTime                       -0.011687           -0.029758   \n",
       "PercentSalaryHike              -0.035991           -0.001520   \n",
       "PerformanceRating               0.003435            0.034986   \n",
       "RelationshipSatisfaction        0.019367           -0.015123   \n",
       "StockOptionLevel                0.015058            0.050818   \n",
       "TotalWorkingYears               0.628133            0.460365   \n",
       "TrainingTimesLastYear           0.003569           -0.005738   \n",
       "WorkLifeBalance                 0.012089            0.049856   \n",
       "YearsAtCompany                  1.000000            0.758754   \n",
       "YearsInCurrentRole              0.758754            1.000000   \n",
       "YearsSinceLastPromotion         0.618409            0.548056   \n",
       "YearsWithCurrManager            0.769212            0.714365   \n",
       "\n",
       "                          YearsSinceLastPromotion  YearsWithCurrManager  \n",
       "Age                                      0.216513              0.202089  \n",
       "Attrition                               -0.033019             -0.156199  \n",
       "BusinessTravel                           0.005222             -0.000229  \n",
       "DailyRate                               -0.033229             -0.026363  \n",
       "DistanceFromHome                         0.010029              0.014406  \n",
       "Education                                0.054254              0.069065  \n",
       "EmployeeNumber                          -0.009019             -0.009197  \n",
       "EnvironmentSatisfaction                  0.016194             -0.004999  \n",
       "HourlyRate                              -0.026716             -0.020123  \n",
       "JobInvolvement                          -0.024184              0.025976  \n",
       "JobLevel                                 0.353885              0.375281  \n",
       "JobSatisfaction                         -0.018214             -0.027656  \n",
       "MaritalStatus                           -0.030915             -0.038570  \n",
       "MonthlyIncome                            0.344978              0.344079  \n",
       "MonthlyRate                              0.001567             -0.036746  \n",
       "NumCompaniesWorked                      -0.036814             -0.110319  \n",
       "OverTime                                -0.012239             -0.041586  \n",
       "PercentSalaryHike                       -0.022154             -0.011985  \n",
       "PerformanceRating                        0.017896              0.022827  \n",
       "RelationshipSatisfaction                 0.033493             -0.000867  \n",
       "StockOptionLevel                         0.014352              0.024698  \n",
       "TotalWorkingYears                        0.404858              0.459188  \n",
       "TrainingTimesLastYear                   -0.002067             -0.004096  \n",
       "WorkLifeBalance                          0.008941              0.002759  \n",
       "YearsAtCompany                           0.618409              0.769212  \n",
       "YearsInCurrentRole                       0.548056              0.714365  \n",
       "YearsSinceLastPromotion                  1.000000              0.510224  \n",
       "YearsWithCurrManager                     0.510224              1.000000  \n",
       "\n",
       "[28 rows x 28 columns]"
      ]
     },
     "execution_count": 36,
     "metadata": {},
     "output_type": "execute_result"
    }
   ],
   "source": [
    "pearson_corr"
   ]
  },
  {
   "cell_type": "markdown",
   "id": "5c1353af",
   "metadata": {
    "papermill": {
     "duration": 0.020914,
     "end_time": "2025-07-24T15:55:39.454849",
     "exception": false,
     "start_time": "2025-07-24T15:55:39.433935",
     "status": "completed"
    },
    "tags": []
   },
   "source": [
    "From the above correlation table, we can reject: HourlyRate, DailyRate, MonthlyRate, PercentSalaryHike, PerformanceRating, EmployeeNumber and YearsSinceLastPromotion."
   ]
  },
  {
   "cell_type": "code",
   "execution_count": 37,
   "id": "2373f91a",
   "metadata": {
    "execution": {
     "iopub.execute_input": "2025-07-24T15:55:39.496741Z",
     "iopub.status.busy": "2025-07-24T15:55:39.495813Z",
     "iopub.status.idle": "2025-07-24T15:55:39.504908Z",
     "shell.execute_reply": "2025-07-24T15:55:39.503844Z"
    },
    "papermill": {
     "duration": 0.03208,
     "end_time": "2025-07-24T15:55:39.506503",
     "exception": false,
     "start_time": "2025-07-24T15:55:39.474423",
     "status": "completed"
    },
    "tags": []
   },
   "outputs": [],
   "source": [
    "weakly_corr_col = [\"HourlyRate\", \"DailyRate\", \"MonthlyRate\", \"PercentSalaryHike\", \"PerformanceRating\", \"EmployeeNumber\", \"YearsSinceLastPromotion\"]\n",
    "\n",
    "DF_cleaned_backed = DF_cleaned.copy()\n",
    "DF_cleaned.drop(columns=weakly_corr_col, inplace=True)"
   ]
  },
  {
   "cell_type": "markdown",
   "id": "55f78afa",
   "metadata": {
    "papermill": {
     "duration": 0.019495,
     "end_time": "2025-07-24T15:55:39.546076",
     "exception": false,
     "start_time": "2025-07-24T15:55:39.526581",
     "status": "completed"
    },
    "tags": []
   },
   "source": [
    "## Label Encoding"
   ]
  },
  {
   "cell_type": "code",
   "execution_count": 38,
   "id": "366c80bf",
   "metadata": {
    "execution": {
     "iopub.execute_input": "2025-07-24T15:55:39.587624Z",
     "iopub.status.busy": "2025-07-24T15:55:39.586866Z",
     "iopub.status.idle": "2025-07-24T15:55:39.827136Z",
     "shell.execute_reply": "2025-07-24T15:55:39.826045Z"
    },
    "papermill": {
     "duration": 0.262695,
     "end_time": "2025-07-24T15:55:39.829017",
     "exception": false,
     "start_time": "2025-07-24T15:55:39.566322",
     "status": "completed"
    },
    "tags": []
   },
   "outputs": [],
   "source": [
    "from sklearn.preprocessing import LabelEncoder"
   ]
  },
  {
   "cell_type": "code",
   "execution_count": 39,
   "id": "5b3e4cfb",
   "metadata": {
    "execution": {
     "iopub.execute_input": "2025-07-24T15:55:39.874489Z",
     "iopub.status.busy": "2025-07-24T15:55:39.874016Z",
     "iopub.status.idle": "2025-07-24T15:55:39.879353Z",
     "shell.execute_reply": "2025-07-24T15:55:39.878468Z"
    },
    "papermill": {
     "duration": 0.030726,
     "end_time": "2025-07-24T15:55:39.881588",
     "exception": false,
     "start_time": "2025-07-24T15:55:39.850862",
     "status": "completed"
    },
    "tags": []
   },
   "outputs": [],
   "source": [
    "LE = LabelEncoder()"
   ]
  },
  {
   "cell_type": "code",
   "execution_count": 40,
   "id": "6cb0946a",
   "metadata": {
    "execution": {
     "iopub.execute_input": "2025-07-24T15:55:39.927212Z",
     "iopub.status.busy": "2025-07-24T15:55:39.926866Z",
     "iopub.status.idle": "2025-07-24T15:55:39.936535Z",
     "shell.execute_reply": "2025-07-24T15:55:39.935461Z"
    },
    "papermill": {
     "duration": 0.036802,
     "end_time": "2025-07-24T15:55:39.938686",
     "exception": false,
     "start_time": "2025-07-24T15:55:39.901884",
     "status": "completed"
    },
    "tags": []
   },
   "outputs": [],
   "source": [
    "num_col = DF_cleaned.select_dtypes(exclude='object').columns\n",
    "cat_col = DF_cleaned.select_dtypes(include='object').columns"
   ]
  },
  {
   "cell_type": "code",
   "execution_count": 41,
   "id": "5219c8b2",
   "metadata": {
    "execution": {
     "iopub.execute_input": "2025-07-24T15:55:39.987974Z",
     "iopub.status.busy": "2025-07-24T15:55:39.987611Z",
     "iopub.status.idle": "2025-07-24T15:55:39.997296Z",
     "shell.execute_reply": "2025-07-24T15:55:39.996241Z"
    },
    "papermill": {
     "duration": 0.03651,
     "end_time": "2025-07-24T15:55:39.998922",
     "exception": false,
     "start_time": "2025-07-24T15:55:39.962412",
     "status": "completed"
    },
    "tags": []
   },
   "outputs": [],
   "source": [
    "for col in cat_col:\n",
    "    DF_cleaned[col] = LE.fit_transform(DF_cleaned[col])"
   ]
  },
  {
   "cell_type": "markdown",
   "id": "ac36e50d",
   "metadata": {
    "papermill": {
     "duration": 0.021643,
     "end_time": "2025-07-24T15:55:40.042459",
     "exception": false,
     "start_time": "2025-07-24T15:55:40.020816",
     "status": "completed"
    },
    "tags": []
   },
   "source": [
    "## Data Split"
   ]
  },
  {
   "cell_type": "code",
   "execution_count": 42,
   "id": "6caf85f7",
   "metadata": {
    "execution": {
     "iopub.execute_input": "2025-07-24T15:55:40.087019Z",
     "iopub.status.busy": "2025-07-24T15:55:40.086629Z",
     "iopub.status.idle": "2025-07-24T15:55:40.248251Z",
     "shell.execute_reply": "2025-07-24T15:55:40.247005Z"
    },
    "papermill": {
     "duration": 0.186003,
     "end_time": "2025-07-24T15:55:40.250027",
     "exception": false,
     "start_time": "2025-07-24T15:55:40.064024",
     "status": "completed"
    },
    "tags": []
   },
   "outputs": [],
   "source": [
    "from sklearn.model_selection import train_test_split"
   ]
  },
  {
   "cell_type": "code",
   "execution_count": 43,
   "id": "a47d2f80",
   "metadata": {
    "execution": {
     "iopub.execute_input": "2025-07-24T15:55:40.292200Z",
     "iopub.status.busy": "2025-07-24T15:55:40.290936Z",
     "iopub.status.idle": "2025-07-24T15:55:40.299600Z",
     "shell.execute_reply": "2025-07-24T15:55:40.298213Z"
    },
    "papermill": {
     "duration": 0.030985,
     "end_time": "2025-07-24T15:55:40.301540",
     "exception": false,
     "start_time": "2025-07-24T15:55:40.270555",
     "status": "completed"
    },
    "tags": []
   },
   "outputs": [],
   "source": [
    "DF_train, DF_test = train_test_split(DF_cleaned, test_size=0.25, train_size=None, random_state=None, shuffle=True, stratify=None)"
   ]
  },
  {
   "cell_type": "markdown",
   "id": "1f28c494",
   "metadata": {
    "papermill": {
     "duration": 0.019622,
     "end_time": "2025-07-24T15:55:40.340663",
     "exception": false,
     "start_time": "2025-07-24T15:55:40.321041",
     "status": "completed"
    },
    "tags": []
   },
   "source": [
    "## Upsample"
   ]
  },
  {
   "cell_type": "code",
   "execution_count": 44,
   "id": "c8aff2f7",
   "metadata": {
    "execution": {
     "iopub.execute_input": "2025-07-24T15:55:40.381518Z",
     "iopub.status.busy": "2025-07-24T15:55:40.381175Z",
     "iopub.status.idle": "2025-07-24T15:55:40.386106Z",
     "shell.execute_reply": "2025-07-24T15:55:40.385059Z"
    },
    "papermill": {
     "duration": 0.027169,
     "end_time": "2025-07-24T15:55:40.387822",
     "exception": false,
     "start_time": "2025-07-24T15:55:40.360653",
     "status": "completed"
    },
    "tags": []
   },
   "outputs": [],
   "source": [
    "from sklearn.utils import resample"
   ]
  },
  {
   "cell_type": "code",
   "execution_count": 45,
   "id": "3ac079f4",
   "metadata": {
    "execution": {
     "iopub.execute_input": "2025-07-24T15:55:40.429650Z",
     "iopub.status.busy": "2025-07-24T15:55:40.429343Z",
     "iopub.status.idle": "2025-07-24T15:55:40.436373Z",
     "shell.execute_reply": "2025-07-24T15:55:40.435461Z"
    },
    "papermill": {
     "duration": 0.029855,
     "end_time": "2025-07-24T15:55:40.438180",
     "exception": false,
     "start_time": "2025-07-24T15:55:40.408325",
     "status": "completed"
    },
    "tags": []
   },
   "outputs": [],
   "source": [
    "DF_train_minority = DF_train[DF_train['Attrition']==1]\n",
    "DF_train_majority = DF_train[DF_train['Attrition']==0]"
   ]
  },
  {
   "cell_type": "code",
   "execution_count": 46,
   "id": "a03478e5",
   "metadata": {
    "execution": {
     "iopub.execute_input": "2025-07-24T15:55:40.478619Z",
     "iopub.status.busy": "2025-07-24T15:55:40.478309Z",
     "iopub.status.idle": "2025-07-24T15:55:40.485923Z",
     "shell.execute_reply": "2025-07-24T15:55:40.484804Z"
    },
    "papermill": {
     "duration": 0.029923,
     "end_time": "2025-07-24T15:55:40.487853",
     "exception": false,
     "start_time": "2025-07-24T15:55:40.457930",
     "status": "completed"
    },
    "tags": []
   },
   "outputs": [],
   "source": [
    "resampled_DF_train_minority = resample(DF_train_minority, replace=True, n_samples=len(DF_train_majority), random_state=42)"
   ]
  },
  {
   "cell_type": "code",
   "execution_count": 47,
   "id": "dc2b81b3",
   "metadata": {
    "execution": {
     "iopub.execute_input": "2025-07-24T15:55:40.531913Z",
     "iopub.status.busy": "2025-07-24T15:55:40.531577Z",
     "iopub.status.idle": "2025-07-24T15:55:40.536383Z",
     "shell.execute_reply": "2025-07-24T15:55:40.535178Z"
    },
    "papermill": {
     "duration": 0.028723,
     "end_time": "2025-07-24T15:55:40.538426",
     "exception": false,
     "start_time": "2025-07-24T15:55:40.509703",
     "status": "completed"
    },
    "tags": []
   },
   "outputs": [],
   "source": [
    "from sklearn.utils import shuffle"
   ]
  },
  {
   "cell_type": "code",
   "execution_count": 48,
   "id": "2871a647",
   "metadata": {
    "execution": {
     "iopub.execute_input": "2025-07-24T15:55:40.583512Z",
     "iopub.status.busy": "2025-07-24T15:55:40.583169Z",
     "iopub.status.idle": "2025-07-24T15:55:40.594144Z",
     "shell.execute_reply": "2025-07-24T15:55:40.592348Z"
    },
    "papermill": {
     "duration": 0.036742,
     "end_time": "2025-07-24T15:55:40.596082",
     "exception": false,
     "start_time": "2025-07-24T15:55:40.559340",
     "status": "completed"
    },
    "tags": []
   },
   "outputs": [],
   "source": [
    "resampled_DF_train = pd.concat([resampled_DF_train_minority, DF_train_majority])\n",
    "resampled_DF_train = resampled_DF_train.sample(frac=1, random_state=42)"
   ]
  },
  {
   "cell_type": "code",
   "execution_count": 49,
   "id": "fd201890",
   "metadata": {
    "execution": {
     "iopub.execute_input": "2025-07-24T15:55:40.638967Z",
     "iopub.status.busy": "2025-07-24T15:55:40.638064Z",
     "iopub.status.idle": "2025-07-24T15:55:40.646556Z",
     "shell.execute_reply": "2025-07-24T15:55:40.645497Z"
    },
    "papermill": {
     "duration": 0.031854,
     "end_time": "2025-07-24T15:55:40.648315",
     "exception": false,
     "start_time": "2025-07-24T15:55:40.616461",
     "status": "completed"
    },
    "tags": []
   },
   "outputs": [],
   "source": [
    "X_train, y_train = resampled_DF_train.drop(\"Attrition\", axis=1, inplace=False), resampled_DF_train[\"Attrition\"]\n",
    "X_test, y_test = DF_test.drop(\"Attrition\", axis=1, inplace=False), DF_test[\"Attrition\"]"
   ]
  },
  {
   "cell_type": "markdown",
   "id": "59a287ab",
   "metadata": {
    "papermill": {
     "duration": 0.021079,
     "end_time": "2025-07-24T15:55:40.690346",
     "exception": false,
     "start_time": "2025-07-24T15:55:40.669267",
     "status": "completed"
    },
    "tags": []
   },
   "source": [
    "# Model Training"
   ]
  },
  {
   "cell_type": "code",
   "execution_count": 50,
   "id": "9f89f0b0",
   "metadata": {
    "execution": {
     "iopub.execute_input": "2025-07-24T15:55:40.732303Z",
     "iopub.status.busy": "2025-07-24T15:55:40.731659Z",
     "iopub.status.idle": "2025-07-24T15:55:41.263667Z",
     "shell.execute_reply": "2025-07-24T15:55:41.262041Z"
    },
    "papermill": {
     "duration": 0.555142,
     "end_time": "2025-07-24T15:55:41.265606",
     "exception": false,
     "start_time": "2025-07-24T15:55:40.710464",
     "status": "completed"
    },
    "tags": []
   },
   "outputs": [],
   "source": [
    "import optuna\n",
    "from sklearn.model_selection import StratifiedKFold\n",
    "from sklearn.metrics import roc_auc_score, classification_report\n",
    "from sklearn.linear_model import LogisticRegression\n",
    "import pandas as pd\n",
    "from sklearn.preprocessing import StandardScaler"
   ]
  },
  {
   "cell_type": "code",
   "execution_count": 51,
   "id": "4a10878a",
   "metadata": {
    "execution": {
     "iopub.execute_input": "2025-07-24T15:55:41.310303Z",
     "iopub.status.busy": "2025-07-24T15:55:41.309931Z",
     "iopub.status.idle": "2025-07-24T15:55:41.337879Z",
     "shell.execute_reply": "2025-07-24T15:55:41.337030Z"
    },
    "papermill": {
     "duration": 0.050764,
     "end_time": "2025-07-24T15:55:41.339795",
     "exception": false,
     "start_time": "2025-07-24T15:55:41.289031",
     "status": "completed"
    },
    "tags": []
   },
   "outputs": [],
   "source": [
    "scaler = StandardScaler()\n",
    "X_train_scaled = scaler.fit_transform(X_train)\n",
    "X_test_scaled = scaler.transform(X_test)\n",
    "\n",
    "if not isinstance(X_train_scaled, pd.DataFrame):\n",
    "    X_train_scaled = pd.DataFrame(X_train_scaled, columns=X_train.columns)\n",
    "if not isinstance(y_train, pd.Series):\n",
    "    y_train = pd.Series(y_train)\n",
    "\n",
    "if not isinstance(X_test_scaled, pd.DataFrame):\n",
    "    X_test_scaled = pd.DataFrame(X_test_scaled, columns=X_test.columns)\n",
    "if not isinstance(y_test, pd.Series):\n",
    "    y_test = pd.Series(y_test)\n",
    "\n",
    "KF = StratifiedKFold(n_splits=5, shuffle=True, random_state=42)"
   ]
  },
  {
   "cell_type": "code",
   "execution_count": 52,
   "id": "07e7f003",
   "metadata": {
    "execution": {
     "iopub.execute_input": "2025-07-24T15:55:41.382385Z",
     "iopub.status.busy": "2025-07-24T15:55:41.382046Z",
     "iopub.status.idle": "2025-07-24T15:55:41.392313Z",
     "shell.execute_reply": "2025-07-24T15:55:41.390849Z"
    },
    "papermill": {
     "duration": 0.033279,
     "end_time": "2025-07-24T15:55:41.394049",
     "exception": false,
     "start_time": "2025-07-24T15:55:41.360770",
     "status": "completed"
    },
    "tags": []
   },
   "outputs": [],
   "source": [
    "def objective(trial):\n",
    "    C = trial.suggest_float('C', 1e-5, 1e2, log=True)\n",
    "    solver = trial.suggest_categorical('solver', ['liblinear', 'lbfgs', 'saga'])\n",
    "    penalty = trial.suggest_categorical('penalty', ['l1', 'l2'])\n",
    "\n",
    "    if solver == 'lbfgs' and penalty == 'l1':\n",
    "        raise optuna.exceptions.TrialPruned(\"LBFGS does not support L1 penalty.\")\n",
    "    if solver == 'saga' and penalty == 'elasticnet':\n",
    "        l1_ratio = trial.suggest_float('l1_ratio', 0.0, 1.0)\n",
    "    else:\n",
    "        l1_ratio = None\n",
    "\n",
    "    class_weight = trial.suggest_categorical('class_weight', [None, 'balanced'])\n",
    "\n",
    "    classifier = LogisticRegression(\n",
    "        C=C,\n",
    "        solver=solver,\n",
    "        penalty=penalty,\n",
    "        class_weight=class_weight,\n",
    "        l1_ratio=l1_ratio,\n",
    "        random_state=42,\n",
    "        max_iter=1000,\n",
    "        n_jobs=-1\n",
    "    )\n",
    "\n",
    "    roc_auc_scores = []\n",
    "    for fold, (train_index_inner, val_index_inner) in enumerate(KF.split(X_train_scaled, y_train)):\n",
    "        X_train_fold, X_val_fold = X_train_scaled.iloc[train_index_inner], X_train_scaled.iloc[val_index_inner]\n",
    "        y_train_fold, y_val_fold = y_train.iloc[train_index_inner], y_train.iloc[val_index_inner]\n",
    "\n",
    "        classifier.fit(X_train_fold, y_train_fold)\n",
    "        y_pred_proba_fold = classifier.predict_proba(X_val_fold)[:, 1]\n",
    "        roc_auc_fold = roc_auc_score(y_val_fold, y_pred_proba_fold)\n",
    "        roc_auc_scores.append(roc_auc_fold)\n",
    "\n",
    "    return sum(roc_auc_scores) / len(roc_auc_scores)"
   ]
  },
  {
   "cell_type": "code",
   "execution_count": 53,
   "id": "52baf087",
   "metadata": {
    "execution": {
     "iopub.execute_input": "2025-07-24T15:55:41.434819Z",
     "iopub.status.busy": "2025-07-24T15:55:41.434527Z",
     "iopub.status.idle": "2025-07-24T15:55:48.991842Z",
     "shell.execute_reply": "2025-07-24T15:55:48.990668Z"
    },
    "papermill": {
     "duration": 7.580519,
     "end_time": "2025-07-24T15:55:48.994090",
     "exception": false,
     "start_time": "2025-07-24T15:55:41.413571",
     "status": "completed"
    },
    "tags": []
   },
   "outputs": [
    {
     "name": "stderr",
     "output_type": "stream",
     "text": [
      "[I 2025-07-24 15:55:41,437] A new study created in memory with name: no-name-851909fb-8e77-4c37-adba-e8ec3b8314e1\n",
      "[I 2025-07-24 15:55:41,441] Trial 0 pruned. LBFGS does not support L1 penalty.\n",
      "[I 2025-07-24 15:55:41,576] Trial 1 finished with value: 0.5 and parameters: {'C': 1.3177192321871168e-05, 'solver': 'saga', 'penalty': 'l1', 'class_weight': None}. Best is trial 1 with value: 0.5.\n",
      "[I 2025-07-24 15:55:41,578] Trial 2 pruned. LBFGS does not support L1 penalty.\n"
     ]
    },
    {
     "name": "stdout",
     "output_type": "stream",
     "text": [
      "Starting Logistic Regression hyperparameter optimization with Optuna and K-Fold Cross-Validation on X_train_scaled...\n"
     ]
    },
    {
     "name": "stderr",
     "output_type": "stream",
     "text": [
      "[I 2025-07-24 15:55:44,695] Trial 3 finished with value: 0.8391721586310557 and parameters: {'C': 0.017434965599062345, 'solver': 'lbfgs', 'penalty': 'l2', 'class_weight': None}. Best is trial 3 with value: 0.8391721586310557.\n",
      "[I 2025-07-24 15:55:44,809] Trial 4 finished with value: 0.840831309978032 and parameters: {'C': 0.13490498227742506, 'solver': 'lbfgs', 'penalty': 'l2', 'class_weight': None}. Best is trial 4 with value: 0.840831309978032.\n",
      "/usr/local/lib/python3.11/dist-packages/sklearn/linear_model/_logistic.py:1211: UserWarning: 'n_jobs' > 1 does not have any effect when 'solver' is set to 'liblinear'. Got 'n_jobs' = 4.\n",
      "  warnings.warn(\n",
      "/usr/local/lib/python3.11/dist-packages/sklearn/linear_model/_logistic.py:1211: UserWarning: 'n_jobs' > 1 does not have any effect when 'solver' is set to 'liblinear'. Got 'n_jobs' = 4.\n",
      "  warnings.warn(\n",
      "/usr/local/lib/python3.11/dist-packages/sklearn/linear_model/_logistic.py:1211: UserWarning: 'n_jobs' > 1 does not have any effect when 'solver' is set to 'liblinear'. Got 'n_jobs' = 4.\n",
      "  warnings.warn(\n",
      "/usr/local/lib/python3.11/dist-packages/sklearn/linear_model/_logistic.py:1211: UserWarning: 'n_jobs' > 1 does not have any effect when 'solver' is set to 'liblinear'. Got 'n_jobs' = 4.\n",
      "  warnings.warn(\n",
      "/usr/local/lib/python3.11/dist-packages/sklearn/linear_model/_logistic.py:1211: UserWarning: 'n_jobs' > 1 does not have any effect when 'solver' is set to 'liblinear'. Got 'n_jobs' = 4.\n",
      "  warnings.warn(\n",
      "[I 2025-07-24 15:55:44,874] Trial 5 finished with value: 0.8393976182217597 and parameters: {'C': 0.019121752401404464, 'solver': 'liblinear', 'penalty': 'l2', 'class_weight': None}. Best is trial 4 with value: 0.840831309978032.\n",
      "[I 2025-07-24 15:55:44,876] Trial 6 pruned. LBFGS does not support L1 penalty.\n",
      "[I 2025-07-24 15:55:44,970] Trial 7 finished with value: 0.8298878483061625 and parameters: {'C': 0.001887961222551561, 'solver': 'lbfgs', 'penalty': 'l2', 'class_weight': 'balanced'}. Best is trial 4 with value: 0.840831309978032.\n",
      "[I 2025-07-24 15:55:45,157] Trial 8 finished with value: 0.8405596022661579 and parameters: {'C': 2.2569924681775584, 'solver': 'saga', 'penalty': 'l1', 'class_weight': None}. Best is trial 4 with value: 0.840831309978032.\n",
      "[I 2025-07-24 15:55:45,298] Trial 9 finished with value: 0.7948202104289513 and parameters: {'C': 1.7578052223168247e-05, 'solver': 'saga', 'penalty': 'l2', 'class_weight': None}. Best is trial 4 with value: 0.840831309978032.\n",
      "/usr/local/lib/python3.11/dist-packages/sklearn/linear_model/_logistic.py:1211: UserWarning: 'n_jobs' > 1 does not have any effect when 'solver' is set to 'liblinear'. Got 'n_jobs' = 4.\n",
      "  warnings.warn(\n",
      "/usr/local/lib/python3.11/dist-packages/sklearn/linear_model/_logistic.py:1211: UserWarning: 'n_jobs' > 1 does not have any effect when 'solver' is set to 'liblinear'. Got 'n_jobs' = 4.\n",
      "  warnings.warn(\n",
      "/usr/local/lib/python3.11/dist-packages/sklearn/linear_model/_logistic.py:1211: UserWarning: 'n_jobs' > 1 does not have any effect when 'solver' is set to 'liblinear'. Got 'n_jobs' = 4.\n",
      "  warnings.warn(\n",
      "/usr/local/lib/python3.11/dist-packages/sklearn/linear_model/_logistic.py:1211: UserWarning: 'n_jobs' > 1 does not have any effect when 'solver' is set to 'liblinear'. Got 'n_jobs' = 4.\n",
      "  warnings.warn(\n",
      "/usr/local/lib/python3.11/dist-packages/sklearn/linear_model/_logistic.py:1211: UserWarning: 'n_jobs' > 1 does not have any effect when 'solver' is set to 'liblinear'. Got 'n_jobs' = 4.\n",
      "  warnings.warn(\n",
      "[I 2025-07-24 15:55:45,374] Trial 10 finished with value: 0.8404902300844028 and parameters: {'C': 1.0499903559524868, 'solver': 'liblinear', 'penalty': 'l2', 'class_weight': 'balanced'}. Best is trial 4 with value: 0.840831309978032.\n",
      "[I 2025-07-24 15:55:45,551] Trial 11 finished with value: 0.8404613250086715 and parameters: {'C': 1.3104782699953792, 'solver': 'saga', 'penalty': 'l1', 'class_weight': None}. Best is trial 4 with value: 0.840831309978032.\n",
      "[I 2025-07-24 15:55:45,714] Trial 12 finished with value: 0.8405017921146953 and parameters: {'C': 0.6912141119493056, 'solver': 'saga', 'penalty': 'l1', 'class_weight': None}. Best is trial 4 with value: 0.840831309978032.\n",
      "[I 2025-07-24 15:55:45,877] Trial 13 finished with value: 0.8402763325239914 and parameters: {'C': 31.996962326739457, 'solver': 'saga', 'penalty': 'l2', 'class_weight': None}. Best is trial 4 with value: 0.840831309978032.\n",
      "/usr/local/lib/python3.11/dist-packages/sklearn/linear_model/_logistic.py:1211: UserWarning: 'n_jobs' > 1 does not have any effect when 'solver' is set to 'liblinear'. Got 'n_jobs' = 4.\n",
      "  warnings.warn(\n",
      "/usr/local/lib/python3.11/dist-packages/sklearn/linear_model/_logistic.py:1211: UserWarning: 'n_jobs' > 1 does not have any effect when 'solver' is set to 'liblinear'. Got 'n_jobs' = 4.\n",
      "  warnings.warn(\n",
      "/usr/local/lib/python3.11/dist-packages/sklearn/linear_model/_logistic.py:1211: UserWarning: 'n_jobs' > 1 does not have any effect when 'solver' is set to 'liblinear'. Got 'n_jobs' = 4.\n",
      "  warnings.warn(\n",
      "/usr/local/lib/python3.11/dist-packages/sklearn/linear_model/_logistic.py:1211: UserWarning: 'n_jobs' > 1 does not have any effect when 'solver' is set to 'liblinear'. Got 'n_jobs' = 4.\n",
      "  warnings.warn(\n",
      "/usr/local/lib/python3.11/dist-packages/sklearn/linear_model/_logistic.py:1211: UserWarning: 'n_jobs' > 1 does not have any effect when 'solver' is set to 'liblinear'. Got 'n_jobs' = 4.\n",
      "  warnings.warn(\n",
      "[I 2025-07-24 15:55:45,951] Trial 14 finished with value: 0.8406116314024743 and parameters: {'C': 0.20438148668677453, 'solver': 'liblinear', 'penalty': 'l2', 'class_weight': 'balanced'}. Best is trial 4 with value: 0.840831309978032.\n",
      "/usr/local/lib/python3.11/dist-packages/sklearn/linear_model/_logistic.py:1211: UserWarning: 'n_jobs' > 1 does not have any effect when 'solver' is set to 'liblinear'. Got 'n_jobs' = 4.\n",
      "  warnings.warn(\n",
      "/usr/local/lib/python3.11/dist-packages/sklearn/linear_model/_logistic.py:1211: UserWarning: 'n_jobs' > 1 does not have any effect when 'solver' is set to 'liblinear'. Got 'n_jobs' = 4.\n",
      "  warnings.warn(\n",
      "/usr/local/lib/python3.11/dist-packages/sklearn/linear_model/_logistic.py:1211: UserWarning: 'n_jobs' > 1 does not have any effect when 'solver' is set to 'liblinear'. Got 'n_jobs' = 4.\n",
      "  warnings.warn(\n",
      "/usr/local/lib/python3.11/dist-packages/sklearn/linear_model/_logistic.py:1211: UserWarning: 'n_jobs' > 1 does not have any effect when 'solver' is set to 'liblinear'. Got 'n_jobs' = 4.\n",
      "  warnings.warn(\n",
      "/usr/local/lib/python3.11/dist-packages/sklearn/linear_model/_logistic.py:1211: UserWarning: 'n_jobs' > 1 does not have any effect when 'solver' is set to 'liblinear'. Got 'n_jobs' = 4.\n",
      "  warnings.warn(\n",
      "[I 2025-07-24 15:55:46,018] Trial 15 finished with value: 0.8407041276448144 and parameters: {'C': 0.18363584182188603, 'solver': 'liblinear', 'penalty': 'l2', 'class_weight': 'balanced'}. Best is trial 4 with value: 0.840831309978032.\n",
      "/usr/local/lib/python3.11/dist-packages/sklearn/linear_model/_logistic.py:1211: UserWarning: 'n_jobs' > 1 does not have any effect when 'solver' is set to 'liblinear'. Got 'n_jobs' = 4.\n",
      "  warnings.warn(\n",
      "/usr/local/lib/python3.11/dist-packages/sklearn/linear_model/_logistic.py:1211: UserWarning: 'n_jobs' > 1 does not have any effect when 'solver' is set to 'liblinear'. Got 'n_jobs' = 4.\n",
      "  warnings.warn(\n",
      "/usr/local/lib/python3.11/dist-packages/sklearn/linear_model/_logistic.py:1211: UserWarning: 'n_jobs' > 1 does not have any effect when 'solver' is set to 'liblinear'. Got 'n_jobs' = 4.\n",
      "  warnings.warn(\n",
      "/usr/local/lib/python3.11/dist-packages/sklearn/linear_model/_logistic.py:1211: UserWarning: 'n_jobs' > 1 does not have any effect when 'solver' is set to 'liblinear'. Got 'n_jobs' = 4.\n",
      "  warnings.warn(\n",
      "/usr/local/lib/python3.11/dist-packages/sklearn/linear_model/_logistic.py:1211: UserWarning: 'n_jobs' > 1 does not have any effect when 'solver' is set to 'liblinear'. Got 'n_jobs' = 4.\n",
      "  warnings.warn(\n",
      "[I 2025-07-24 15:55:46,094] Trial 16 finished with value: 0.8409122441900798 and parameters: {'C': 0.09631300490146692, 'solver': 'liblinear', 'penalty': 'l2', 'class_weight': 'balanced'}. Best is trial 16 with value: 0.8409122441900798.\n",
      "/usr/local/lib/python3.11/dist-packages/sklearn/linear_model/_logistic.py:1211: UserWarning: 'n_jobs' > 1 does not have any effect when 'solver' is set to 'liblinear'. Got 'n_jobs' = 4.\n",
      "  warnings.warn(\n",
      "/usr/local/lib/python3.11/dist-packages/sklearn/linear_model/_logistic.py:1211: UserWarning: 'n_jobs' > 1 does not have any effect when 'solver' is set to 'liblinear'. Got 'n_jobs' = 4.\n",
      "  warnings.warn(\n",
      "/usr/local/lib/python3.11/dist-packages/sklearn/linear_model/_logistic.py:1211: UserWarning: 'n_jobs' > 1 does not have any effect when 'solver' is set to 'liblinear'. Got 'n_jobs' = 4.\n",
      "  warnings.warn(\n",
      "/usr/local/lib/python3.11/dist-packages/sklearn/linear_model/_logistic.py:1211: UserWarning: 'n_jobs' > 1 does not have any effect when 'solver' is set to 'liblinear'. Got 'n_jobs' = 4.\n",
      "  warnings.warn(\n",
      "/usr/local/lib/python3.11/dist-packages/sklearn/linear_model/_logistic.py:1211: UserWarning: 'n_jobs' > 1 does not have any effect when 'solver' is set to 'liblinear'. Got 'n_jobs' = 4.\n",
      "  warnings.warn(\n",
      "[I 2025-07-24 15:55:46,177] Trial 17 finished with value: 0.8361371256792693 and parameters: {'C': 0.004207204762042063, 'solver': 'liblinear', 'penalty': 'l2', 'class_weight': 'balanced'}. Best is trial 16 with value: 0.8409122441900798.\n",
      "/usr/local/lib/python3.11/dist-packages/sklearn/linear_model/_logistic.py:1211: UserWarning: 'n_jobs' > 1 does not have any effect when 'solver' is set to 'liblinear'. Got 'n_jobs' = 4.\n",
      "  warnings.warn(\n",
      "/usr/local/lib/python3.11/dist-packages/sklearn/linear_model/_logistic.py:1211: UserWarning: 'n_jobs' > 1 does not have any effect when 'solver' is set to 'liblinear'. Got 'n_jobs' = 4.\n",
      "  warnings.warn(\n",
      "/usr/local/lib/python3.11/dist-packages/sklearn/linear_model/_logistic.py:1211: UserWarning: 'n_jobs' > 1 does not have any effect when 'solver' is set to 'liblinear'. Got 'n_jobs' = 4.\n",
      "  warnings.warn(\n",
      "/usr/local/lib/python3.11/dist-packages/sklearn/linear_model/_logistic.py:1211: UserWarning: 'n_jobs' > 1 does not have any effect when 'solver' is set to 'liblinear'. Got 'n_jobs' = 4.\n",
      "  warnings.warn(\n",
      "/usr/local/lib/python3.11/dist-packages/sklearn/linear_model/_logistic.py:1211: UserWarning: 'n_jobs' > 1 does not have any effect when 'solver' is set to 'liblinear'. Got 'n_jobs' = 4.\n",
      "  warnings.warn(\n",
      "[I 2025-07-24 15:55:46,258] Trial 18 finished with value: 0.8406578795236443 and parameters: {'C': 0.07956673359948474, 'solver': 'liblinear', 'penalty': 'l2', 'class_weight': 'balanced'}. Best is trial 16 with value: 0.8409122441900798.\n",
      "[I 2025-07-24 15:55:46,423] Trial 19 finished with value: 0.8403572667360388 and parameters: {'C': 5.801207093826982, 'solver': 'lbfgs', 'penalty': 'l2', 'class_weight': 'balanced'}. Best is trial 16 with value: 0.8409122441900798.\n",
      "/usr/local/lib/python3.11/dist-packages/sklearn/linear_model/_logistic.py:1211: UserWarning: 'n_jobs' > 1 does not have any effect when 'solver' is set to 'liblinear'. Got 'n_jobs' = 4.\n",
      "  warnings.warn(\n",
      "/usr/local/lib/python3.11/dist-packages/sklearn/linear_model/_logistic.py:1211: UserWarning: 'n_jobs' > 1 does not have any effect when 'solver' is set to 'liblinear'. Got 'n_jobs' = 4.\n",
      "  warnings.warn(\n",
      "/usr/local/lib/python3.11/dist-packages/sklearn/linear_model/_logistic.py:1211: UserWarning: 'n_jobs' > 1 does not have any effect when 'solver' is set to 'liblinear'. Got 'n_jobs' = 4.\n",
      "  warnings.warn(\n",
      "/usr/local/lib/python3.11/dist-packages/sklearn/linear_model/_logistic.py:1211: UserWarning: 'n_jobs' > 1 does not have any effect when 'solver' is set to 'liblinear'. Got 'n_jobs' = 4.\n",
      "  warnings.warn(\n",
      "/usr/local/lib/python3.11/dist-packages/sklearn/linear_model/_logistic.py:1211: UserWarning: 'n_jobs' > 1 does not have any effect when 'solver' is set to 'liblinear'. Got 'n_jobs' = 4.\n",
      "  warnings.warn(\n",
      "[I 2025-07-24 15:55:46,481] Trial 20 finished with value: 0.8048329286622732 and parameters: {'C': 0.00021344959698444007, 'solver': 'liblinear', 'penalty': 'l2', 'class_weight': 'balanced'}. Best is trial 16 with value: 0.8409122441900798.\n",
      "/usr/local/lib/python3.11/dist-packages/sklearn/linear_model/_logistic.py:1211: UserWarning: 'n_jobs' > 1 does not have any effect when 'solver' is set to 'liblinear'. Got 'n_jobs' = 4.\n",
      "  warnings.warn(\n",
      "/usr/local/lib/python3.11/dist-packages/sklearn/linear_model/_logistic.py:1211: UserWarning: 'n_jobs' > 1 does not have any effect when 'solver' is set to 'liblinear'. Got 'n_jobs' = 4.\n",
      "  warnings.warn(\n",
      "/usr/local/lib/python3.11/dist-packages/sklearn/linear_model/_logistic.py:1211: UserWarning: 'n_jobs' > 1 does not have any effect when 'solver' is set to 'liblinear'. Got 'n_jobs' = 4.\n",
      "  warnings.warn(\n",
      "/usr/local/lib/python3.11/dist-packages/sklearn/linear_model/_logistic.py:1211: UserWarning: 'n_jobs' > 1 does not have any effect when 'solver' is set to 'liblinear'. Got 'n_jobs' = 4.\n",
      "  warnings.warn(\n",
      "/usr/local/lib/python3.11/dist-packages/sklearn/linear_model/_logistic.py:1211: UserWarning: 'n_jobs' > 1 does not have any effect when 'solver' is set to 'liblinear'. Got 'n_jobs' = 4.\n",
      "  warnings.warn(\n",
      "[I 2025-07-24 15:55:46,558] Trial 21 finished with value: 0.8406810035842295 and parameters: {'C': 0.17188555246771584, 'solver': 'liblinear', 'penalty': 'l2', 'class_weight': 'balanced'}. Best is trial 16 with value: 0.8409122441900798.\n",
      "/usr/local/lib/python3.11/dist-packages/sklearn/linear_model/_logistic.py:1211: UserWarning: 'n_jobs' > 1 does not have any effect when 'solver' is set to 'liblinear'. Got 'n_jobs' = 4.\n",
      "  warnings.warn(\n",
      "/usr/local/lib/python3.11/dist-packages/sklearn/linear_model/_logistic.py:1211: UserWarning: 'n_jobs' > 1 does not have any effect when 'solver' is set to 'liblinear'. Got 'n_jobs' = 4.\n",
      "  warnings.warn(\n",
      "/usr/local/lib/python3.11/dist-packages/sklearn/linear_model/_logistic.py:1211: UserWarning: 'n_jobs' > 1 does not have any effect when 'solver' is set to 'liblinear'. Got 'n_jobs' = 4.\n",
      "  warnings.warn(\n",
      "/usr/local/lib/python3.11/dist-packages/sklearn/linear_model/_logistic.py:1211: UserWarning: 'n_jobs' > 1 does not have any effect when 'solver' is set to 'liblinear'. Got 'n_jobs' = 4.\n",
      "  warnings.warn(\n",
      "/usr/local/lib/python3.11/dist-packages/sklearn/linear_model/_logistic.py:1211: UserWarning: 'n_jobs' > 1 does not have any effect when 'solver' is set to 'liblinear'. Got 'n_jobs' = 4.\n",
      "  warnings.warn(\n",
      "[I 2025-07-24 15:55:46,634] Trial 22 finished with value: 0.8401607122210661 and parameters: {'C': 0.04680739553231953, 'solver': 'liblinear', 'penalty': 'l2', 'class_weight': 'balanced'}. Best is trial 16 with value: 0.8409122441900798.\n",
      "/usr/local/lib/python3.11/dist-packages/sklearn/linear_model/_logistic.py:1211: UserWarning: 'n_jobs' > 1 does not have any effect when 'solver' is set to 'liblinear'. Got 'n_jobs' = 4.\n",
      "  warnings.warn(\n",
      "/usr/local/lib/python3.11/dist-packages/sklearn/linear_model/_logistic.py:1211: UserWarning: 'n_jobs' > 1 does not have any effect when 'solver' is set to 'liblinear'. Got 'n_jobs' = 4.\n",
      "  warnings.warn(\n",
      "/usr/local/lib/python3.11/dist-packages/sklearn/linear_model/_logistic.py:1211: UserWarning: 'n_jobs' > 1 does not have any effect when 'solver' is set to 'liblinear'. Got 'n_jobs' = 4.\n",
      "  warnings.warn(\n",
      "/usr/local/lib/python3.11/dist-packages/sklearn/linear_model/_logistic.py:1211: UserWarning: 'n_jobs' > 1 does not have any effect when 'solver' is set to 'liblinear'. Got 'n_jobs' = 4.\n",
      "  warnings.warn(\n",
      "/usr/local/lib/python3.11/dist-packages/sklearn/linear_model/_logistic.py:1211: UserWarning: 'n_jobs' > 1 does not have any effect when 'solver' is set to 'liblinear'. Got 'n_jobs' = 4.\n",
      "  warnings.warn(\n",
      "[I 2025-07-24 15:55:46,697] Trial 23 finished with value: 0.8377442478899294 and parameters: {'C': 0.00777252776282107, 'solver': 'liblinear', 'penalty': 'l2', 'class_weight': 'balanced'}. Best is trial 16 with value: 0.8409122441900798.\n",
      "/usr/local/lib/python3.11/dist-packages/sklearn/linear_model/_logistic.py:1211: UserWarning: 'n_jobs' > 1 does not have any effect when 'solver' is set to 'liblinear'. Got 'n_jobs' = 4.\n",
      "  warnings.warn(\n",
      "/usr/local/lib/python3.11/dist-packages/sklearn/linear_model/_logistic.py:1211: UserWarning: 'n_jobs' > 1 does not have any effect when 'solver' is set to 'liblinear'. Got 'n_jobs' = 4.\n",
      "  warnings.warn(\n",
      "/usr/local/lib/python3.11/dist-packages/sklearn/linear_model/_logistic.py:1211: UserWarning: 'n_jobs' > 1 does not have any effect when 'solver' is set to 'liblinear'. Got 'n_jobs' = 4.\n",
      "  warnings.warn(\n",
      "/usr/local/lib/python3.11/dist-packages/sklearn/linear_model/_logistic.py:1211: UserWarning: 'n_jobs' > 1 does not have any effect when 'solver' is set to 'liblinear'. Got 'n_jobs' = 4.\n",
      "  warnings.warn(\n",
      "/usr/local/lib/python3.11/dist-packages/sklearn/linear_model/_logistic.py:1211: UserWarning: 'n_jobs' > 1 does not have any effect when 'solver' is set to 'liblinear'. Got 'n_jobs' = 4.\n",
      "  warnings.warn(\n",
      "[I 2025-07-24 15:55:46,791] Trial 24 finished with value: 0.8405191351601342 and parameters: {'C': 0.3495513290706674, 'solver': 'liblinear', 'penalty': 'l2', 'class_weight': 'balanced'}. Best is trial 16 with value: 0.8409122441900798.\n",
      "[I 2025-07-24 15:55:46,921] Trial 25 finished with value: 0.8403110186148688 and parameters: {'C': 7.2460330928574255, 'solver': 'lbfgs', 'penalty': 'l2', 'class_weight': 'balanced'}. Best is trial 16 with value: 0.8409122441900798.\n",
      "/usr/local/lib/python3.11/dist-packages/sklearn/linear_model/_logistic.py:1211: UserWarning: 'n_jobs' > 1 does not have any effect when 'solver' is set to 'liblinear'. Got 'n_jobs' = 4.\n",
      "  warnings.warn(\n",
      "/usr/local/lib/python3.11/dist-packages/sklearn/linear_model/_logistic.py:1211: UserWarning: 'n_jobs' > 1 does not have any effect when 'solver' is set to 'liblinear'. Got 'n_jobs' = 4.\n",
      "  warnings.warn(\n",
      "/usr/local/lib/python3.11/dist-packages/sklearn/linear_model/_logistic.py:1211: UserWarning: 'n_jobs' > 1 does not have any effect when 'solver' is set to 'liblinear'. Got 'n_jobs' = 4.\n",
      "  warnings.warn(\n",
      "/usr/local/lib/python3.11/dist-packages/sklearn/linear_model/_logistic.py:1211: UserWarning: 'n_jobs' > 1 does not have any effect when 'solver' is set to 'liblinear'. Got 'n_jobs' = 4.\n",
      "  warnings.warn(\n",
      "/usr/local/lib/python3.11/dist-packages/sklearn/linear_model/_logistic.py:1211: UserWarning: 'n_jobs' > 1 does not have any effect when 'solver' is set to 'liblinear'. Got 'n_jobs' = 4.\n",
      "  warnings.warn(\n",
      "[I 2025-07-24 15:55:46,996] Trial 26 finished with value: 0.8403977338420626 and parameters: {'C': 0.06936361448406868, 'solver': 'liblinear', 'penalty': 'l2', 'class_weight': None}. Best is trial 16 with value: 0.8409122441900798.\n",
      "[I 2025-07-24 15:55:47,146] Trial 27 finished with value: 0.8404266389177939 and parameters: {'C': 3.6801950294936527, 'solver': 'lbfgs', 'penalty': 'l2', 'class_weight': 'balanced'}. Best is trial 16 with value: 0.8409122441900798.\n",
      "/usr/local/lib/python3.11/dist-packages/sklearn/linear_model/_logistic.py:1211: UserWarning: 'n_jobs' > 1 does not have any effect when 'solver' is set to 'liblinear'. Got 'n_jobs' = 4.\n",
      "  warnings.warn(\n",
      "/usr/local/lib/python3.11/dist-packages/sklearn/linear_model/_logistic.py:1211: UserWarning: 'n_jobs' > 1 does not have any effect when 'solver' is set to 'liblinear'. Got 'n_jobs' = 4.\n",
      "  warnings.warn(\n",
      "/usr/local/lib/python3.11/dist-packages/sklearn/linear_model/_logistic.py:1211: UserWarning: 'n_jobs' > 1 does not have any effect when 'solver' is set to 'liblinear'. Got 'n_jobs' = 4.\n",
      "  warnings.warn(\n",
      "/usr/local/lib/python3.11/dist-packages/sklearn/linear_model/_logistic.py:1211: UserWarning: 'n_jobs' > 1 does not have any effect when 'solver' is set to 'liblinear'. Got 'n_jobs' = 4.\n",
      "  warnings.warn(\n",
      "/usr/local/lib/python3.11/dist-packages/sklearn/linear_model/_logistic.py:1211: UserWarning: 'n_jobs' > 1 does not have any effect when 'solver' is set to 'liblinear'. Got 'n_jobs' = 4.\n",
      "  warnings.warn(\n",
      "[I 2025-07-24 15:55:47,218] Trial 28 finished with value: 0.8405942883570356 and parameters: {'C': 0.2611999236926497, 'solver': 'liblinear', 'penalty': 'l2', 'class_weight': 'balanced'}. Best is trial 16 with value: 0.8409122441900798.\n",
      "[I 2025-07-24 15:55:47,338] Trial 29 finished with value: 0.8402647704936987 and parameters: {'C': 48.885688992561356, 'solver': 'lbfgs', 'penalty': 'l2', 'class_weight': None}. Best is trial 16 with value: 0.8409122441900798.\n",
      "/usr/local/lib/python3.11/dist-packages/sklearn/linear_model/_logistic.py:1211: UserWarning: 'n_jobs' > 1 does not have any effect when 'solver' is set to 'liblinear'. Got 'n_jobs' = 4.\n",
      "  warnings.warn(\n",
      "/usr/local/lib/python3.11/dist-packages/sklearn/linear_model/_logistic.py:1211: UserWarning: 'n_jobs' > 1 does not have any effect when 'solver' is set to 'liblinear'. Got 'n_jobs' = 4.\n",
      "  warnings.warn(\n",
      "/usr/local/lib/python3.11/dist-packages/sklearn/linear_model/_logistic.py:1211: UserWarning: 'n_jobs' > 1 does not have any effect when 'solver' is set to 'liblinear'. Got 'n_jobs' = 4.\n",
      "  warnings.warn(\n",
      "/usr/local/lib/python3.11/dist-packages/sklearn/linear_model/_logistic.py:1211: UserWarning: 'n_jobs' > 1 does not have any effect when 'solver' is set to 'liblinear'. Got 'n_jobs' = 4.\n",
      "  warnings.warn(\n",
      "/usr/local/lib/python3.11/dist-packages/sklearn/linear_model/_logistic.py:1211: UserWarning: 'n_jobs' > 1 does not have any effect when 'solver' is set to 'liblinear'. Got 'n_jobs' = 4.\n",
      "  warnings.warn(\n",
      "[I 2025-07-24 15:55:47,404] Trial 30 finished with value: 0.8369927159209156 and parameters: {'C': 0.006415856887245095, 'solver': 'liblinear', 'penalty': 'l2', 'class_weight': 'balanced'}. Best is trial 16 with value: 0.8409122441900798.\n",
      "/usr/local/lib/python3.11/dist-packages/sklearn/linear_model/_logistic.py:1211: UserWarning: 'n_jobs' > 1 does not have any effect when 'solver' is set to 'liblinear'. Got 'n_jobs' = 4.\n",
      "  warnings.warn(\n",
      "/usr/local/lib/python3.11/dist-packages/sklearn/linear_model/_logistic.py:1211: UserWarning: 'n_jobs' > 1 does not have any effect when 'solver' is set to 'liblinear'. Got 'n_jobs' = 4.\n",
      "  warnings.warn(\n",
      "/usr/local/lib/python3.11/dist-packages/sklearn/linear_model/_logistic.py:1211: UserWarning: 'n_jobs' > 1 does not have any effect when 'solver' is set to 'liblinear'. Got 'n_jobs' = 4.\n",
      "  warnings.warn(\n",
      "/usr/local/lib/python3.11/dist-packages/sklearn/linear_model/_logistic.py:1211: UserWarning: 'n_jobs' > 1 does not have any effect when 'solver' is set to 'liblinear'. Got 'n_jobs' = 4.\n",
      "  warnings.warn(\n",
      "/usr/local/lib/python3.11/dist-packages/sklearn/linear_model/_logistic.py:1211: UserWarning: 'n_jobs' > 1 does not have any effect when 'solver' is set to 'liblinear'. Got 'n_jobs' = 4.\n",
      "  warnings.warn(\n",
      "[I 2025-07-24 15:55:47,475] Trial 31 finished with value: 0.8409411492658112 and parameters: {'C': 0.12409346307794561, 'solver': 'liblinear', 'penalty': 'l2', 'class_weight': 'balanced'}. Best is trial 31 with value: 0.8409411492658112.\n",
      "/usr/local/lib/python3.11/dist-packages/sklearn/linear_model/_logistic.py:1211: UserWarning: 'n_jobs' > 1 does not have any effect when 'solver' is set to 'liblinear'. Got 'n_jobs' = 4.\n",
      "  warnings.warn(\n",
      "/usr/local/lib/python3.11/dist-packages/sklearn/linear_model/_logistic.py:1211: UserWarning: 'n_jobs' > 1 does not have any effect when 'solver' is set to 'liblinear'. Got 'n_jobs' = 4.\n",
      "  warnings.warn(\n",
      "/usr/local/lib/python3.11/dist-packages/sklearn/linear_model/_logistic.py:1211: UserWarning: 'n_jobs' > 1 does not have any effect when 'solver' is set to 'liblinear'. Got 'n_jobs' = 4.\n",
      "  warnings.warn(\n",
      "/usr/local/lib/python3.11/dist-packages/sklearn/linear_model/_logistic.py:1211: UserWarning: 'n_jobs' > 1 does not have any effect when 'solver' is set to 'liblinear'. Got 'n_jobs' = 4.\n",
      "  warnings.warn(\n",
      "/usr/local/lib/python3.11/dist-packages/sklearn/linear_model/_logistic.py:1211: UserWarning: 'n_jobs' > 1 does not have any effect when 'solver' is set to 'liblinear'. Got 'n_jobs' = 4.\n",
      "  warnings.warn(\n",
      "[I 2025-07-24 15:55:47,544] Trial 32 finished with value: 0.8409295872355186 and parameters: {'C': 0.08869542289335539, 'solver': 'liblinear', 'penalty': 'l2', 'class_weight': 'balanced'}. Best is trial 31 with value: 0.8409411492658112.\n",
      "/usr/local/lib/python3.11/dist-packages/sklearn/linear_model/_logistic.py:1211: UserWarning: 'n_jobs' > 1 does not have any effect when 'solver' is set to 'liblinear'. Got 'n_jobs' = 4.\n",
      "  warnings.warn(\n",
      "/usr/local/lib/python3.11/dist-packages/sklearn/linear_model/_logistic.py:1211: UserWarning: 'n_jobs' > 1 does not have any effect when 'solver' is set to 'liblinear'. Got 'n_jobs' = 4.\n",
      "  warnings.warn(\n",
      "/usr/local/lib/python3.11/dist-packages/sklearn/linear_model/_logistic.py:1211: UserWarning: 'n_jobs' > 1 does not have any effect when 'solver' is set to 'liblinear'. Got 'n_jobs' = 4.\n",
      "  warnings.warn(\n",
      "/usr/local/lib/python3.11/dist-packages/sklearn/linear_model/_logistic.py:1211: UserWarning: 'n_jobs' > 1 does not have any effect when 'solver' is set to 'liblinear'. Got 'n_jobs' = 4.\n",
      "  warnings.warn(\n",
      "/usr/local/lib/python3.11/dist-packages/sklearn/linear_model/_logistic.py:1211: UserWarning: 'n_jobs' > 1 does not have any effect when 'solver' is set to 'liblinear'. Got 'n_jobs' = 4.\n",
      "  warnings.warn(\n",
      "[I 2025-07-24 15:55:47,612] Trial 33 finished with value: 0.8394958954792461 and parameters: {'C': 0.026244937513119234, 'solver': 'liblinear', 'penalty': 'l2', 'class_weight': 'balanced'}. Best is trial 31 with value: 0.8409411492658112.\n",
      "[I 2025-07-24 15:55:47,620] Trial 34 pruned. LBFGS does not support L1 penalty.\n",
      "/usr/local/lib/python3.11/dist-packages/sklearn/linear_model/_logistic.py:1211: UserWarning: 'n_jobs' > 1 does not have any effect when 'solver' is set to 'liblinear'. Got 'n_jobs' = 4.\n",
      "  warnings.warn(\n",
      "/usr/local/lib/python3.11/dist-packages/sklearn/linear_model/_logistic.py:1211: UserWarning: 'n_jobs' > 1 does not have any effect when 'solver' is set to 'liblinear'. Got 'n_jobs' = 4.\n",
      "  warnings.warn(\n",
      "/usr/local/lib/python3.11/dist-packages/sklearn/linear_model/_logistic.py:1211: UserWarning: 'n_jobs' > 1 does not have any effect when 'solver' is set to 'liblinear'. Got 'n_jobs' = 4.\n",
      "  warnings.warn(\n",
      "/usr/local/lib/python3.11/dist-packages/sklearn/linear_model/_logistic.py:1211: UserWarning: 'n_jobs' > 1 does not have any effect when 'solver' is set to 'liblinear'. Got 'n_jobs' = 4.\n",
      "  warnings.warn(\n",
      "/usr/local/lib/python3.11/dist-packages/sklearn/linear_model/_logistic.py:1211: UserWarning: 'n_jobs' > 1 does not have any effect when 'solver' is set to 'liblinear'. Got 'n_jobs' = 4.\n",
      "  warnings.warn(\n",
      "[I 2025-07-24 15:55:47,690] Trial 35 finished with value: 0.8405769453115968 and parameters: {'C': 0.4899714181194749, 'solver': 'liblinear', 'penalty': 'l2', 'class_weight': 'balanced'}. Best is trial 31 with value: 0.8409411492658112.\n",
      "[I 2025-07-24 15:55:47,790] Trial 36 finished with value: 0.8393109029945658 and parameters: {'C': 0.018063000942873175, 'solver': 'lbfgs', 'penalty': 'l2', 'class_weight': None}. Best is trial 31 with value: 0.8409411492658112.\n",
      "/usr/local/lib/python3.11/dist-packages/sklearn/linear_model/_logistic.py:1211: UserWarning: 'n_jobs' > 1 does not have any effect when 'solver' is set to 'liblinear'. Got 'n_jobs' = 4.\n",
      "  warnings.warn(\n",
      "/usr/local/lib/python3.11/dist-packages/sklearn/linear_model/_logistic.py:1211: UserWarning: 'n_jobs' > 1 does not have any effect when 'solver' is set to 'liblinear'. Got 'n_jobs' = 4.\n",
      "  warnings.warn(\n",
      "/usr/local/lib/python3.11/dist-packages/sklearn/linear_model/_logistic.py:1211: UserWarning: 'n_jobs' > 1 does not have any effect when 'solver' is set to 'liblinear'. Got 'n_jobs' = 4.\n",
      "  warnings.warn(\n",
      "/usr/local/lib/python3.11/dist-packages/sklearn/linear_model/_logistic.py:1211: UserWarning: 'n_jobs' > 1 does not have any effect when 'solver' is set to 'liblinear'. Got 'n_jobs' = 4.\n",
      "  warnings.warn(\n",
      "/usr/local/lib/python3.11/dist-packages/sklearn/linear_model/_logistic.py:1211: UserWarning: 'n_jobs' > 1 does not have any effect when 'solver' is set to 'liblinear'. Got 'n_jobs' = 4.\n",
      "  warnings.warn(\n",
      "[I 2025-07-24 15:55:47,880] Trial 37 finished with value: 0.8402647704936987 and parameters: {'C': 13.872821696748519, 'solver': 'liblinear', 'penalty': 'l1', 'class_weight': None}. Best is trial 31 with value: 0.8409411492658112.\n",
      "[I 2025-07-24 15:55:47,980] Trial 38 finished with value: 0.8384321886923344 and parameters: {'C': 0.011122723046533875, 'solver': 'lbfgs', 'penalty': 'l2', 'class_weight': 'balanced'}. Best is trial 31 with value: 0.8409411492658112.\n",
      "/usr/local/lib/python3.11/dist-packages/sklearn/linear_model/_logistic.py:1211: UserWarning: 'n_jobs' > 1 does not have any effect when 'solver' is set to 'liblinear'. Got 'n_jobs' = 4.\n",
      "  warnings.warn(\n",
      "/usr/local/lib/python3.11/dist-packages/sklearn/linear_model/_logistic.py:1211: UserWarning: 'n_jobs' > 1 does not have any effect when 'solver' is set to 'liblinear'. Got 'n_jobs' = 4.\n",
      "  warnings.warn(\n",
      "/usr/local/lib/python3.11/dist-packages/sklearn/linear_model/_logistic.py:1211: UserWarning: 'n_jobs' > 1 does not have any effect when 'solver' is set to 'liblinear'. Got 'n_jobs' = 4.\n",
      "  warnings.warn(\n",
      "/usr/local/lib/python3.11/dist-packages/sklearn/linear_model/_logistic.py:1211: UserWarning: 'n_jobs' > 1 does not have any effect when 'solver' is set to 'liblinear'. Got 'n_jobs' = 4.\n",
      "  warnings.warn(\n",
      "/usr/local/lib/python3.11/dist-packages/sklearn/linear_model/_logistic.py:1211: UserWarning: 'n_jobs' > 1 does not have any effect when 'solver' is set to 'liblinear'. Got 'n_jobs' = 4.\n",
      "  warnings.warn(\n",
      "[I 2025-07-24 15:55:48,041] Trial 39 finished with value: 0.8347439010290205 and parameters: {'C': 0.003207440984378182, 'solver': 'liblinear', 'penalty': 'l2', 'class_weight': None}. Best is trial 31 with value: 0.8409411492658112.\n",
      "[I 2025-07-24 15:55:48,051] Trial 40 pruned. LBFGS does not support L1 penalty.\n",
      "/usr/local/lib/python3.11/dist-packages/sklearn/linear_model/_logistic.py:1211: UserWarning: 'n_jobs' > 1 does not have any effect when 'solver' is set to 'liblinear'. Got 'n_jobs' = 4.\n",
      "  warnings.warn(\n",
      "/usr/local/lib/python3.11/dist-packages/sklearn/linear_model/_logistic.py:1211: UserWarning: 'n_jobs' > 1 does not have any effect when 'solver' is set to 'liblinear'. Got 'n_jobs' = 4.\n",
      "  warnings.warn(\n",
      "/usr/local/lib/python3.11/dist-packages/sklearn/linear_model/_logistic.py:1211: UserWarning: 'n_jobs' > 1 does not have any effect when 'solver' is set to 'liblinear'. Got 'n_jobs' = 4.\n",
      "  warnings.warn(\n",
      "/usr/local/lib/python3.11/dist-packages/sklearn/linear_model/_logistic.py:1211: UserWarning: 'n_jobs' > 1 does not have any effect when 'solver' is set to 'liblinear'. Got 'n_jobs' = 4.\n",
      "  warnings.warn(\n",
      "/usr/local/lib/python3.11/dist-packages/sklearn/linear_model/_logistic.py:1211: UserWarning: 'n_jobs' > 1 does not have any effect when 'solver' is set to 'liblinear'. Got 'n_jobs' = 4.\n",
      "  warnings.warn(\n",
      "[I 2025-07-24 15:55:48,122] Trial 41 finished with value: 0.8409931784021275 and parameters: {'C': 0.12022212229530736, 'solver': 'liblinear', 'penalty': 'l2', 'class_weight': 'balanced'}. Best is trial 41 with value: 0.8409931784021275.\n",
      "/usr/local/lib/python3.11/dist-packages/sklearn/linear_model/_logistic.py:1211: UserWarning: 'n_jobs' > 1 does not have any effect when 'solver' is set to 'liblinear'. Got 'n_jobs' = 4.\n",
      "  warnings.warn(\n",
      "/usr/local/lib/python3.11/dist-packages/sklearn/linear_model/_logistic.py:1211: UserWarning: 'n_jobs' > 1 does not have any effect when 'solver' is set to 'liblinear'. Got 'n_jobs' = 4.\n",
      "  warnings.warn(\n",
      "/usr/local/lib/python3.11/dist-packages/sklearn/linear_model/_logistic.py:1211: UserWarning: 'n_jobs' > 1 does not have any effect when 'solver' is set to 'liblinear'. Got 'n_jobs' = 4.\n",
      "  warnings.warn(\n",
      "/usr/local/lib/python3.11/dist-packages/sklearn/linear_model/_logistic.py:1211: UserWarning: 'n_jobs' > 1 does not have any effect when 'solver' is set to 'liblinear'. Got 'n_jobs' = 4.\n",
      "  warnings.warn(\n",
      "/usr/local/lib/python3.11/dist-packages/sklearn/linear_model/_logistic.py:1211: UserWarning: 'n_jobs' > 1 does not have any effect when 'solver' is set to 'liblinear'. Got 'n_jobs' = 4.\n",
      "  warnings.warn(\n",
      "[I 2025-07-24 15:55:48,188] Trial 42 finished with value: 0.839871661463753 and parameters: {'C': 0.03981262074236585, 'solver': 'liblinear', 'penalty': 'l2', 'class_weight': 'balanced'}. Best is trial 41 with value: 0.8409931784021275.\n",
      "/usr/local/lib/python3.11/dist-packages/sklearn/linear_model/_logistic.py:1211: UserWarning: 'n_jobs' > 1 does not have any effect when 'solver' is set to 'liblinear'. Got 'n_jobs' = 4.\n",
      "  warnings.warn(\n",
      "/usr/local/lib/python3.11/dist-packages/sklearn/linear_model/_logistic.py:1211: UserWarning: 'n_jobs' > 1 does not have any effect when 'solver' is set to 'liblinear'. Got 'n_jobs' = 4.\n",
      "  warnings.warn(\n",
      "/usr/local/lib/python3.11/dist-packages/sklearn/linear_model/_logistic.py:1211: UserWarning: 'n_jobs' > 1 does not have any effect when 'solver' is set to 'liblinear'. Got 'n_jobs' = 4.\n",
      "  warnings.warn(\n",
      "/usr/local/lib/python3.11/dist-packages/sklearn/linear_model/_logistic.py:1211: UserWarning: 'n_jobs' > 1 does not have any effect when 'solver' is set to 'liblinear'. Got 'n_jobs' = 4.\n",
      "  warnings.warn(\n",
      "/usr/local/lib/python3.11/dist-packages/sklearn/linear_model/_logistic.py:1211: UserWarning: 'n_jobs' > 1 does not have any effect when 'solver' is set to 'liblinear'. Got 'n_jobs' = 4.\n",
      "  warnings.warn(\n",
      "[I 2025-07-24 15:55:48,262] Trial 43 finished with value: 0.8408949011446409 and parameters: {'C': 0.11082995463358654, 'solver': 'liblinear', 'penalty': 'l2', 'class_weight': 'balanced'}. Best is trial 41 with value: 0.8409931784021275.\n",
      "/usr/local/lib/python3.11/dist-packages/sklearn/linear_model/_logistic.py:1211: UserWarning: 'n_jobs' > 1 does not have any effect when 'solver' is set to 'liblinear'. Got 'n_jobs' = 4.\n",
      "  warnings.warn(\n",
      "/usr/local/lib/python3.11/dist-packages/sklearn/linear_model/_logistic.py:1211: UserWarning: 'n_jobs' > 1 does not have any effect when 'solver' is set to 'liblinear'. Got 'n_jobs' = 4.\n",
      "  warnings.warn(\n",
      "/usr/local/lib/python3.11/dist-packages/sklearn/linear_model/_logistic.py:1211: UserWarning: 'n_jobs' > 1 does not have any effect when 'solver' is set to 'liblinear'. Got 'n_jobs' = 4.\n",
      "  warnings.warn(\n",
      "/usr/local/lib/python3.11/dist-packages/sklearn/linear_model/_logistic.py:1211: UserWarning: 'n_jobs' > 1 does not have any effect when 'solver' is set to 'liblinear'. Got 'n_jobs' = 4.\n",
      "  warnings.warn(\n",
      "/usr/local/lib/python3.11/dist-packages/sklearn/linear_model/_logistic.py:1211: UserWarning: 'n_jobs' > 1 does not have any effect when 'solver' is set to 'liblinear'. Got 'n_jobs' = 4.\n",
      "  warnings.warn(\n",
      "[I 2025-07-24 15:55:48,336] Trial 44 finished with value: 0.8405364782055729 and parameters: {'C': 1.5134970255565365, 'solver': 'liblinear', 'penalty': 'l2', 'class_weight': 'balanced'}. Best is trial 41 with value: 0.8409931784021275.\n",
      "/usr/local/lib/python3.11/dist-packages/sklearn/linear_model/_logistic.py:1211: UserWarning: 'n_jobs' > 1 does not have any effect when 'solver' is set to 'liblinear'. Got 'n_jobs' = 4.\n",
      "  warnings.warn(\n",
      "/usr/local/lib/python3.11/dist-packages/sklearn/linear_model/_logistic.py:1211: UserWarning: 'n_jobs' > 1 does not have any effect when 'solver' is set to 'liblinear'. Got 'n_jobs' = 4.\n",
      "  warnings.warn(\n",
      "/usr/local/lib/python3.11/dist-packages/sklearn/linear_model/_logistic.py:1211: UserWarning: 'n_jobs' > 1 does not have any effect when 'solver' is set to 'liblinear'. Got 'n_jobs' = 4.\n",
      "  warnings.warn(\n",
      "/usr/local/lib/python3.11/dist-packages/sklearn/linear_model/_logistic.py:1211: UserWarning: 'n_jobs' > 1 does not have any effect when 'solver' is set to 'liblinear'. Got 'n_jobs' = 4.\n",
      "  warnings.warn(\n",
      "/usr/local/lib/python3.11/dist-packages/sklearn/linear_model/_logistic.py:1211: UserWarning: 'n_jobs' > 1 does not have any effect when 'solver' is set to 'liblinear'. Got 'n_jobs' = 4.\n",
      "  warnings.warn(\n",
      "[I 2025-07-24 15:55:48,409] Trial 45 finished with value: 0.8405711642964505 and parameters: {'C': 0.5543825855862359, 'solver': 'liblinear', 'penalty': 'l2', 'class_weight': 'balanced'}. Best is trial 41 with value: 0.8409931784021275.\n",
      "/usr/local/lib/python3.11/dist-packages/sklearn/linear_model/_logistic.py:1211: UserWarning: 'n_jobs' > 1 does not have any effect when 'solver' is set to 'liblinear'. Got 'n_jobs' = 4.\n",
      "  warnings.warn(\n",
      "/usr/local/lib/python3.11/dist-packages/sklearn/linear_model/_logistic.py:1211: UserWarning: 'n_jobs' > 1 does not have any effect when 'solver' is set to 'liblinear'. Got 'n_jobs' = 4.\n",
      "  warnings.warn(\n",
      "/usr/local/lib/python3.11/dist-packages/sklearn/linear_model/_logistic.py:1211: UserWarning: 'n_jobs' > 1 does not have any effect when 'solver' is set to 'liblinear'. Got 'n_jobs' = 4.\n",
      "  warnings.warn(\n",
      "/usr/local/lib/python3.11/dist-packages/sklearn/linear_model/_logistic.py:1211: UserWarning: 'n_jobs' > 1 does not have any effect when 'solver' is set to 'liblinear'. Got 'n_jobs' = 4.\n",
      "  warnings.warn(\n",
      "/usr/local/lib/python3.11/dist-packages/sklearn/linear_model/_logistic.py:1211: UserWarning: 'n_jobs' > 1 does not have any effect when 'solver' is set to 'liblinear'. Got 'n_jobs' = 4.\n",
      "  warnings.warn(\n",
      "[I 2025-07-24 15:55:48,484] Trial 46 finished with value: 0.8399121285697768 and parameters: {'C': 0.032488071024522024, 'solver': 'liblinear', 'penalty': 'l2', 'class_weight': 'balanced'}. Best is trial 41 with value: 0.8409931784021275.\n",
      "[I 2025-07-24 15:55:48,648] Trial 47 finished with value: 0.8409238062203723 and parameters: {'C': 0.08918046444322612, 'solver': 'saga', 'penalty': 'l2', 'class_weight': 'balanced'}. Best is trial 41 with value: 0.8409931784021275.\n",
      "[I 2025-07-24 15:55:48,816] Trial 48 finished with value: 0.8023644351948201 and parameters: {'C': 0.012978308954542371, 'solver': 'saga', 'penalty': 'l1', 'class_weight': 'balanced'}. Best is trial 41 with value: 0.8409931784021275.\n",
      "[I 2025-07-24 15:55:48,982] Trial 49 finished with value: 0.8405017921146953 and parameters: {'C': 0.8120228363953476, 'solver': 'saga', 'penalty': 'l2', 'class_weight': 'balanced'}. Best is trial 41 with value: 0.8409931784021275.\n"
     ]
    },
    {
     "name": "stdout",
     "output_type": "stream",
     "text": [
      "Optimization finished.\n",
      "Number of finished trials: 50\n",
      "Best Logistic Regression trial (from cross-validation on X_train_scaled):\n",
      "  Value (Mean ROC AUC): 0.8410\n",
      "  Best hyperparameters:\n",
      "    C: 0.12022212229530736\n",
      "    solver: liblinear\n",
      "    penalty: l2\n",
      "    class_weight: balanced\n"
     ]
    }
   ],
   "source": [
    "study = optuna.create_study(direction='maximize')\n",
    "\n",
    "print(\"Starting Logistic Regression hyperparameter optimization with Optuna and K-Fold Cross-Validation on X_train_scaled...\")\n",
    "study.optimize(objective, n_trials=50)\n",
    "\n",
    "print(\"Optimization finished.\")\n",
    "print(f\"Number of finished trials: {len(study.trials)}\")\n",
    "\n",
    "print(\"Best Logistic Regression trial (from cross-validation on X_train_scaled):\")\n",
    "trial = study.best_trial\n",
    "\n",
    "print(f\"  Value (Mean ROC AUC): {trial.value:.4f}\")\n",
    "print(\"  Best hyperparameters:\")\n",
    "for key, value in trial.params.items():\n",
    "    print(f\"    {key}: {value}\")"
   ]
  },
  {
   "cell_type": "code",
   "execution_count": 54,
   "id": "ce953e8d",
   "metadata": {
    "execution": {
     "iopub.execute_input": "2025-07-24T15:55:49.046504Z",
     "iopub.status.busy": "2025-07-24T15:55:49.046184Z",
     "iopub.status.idle": "2025-07-24T15:55:49.075080Z",
     "shell.execute_reply": "2025-07-24T15:55:49.073777Z"
    },
    "papermill": {
     "duration": 0.056028,
     "end_time": "2025-07-24T15:55:49.076803",
     "exception": false,
     "start_time": "2025-07-24T15:55:49.020775",
     "status": "completed"
    },
    "tags": []
   },
   "outputs": [
    {
     "name": "stdout",
     "output_type": "stream",
     "text": [
      "--- Final Model Training and Evaluation ---\n",
      "Final Model ROC AUC on X_test_scaled: 0.8204\n",
      "--- Classification Report on X_test_scaled ---\n",
      "              precision    recall  f1-score   support\n",
      "\n",
      "           0       0.93      0.78      0.85       303\n",
      "           1       0.41      0.71      0.52        65\n",
      "\n",
      "    accuracy                           0.77       368\n",
      "   macro avg       0.67      0.74      0.68       368\n",
      "weighted avg       0.83      0.77      0.79       368\n",
      "\n"
     ]
    }
   ],
   "source": [
    "print(\"--- Final Model Training and Evaluation ---\")\n",
    "best_params = study.best_trial.params\n",
    "if best_params.get('solver') != 'saga' or best_params.get('penalty') != 'elasticnet':\n",
    "    best_params.pop('l1_ratio', None)\n",
    "\n",
    "final_classifier = LogisticRegression(\n",
    "    **best_params,\n",
    "    random_state=42,\n",
    "    max_iter=1000\n",
    ")\n",
    "\n",
    "final_classifier.fit(X_train_scaled, y_train)\n",
    "\n",
    "y_pred_proba_final_test = final_classifier.predict_proba(X_test_scaled)[:, 1]\n",
    "final_roc_auc_test = roc_auc_score(y_test, y_pred_proba_final_test)\n",
    "\n",
    "print(f\"Final Model ROC AUC on X_test_scaled: {final_roc_auc_test:.4f}\")\n",
    "\n",
    "\n",
    "print(\"--- Classification Report on X_test_scaled ---\")\n",
    "y_pred_final_test = final_classifier.predict(X_test_scaled)\n",
    "print(classification_report(y_test, y_pred_final_test))"
   ]
  },
  {
   "cell_type": "markdown",
   "id": "d5945331",
   "metadata": {
    "papermill": {
     "duration": 0.024241,
     "end_time": "2025-07-24T15:55:49.125846",
     "exception": false,
     "start_time": "2025-07-24T15:55:49.101605",
     "status": "completed"
    },
    "tags": []
   },
   "source": [
    "**Conclusion:** With the above trained logistic regression model, we have achieved an ROC of 83.57% and 72% recall for class 1 predicitions with 77% as the weighted average for recall."
   ]
  }
 ],
 "metadata": {
  "kaggle": {
   "accelerator": "none",
   "dataSources": [
    {
     "datasetId": 2480666,
     "sourceId": 4207867,
     "sourceType": "datasetVersion"
    }
   ],
   "dockerImageVersionId": 31040,
   "isGpuEnabled": false,
   "isInternetEnabled": false,
   "language": "python",
   "sourceType": "notebook"
  },
  "kernelspec": {
   "display_name": "Python 3",
   "language": "python",
   "name": "python3"
  },
  "language_info": {
   "codemirror_mode": {
    "name": "ipython",
    "version": 3
   },
   "file_extension": ".py",
   "mimetype": "text/x-python",
   "name": "python",
   "nbconvert_exporter": "python",
   "pygments_lexer": "ipython3",
   "version": "3.11.11"
  },
  "papermill": {
   "default_parameters": {},
   "duration": 28.484343,
   "end_time": "2025-07-24T15:55:51.771380",
   "environment_variables": {},
   "exception": null,
   "input_path": "__notebook__.ipynb",
   "output_path": "__notebook__.ipynb",
   "parameters": {},
   "start_time": "2025-07-24T15:55:23.287037",
   "version": "2.6.0"
  }
 },
 "nbformat": 4,
 "nbformat_minor": 5
}
